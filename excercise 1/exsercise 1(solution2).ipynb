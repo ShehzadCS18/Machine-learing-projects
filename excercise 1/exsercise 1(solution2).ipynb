{
 "cells": [
  {
   "cell_type": "code",
   "execution_count": 1,
   "id": "cf54c534",
   "metadata": {},
   "outputs": [],
   "source": [
    "import torch\n",
    "import torch.nn as nn\n",
    "import numpy as np\n",
    "import matplotlib.pyplot as plt\n",
    "from sklearn.model_selection import train_test_split"
   ]
  },
  {
   "cell_type": "code",
   "execution_count": 3,
   "id": "556128d3",
   "metadata": {},
   "outputs": [],
   "source": [
    "x=np.loadtxt('ex2x.dat')"
   ]
  },
  {
   "cell_type": "code",
   "execution_count": 4,
   "id": "efc2cece",
   "metadata": {},
   "outputs": [
    {
     "name": "stdout",
     "output_type": "stream",
     "text": [
      "[2.0658746 2.3684087 2.5399929 2.5420804 2.549079  2.7866882 2.9116825\n",
      " 3.035627  3.1146696 3.1582389 3.3275944 3.3793165 3.4122006 3.4215823\n",
      " 3.5315732 3.6393002 3.6732537 3.9256462 4.0498646 4.2483348 4.3440052\n",
      " 4.3826531 4.4230602 4.6102443 4.6881183 4.9777333 5.0359967 5.0684536\n",
      " 5.4161491 5.4395623 5.4563207 5.5698458 5.6015729 5.6877617 5.7215602\n",
      " 5.8538914 6.1978026 6.3510941 6.4797033 6.7383791 6.8637686 7.0223387\n",
      " 7.0782373 7.1514232 7.4664023 7.5973874 7.7440717 7.7729662 7.8264514\n",
      " 7.9306356]\n",
      "50\n"
     ]
    }
   ],
   "source": [
    "print(x)\n",
    "print(len(x))"
   ]
  },
  {
   "cell_type": "code",
   "execution_count": 5,
   "id": "7f7acf03",
   "metadata": {},
   "outputs": [],
   "source": [
    "y=np.loadtxt('ex2y.dat')"
   ]
  },
  {
   "cell_type": "code",
   "execution_count": 6,
   "id": "44c92914",
   "metadata": {},
   "outputs": [
    {
     "name": "stdout",
     "output_type": "stream",
     "text": [
      "[0.77918926 0.91596757 0.90538354 0.90566138 0.9389889  0.9668474\n",
      " 0.96436824 0.91445939 0.93933944 0.96074971 0.89837094 0.91209739\n",
      " 0.94238499 0.96624578 1.05265    1.0143791  0.95969426 0.96853716\n",
      " 1.0766065  1.1454978  1.0340625  1.0070009  0.96683648 1.0895919\n",
      " 1.0634462  1.1237239  1.0323374  1.0874452  1.0702988  1.1606493\n",
      " 1.0778037  1.1069758  1.0971875  1.1648603  1.1411796  1.0844156\n",
      " 1.1252493  1.1168341  1.1970789  1.2069462  1.1251046  1.1235672\n",
      " 1.2132829  1.2522652  1.2497065  1.1799706  1.1897299  1.3029934\n",
      " 1.2601134  1.2562267 ]\n",
      "50\n",
      "(50,)\n"
     ]
    }
   ],
   "source": [
    "print(y)\n",
    "print(len(y))\n",
    "print(y.shape)"
   ]
  },
  {
   "cell_type": "code",
   "execution_count": 7,
   "id": "8a07b209",
   "metadata": {},
   "outputs": [
    {
     "data": {
      "image/png": "[encoded data removed]",
      "text/plain": [
       "<Figure size 432x288 with 1 Axes>"
      ]
     },
     "metadata": {
      "needs_background": "light"
     },
     "output_type": "display_data"
    }
   ],
   "source": [
    "plt.plot(x,y,'r.')\n",
    "plt.xlabel(\"Age between 2----8 years\")\n",
    "plt.ylabel(\"Hieght in meter\")\n",
    "plt.show()"
   ]
  },
  {
   "cell_type": "code",
   "execution_count": 8,
   "id": "7f56743a",
   "metadata": {},
   "outputs": [],
   "source": [
    "x_train,x_test,y_train,y_test=train_test_split(x,y,test_size=0.1,random_state=1)"
   ]
  },
  {
   "cell_type": "code",
   "execution_count": 9,
   "id": "9d5319fb",
   "metadata": {},
   "outputs": [
    {
     "data": {
      "text/plain": [
       "(45,)"
      ]
     },
     "execution_count": 9,
     "metadata": {},
     "output_type": "execute_result"
    }
   ],
   "source": [
    "x_train.shape"
   ]
  },
  {
   "cell_type": "code",
   "execution_count": 10,
   "id": "9bca1eb2",
   "metadata": {},
   "outputs": [
    {
     "data": {
      "text/plain": [
       "(45,)"
      ]
     },
     "execution_count": 10,
     "metadata": {},
     "output_type": "execute_result"
    }
   ],
   "source": [
    "y_train.shape"
   ]
  },
  {
   "cell_type": "code",
   "execution_count": 11,
   "id": "89397467",
   "metadata": {},
   "outputs": [
    {
     "data": {
      "text/plain": [
       "(5,)"
      ]
     },
     "execution_count": 11,
     "metadata": {},
     "output_type": "execute_result"
    }
   ],
   "source": [
    "x_test.shape"
   ]
  },
  {
   "cell_type": "code",
   "execution_count": 12,
   "id": "e23563b5",
   "metadata": {},
   "outputs": [
    {
     "data": {
      "text/plain": [
       "(5,)"
      ]
     },
     "execution_count": 12,
     "metadata": {},
     "output_type": "execute_result"
    }
   ],
   "source": [
    "y_test.shape"
   ]
  },
  {
   "cell_type": "code",
   "execution_count": 13,
   "id": "a6c0ec9c",
   "metadata": {},
   "outputs": [
    {
     "data": {
      "text/plain": [
       "tensor([[[0.9057]],\n",
       "\n",
       "        [[1.2601]],\n",
       "\n",
       "        [[1.1606]],\n",
       "\n",
       "        [[1.1897]],\n",
       "\n",
       "        [[1.1070]],\n",
       "\n",
       "        [[1.0972]],\n",
       "\n",
       "        [[1.2069]],\n",
       "\n",
       "        [[1.0070]],\n",
       "\n",
       "        [[1.1252]],\n",
       "\n",
       "        [[1.1455]],\n",
       "\n",
       "        [[1.2133]],\n",
       "\n",
       "        [[1.2562]],\n",
       "\n",
       "        [[1.0323]],\n",
       "\n",
       "        [[0.9668]],\n",
       "\n",
       "        [[0.9662]],\n",
       "\n",
       "        [[1.1236]],\n",
       "\n",
       "        [[0.9685]],\n",
       "\n",
       "        [[1.1800]],\n",
       "\n",
       "        [[1.0634]],\n",
       "\n",
       "        [[1.0896]],\n",
       "\n",
       "        [[0.9390]],\n",
       "\n",
       "        [[1.1649]],\n",
       "\n",
       "        [[1.0526]],\n",
       "\n",
       "        [[1.0778]],\n",
       "\n",
       "        [[0.8984]],\n",
       "\n",
       "        [[1.0703]],\n",
       "\n",
       "        [[1.2497]],\n",
       "\n",
       "        [[1.1412]],\n",
       "\n",
       "        [[1.0766]],\n",
       "\n",
       "        [[1.0341]],\n",
       "\n",
       "        [[1.1237]],\n",
       "\n",
       "        [[0.9644]],\n",
       "\n",
       "        [[0.9145]],\n",
       "\n",
       "        [[1.3030]],\n",
       "\n",
       "        [[0.9160]],\n",
       "\n",
       "        [[0.9597]],\n",
       "\n",
       "        [[0.7792]],\n",
       "\n",
       "        [[1.0144]],\n",
       "\n",
       "        [[0.9668]],\n",
       "\n",
       "        [[0.9121]],\n",
       "\n",
       "        [[0.9607]],\n",
       "\n",
       "        [[0.9393]],\n",
       "\n",
       "        [[0.9424]],\n",
       "\n",
       "        [[1.2523]],\n",
       "\n",
       "        [[1.1168]]])"
      ]
     },
     "execution_count": 13,
     "metadata": {},
     "output_type": "execute_result"
    }
   ],
   "source": [
    "X_train=torch.from_numpy(x_train.astype(np.float32))\n",
    "X_test=torch.from_numpy(x_test.astype(np.float32))\n",
    "\n",
    "Y_train=torch.from_numpy(y_train.astype(np.float32))\n",
    "Y_test=torch.from_numpy(y_test.astype(np.float32))\n",
    "Y_train=Y_train.view(Y_train.shape[0],1)\n",
    "Y_test=Y_test.view(Y_test.shape[0],1)\n",
    "X_train.unsqueeze_(1)\n",
    "Y_train.unsqueeze_(1)"
   ]
  },
  {
   "cell_type": "code",
   "execution_count": 14,
   "id": "bf0db43c",
   "metadata": {},
   "outputs": [
    {
     "name": "stdout",
     "output_type": "stream",
     "text": [
      "1\n"
     ]
    }
   ],
   "source": [
    "#input_size=X_train.shape\n",
    "output_size=1\n",
    "input_size=1\n",
    "print(input_size)"
   ]
  },
  {
   "cell_type": "code",
   "execution_count": 15,
   "id": "7cdd5dc8",
   "metadata": {},
   "outputs": [],
   "source": [
    "#model creation\n",
    "model=nn.Linear(input_size,output_size)"
   ]
  },
  {
   "cell_type": "code",
   "execution_count": 16,
   "id": "e1d35afe",
   "metadata": {},
   "outputs": [],
   "source": [
    "#loss function\n",
    "loss=nn.MSELoss()"
   ]
  },
  {
   "cell_type": "code",
   "execution_count": 17,
   "id": "5a1be16e",
   "metadata": {},
   "outputs": [],
   "source": [
    "optimizer=torch.optim.SGD(model.parameters(),lr=0.01)\n"
   ]
  },
  {
   "cell_type": "code",
   "execution_count": 18,
   "id": "f915c47f",
   "metadata": {},
   "outputs": [
    {
     "name": "stderr",
     "output_type": "stream",
     "text": [
      "C:\\Users\\shehz\\Desktop\\new enviroment\\envir1\\lib\\site-packages\\torch\\nn\\modules\\loss.py:529: UserWarning: Using a target size (torch.Size([45, 1])) that is different to the input size (torch.Size([45, 1, 1])). This will likely lead to incorrect results due to broadcasting. Please ensure they have the same size.\n",
      "  return F.mse_loss(input, target, reduction=self.reduction)\n"
     ]
    },
    {
     "name": "stdout",
     "output_type": "stream",
     "text": [
      "epoch1: w=-0.343,loss=23.388\n",
      "epoch2: w=-0.119,loss=4.707\n",
      "epoch3: w=-0.019,loss=0.964\n",
      "epoch4: w=0.025,loss=0.215\n",
      "epoch5: w=0.045,loss=0.065\n",
      "epoch6: w=0.054,loss=0.034\n",
      "epoch7: w=0.058,loss=0.028\n",
      "epoch8: w=0.060,loss=0.027\n",
      "epoch9: w=0.060,loss=0.027\n",
      "epoch10: w=0.060,loss=0.027\n",
      "epoch11: w=0.061,loss=0.027\n",
      "epoch12: w=0.060,loss=0.027\n",
      "epoch13: w=0.060,loss=0.027\n",
      "epoch14: w=0.060,loss=0.026\n",
      "epoch15: w=0.060,loss=0.026\n",
      "epoch16: w=0.060,loss=0.026\n",
      "epoch17: w=0.060,loss=0.026\n",
      "epoch18: w=0.060,loss=0.026\n",
      "epoch19: w=0.060,loss=0.026\n",
      "epoch20: w=0.059,loss=0.026\n",
      "epoch21: w=0.059,loss=0.026\n",
      "epoch22: w=0.059,loss=0.026\n",
      "epoch23: w=0.059,loss=0.026\n",
      "epoch24: w=0.059,loss=0.026\n",
      "epoch25: w=0.059,loss=0.026\n",
      "epoch26: w=0.059,loss=0.026\n",
      "epoch27: w=0.059,loss=0.026\n",
      "epoch28: w=0.058,loss=0.026\n",
      "epoch29: w=0.058,loss=0.026\n",
      "epoch30: w=0.058,loss=0.026\n",
      "epoch31: w=0.058,loss=0.026\n",
      "epoch32: w=0.058,loss=0.026\n",
      "epoch33: w=0.058,loss=0.026\n",
      "epoch34: w=0.058,loss=0.025\n",
      "epoch35: w=0.058,loss=0.025\n",
      "epoch36: w=0.057,loss=0.025\n",
      "epoch37: w=0.057,loss=0.025\n",
      "epoch38: w=0.057,loss=0.025\n",
      "epoch39: w=0.057,loss=0.025\n",
      "epoch40: w=0.057,loss=0.025\n",
      "epoch41: w=0.057,loss=0.025\n",
      "epoch42: w=0.057,loss=0.025\n",
      "epoch43: w=0.057,loss=0.025\n",
      "epoch44: w=0.056,loss=0.025\n",
      "epoch45: w=0.056,loss=0.025\n",
      "epoch46: w=0.056,loss=0.025\n",
      "epoch47: w=0.056,loss=0.025\n",
      "epoch48: w=0.056,loss=0.025\n",
      "epoch49: w=0.056,loss=0.025\n",
      "epoch50: w=0.056,loss=0.025\n",
      "epoch51: w=0.056,loss=0.025\n",
      "epoch52: w=0.056,loss=0.025\n",
      "epoch53: w=0.055,loss=0.025\n",
      "epoch54: w=0.055,loss=0.025\n",
      "epoch55: w=0.055,loss=0.025\n",
      "epoch56: w=0.055,loss=0.024\n",
      "epoch57: w=0.055,loss=0.024\n",
      "epoch58: w=0.055,loss=0.024\n",
      "epoch59: w=0.055,loss=0.024\n",
      "epoch60: w=0.055,loss=0.024\n",
      "epoch61: w=0.054,loss=0.024\n",
      "epoch62: w=0.054,loss=0.024\n",
      "epoch63: w=0.054,loss=0.024\n",
      "epoch64: w=0.054,loss=0.024\n",
      "epoch65: w=0.054,loss=0.024\n",
      "epoch66: w=0.054,loss=0.024\n",
      "epoch67: w=0.054,loss=0.024\n",
      "epoch68: w=0.054,loss=0.024\n",
      "epoch69: w=0.054,loss=0.024\n",
      "epoch70: w=0.053,loss=0.024\n",
      "epoch71: w=0.053,loss=0.024\n",
      "epoch72: w=0.053,loss=0.024\n",
      "epoch73: w=0.053,loss=0.024\n",
      "epoch74: w=0.053,loss=0.024\n",
      "epoch75: w=0.053,loss=0.024\n",
      "epoch76: w=0.053,loss=0.024\n",
      "epoch77: w=0.053,loss=0.024\n",
      "epoch78: w=0.053,loss=0.024\n",
      "epoch79: w=0.052,loss=0.024\n",
      "epoch80: w=0.052,loss=0.023\n",
      "epoch81: w=0.052,loss=0.023\n",
      "epoch82: w=0.052,loss=0.023\n",
      "epoch83: w=0.052,loss=0.023\n",
      "epoch84: w=0.052,loss=0.023\n",
      "epoch85: w=0.052,loss=0.023\n",
      "epoch86: w=0.052,loss=0.023\n",
      "epoch87: w=0.052,loss=0.023\n",
      "epoch88: w=0.051,loss=0.023\n",
      "epoch89: w=0.051,loss=0.023\n",
      "epoch90: w=0.051,loss=0.023\n",
      "epoch91: w=0.051,loss=0.023\n",
      "epoch92: w=0.051,loss=0.023\n",
      "epoch93: w=0.051,loss=0.023\n",
      "epoch94: w=0.051,loss=0.023\n",
      "epoch95: w=0.051,loss=0.023\n",
      "epoch96: w=0.051,loss=0.023\n",
      "epoch97: w=0.050,loss=0.023\n",
      "epoch98: w=0.050,loss=0.023\n",
      "epoch99: w=0.050,loss=0.023\n",
      "epoch100: w=0.050,loss=0.023\n",
      "epoch101: w=0.050,loss=0.023\n",
      "epoch102: w=0.050,loss=0.023\n",
      "epoch103: w=0.050,loss=0.023\n",
      "epoch104: w=0.050,loss=0.023\n",
      "epoch105: w=0.050,loss=0.023\n",
      "epoch106: w=0.049,loss=0.023\n",
      "epoch107: w=0.049,loss=0.022\n",
      "epoch108: w=0.049,loss=0.022\n",
      "epoch109: w=0.049,loss=0.022\n",
      "epoch110: w=0.049,loss=0.022\n",
      "epoch111: w=0.049,loss=0.022\n",
      "epoch112: w=0.049,loss=0.022\n",
      "epoch113: w=0.049,loss=0.022\n",
      "epoch114: w=0.049,loss=0.022\n",
      "epoch115: w=0.049,loss=0.022\n",
      "epoch116: w=0.048,loss=0.022\n",
      "epoch117: w=0.048,loss=0.022\n",
      "epoch118: w=0.048,loss=0.022\n",
      "epoch119: w=0.048,loss=0.022\n",
      "epoch120: w=0.048,loss=0.022\n",
      "epoch121: w=0.048,loss=0.022\n",
      "epoch122: w=0.048,loss=0.022\n",
      "epoch123: w=0.048,loss=0.022\n",
      "epoch124: w=0.048,loss=0.022\n",
      "epoch125: w=0.047,loss=0.022\n",
      "epoch126: w=0.047,loss=0.022\n",
      "epoch127: w=0.047,loss=0.022\n",
      "epoch128: w=0.047,loss=0.022\n",
      "epoch129: w=0.047,loss=0.022\n",
      "epoch130: w=0.047,loss=0.022\n",
      "epoch131: w=0.047,loss=0.022\n",
      "epoch132: w=0.047,loss=0.022\n",
      "epoch133: w=0.047,loss=0.022\n",
      "epoch134: w=0.047,loss=0.022\n",
      "epoch135: w=0.046,loss=0.022\n",
      "epoch136: w=0.046,loss=0.022\n",
      "epoch137: w=0.046,loss=0.022\n",
      "epoch138: w=0.046,loss=0.021\n",
      "epoch139: w=0.046,loss=0.021\n",
      "epoch140: w=0.046,loss=0.021\n",
      "epoch141: w=0.046,loss=0.021\n",
      "epoch142: w=0.046,loss=0.021\n",
      "epoch143: w=0.046,loss=0.021\n",
      "epoch144: w=0.046,loss=0.021\n",
      "epoch145: w=0.045,loss=0.021\n",
      "epoch146: w=0.045,loss=0.021\n",
      "epoch147: w=0.045,loss=0.021\n",
      "epoch148: w=0.045,loss=0.021\n",
      "epoch149: w=0.045,loss=0.021\n",
      "epoch150: w=0.045,loss=0.021\n",
      "epoch151: w=0.045,loss=0.021\n",
      "epoch152: w=0.045,loss=0.021\n",
      "epoch153: w=0.045,loss=0.021\n",
      "epoch154: w=0.045,loss=0.021\n",
      "epoch155: w=0.045,loss=0.021\n",
      "epoch156: w=0.044,loss=0.021\n",
      "epoch157: w=0.044,loss=0.021\n",
      "epoch158: w=0.044,loss=0.021\n",
      "epoch159: w=0.044,loss=0.021\n",
      "epoch160: w=0.044,loss=0.021\n",
      "epoch161: w=0.044,loss=0.021\n",
      "epoch162: w=0.044,loss=0.021\n",
      "epoch163: w=0.044,loss=0.021\n",
      "epoch164: w=0.044,loss=0.021\n",
      "epoch165: w=0.044,loss=0.021\n",
      "epoch166: w=0.043,loss=0.021\n",
      "epoch167: w=0.043,loss=0.021\n",
      "epoch168: w=0.043,loss=0.021\n",
      "epoch169: w=0.043,loss=0.021\n",
      "epoch170: w=0.043,loss=0.021\n",
      "epoch171: w=0.043,loss=0.021\n",
      "epoch172: w=0.043,loss=0.021\n",
      "epoch173: w=0.043,loss=0.020\n",
      "epoch174: w=0.043,loss=0.020\n",
      "epoch175: w=0.043,loss=0.020\n",
      "epoch176: w=0.043,loss=0.020\n",
      "epoch177: w=0.042,loss=0.020\n",
      "epoch178: w=0.042,loss=0.020\n",
      "epoch179: w=0.042,loss=0.020\n",
      "epoch180: w=0.042,loss=0.020\n",
      "epoch181: w=0.042,loss=0.020\n",
      "epoch182: w=0.042,loss=0.020\n",
      "epoch183: w=0.042,loss=0.020\n",
      "epoch184: w=0.042,loss=0.020\n",
      "epoch185: w=0.042,loss=0.020\n",
      "epoch186: w=0.042,loss=0.020\n",
      "epoch187: w=0.042,loss=0.020\n",
      "epoch188: w=0.041,loss=0.020\n",
      "epoch189: w=0.041,loss=0.020\n",
      "epoch190: w=0.041,loss=0.020\n",
      "epoch191: w=0.041,loss=0.020\n",
      "epoch192: w=0.041,loss=0.020\n",
      "epoch193: w=0.041,loss=0.020\n",
      "epoch194: w=0.041,loss=0.020\n",
      "epoch195: w=0.041,loss=0.020\n",
      "epoch196: w=0.041,loss=0.020\n",
      "epoch197: w=0.041,loss=0.020\n",
      "epoch198: w=0.041,loss=0.020\n",
      "epoch199: w=0.040,loss=0.020\n",
      "epoch200: w=0.040,loss=0.020\n",
      "epoch201: w=0.040,loss=0.020\n",
      "epoch202: w=0.040,loss=0.020\n",
      "epoch203: w=0.040,loss=0.020\n",
      "epoch204: w=0.040,loss=0.020\n",
      "epoch205: w=0.040,loss=0.020\n",
      "epoch206: w=0.040,loss=0.020\n",
      "epoch207: w=0.040,loss=0.020\n",
      "epoch208: w=0.040,loss=0.020\n",
      "epoch209: w=0.040,loss=0.020\n",
      "epoch210: w=0.040,loss=0.020\n",
      "epoch211: w=0.039,loss=0.020\n",
      "epoch212: w=0.039,loss=0.020\n",
      "epoch213: w=0.039,loss=0.020\n",
      "epoch214: w=0.039,loss=0.020\n",
      "epoch215: w=0.039,loss=0.019\n",
      "epoch216: w=0.039,loss=0.019\n",
      "epoch217: w=0.039,loss=0.019\n",
      "epoch218: w=0.039,loss=0.019\n",
      "epoch219: w=0.039,loss=0.019\n",
      "epoch220: w=0.039,loss=0.019\n",
      "epoch221: w=0.039,loss=0.019\n",
      "epoch222: w=0.039,loss=0.019\n",
      "epoch223: w=0.038,loss=0.019\n",
      "epoch224: w=0.038,loss=0.019\n",
      "epoch225: w=0.038,loss=0.019\n",
      "epoch226: w=0.038,loss=0.019\n",
      "epoch227: w=0.038,loss=0.019\n",
      "epoch228: w=0.038,loss=0.019\n",
      "epoch229: w=0.038,loss=0.019\n",
      "epoch230: w=0.038,loss=0.019\n",
      "epoch231: w=0.038,loss=0.019\n",
      "epoch232: w=0.038,loss=0.019\n",
      "epoch233: w=0.038,loss=0.019\n",
      "epoch234: w=0.038,loss=0.019\n",
      "epoch235: w=0.037,loss=0.019\n",
      "epoch236: w=0.037,loss=0.019\n",
      "epoch237: w=0.037,loss=0.019\n",
      "epoch238: w=0.037,loss=0.019\n",
      "epoch239: w=0.037,loss=0.019\n",
      "epoch240: w=0.037,loss=0.019\n",
      "epoch241: w=0.037,loss=0.019\n",
      "epoch242: w=0.037,loss=0.019\n",
      "epoch243: w=0.037,loss=0.019\n",
      "epoch244: w=0.037,loss=0.019\n",
      "epoch245: w=0.037,loss=0.019\n",
      "epoch246: w=0.037,loss=0.019\n",
      "epoch247: w=0.037,loss=0.019\n",
      "epoch248: w=0.036,loss=0.019\n",
      "epoch249: w=0.036,loss=0.019\n",
      "epoch250: w=0.036,loss=0.019\n",
      "epoch251: w=0.036,loss=0.019\n",
      "epoch252: w=0.036,loss=0.019\n",
      "epoch253: w=0.036,loss=0.019\n",
      "epoch254: w=0.036,loss=0.019\n",
      "epoch255: w=0.036,loss=0.019\n",
      "epoch256: w=0.036,loss=0.019\n",
      "epoch257: w=0.036,loss=0.019\n",
      "epoch258: w=0.036,loss=0.019\n",
      "epoch259: w=0.036,loss=0.019\n",
      "epoch260: w=0.036,loss=0.019\n",
      "epoch261: w=0.035,loss=0.019\n",
      "epoch262: w=0.035,loss=0.019\n",
      "epoch263: w=0.035,loss=0.019\n",
      "epoch264: w=0.035,loss=0.019\n",
      "epoch265: w=0.035,loss=0.018\n",
      "epoch266: w=0.035,loss=0.018\n",
      "epoch267: w=0.035,loss=0.018\n",
      "epoch268: w=0.035,loss=0.018\n",
      "epoch269: w=0.035,loss=0.018\n",
      "epoch270: w=0.035,loss=0.018\n",
      "epoch271: w=0.035,loss=0.018\n",
      "epoch272: w=0.035,loss=0.018\n",
      "epoch273: w=0.035,loss=0.018\n",
      "epoch274: w=0.034,loss=0.018\n",
      "epoch275: w=0.034,loss=0.018\n",
      "epoch276: w=0.034,loss=0.018\n",
      "epoch277: w=0.034,loss=0.018\n",
      "epoch278: w=0.034,loss=0.018\n",
      "epoch279: w=0.034,loss=0.018\n",
      "epoch280: w=0.034,loss=0.018\n",
      "epoch281: w=0.034,loss=0.018\n",
      "epoch282: w=0.034,loss=0.018\n",
      "epoch283: w=0.034,loss=0.018\n",
      "epoch284: w=0.034,loss=0.018\n",
      "epoch285: w=0.034,loss=0.018\n",
      "epoch286: w=0.034,loss=0.018\n",
      "epoch287: w=0.034,loss=0.018\n",
      "epoch288: w=0.033,loss=0.018\n",
      "epoch289: w=0.033,loss=0.018\n",
      "epoch290: w=0.033,loss=0.018\n",
      "epoch291: w=0.033,loss=0.018\n",
      "epoch292: w=0.033,loss=0.018\n",
      "epoch293: w=0.033,loss=0.018\n",
      "epoch294: w=0.033,loss=0.018\n",
      "epoch295: w=0.033,loss=0.018\n",
      "epoch296: w=0.033,loss=0.018\n",
      "epoch297: w=0.033,loss=0.018\n",
      "epoch298: w=0.033,loss=0.018\n",
      "epoch299: w=0.033,loss=0.018\n",
      "epoch300: w=0.033,loss=0.018\n"
     ]
    }
   ],
   "source": [
    "#now traing loop\n",
    "los=[]\n",
    "iterations=300\n",
    "for epoch in range(iterations):\n",
    "    y_pred=model(X_train)\n",
    "    l=loss(Y_train,y_pred)\n",
    "    los.append(l)\n",
    "    l.backward()\n",
    "    optimizer.step()\n",
    "    optimizer.zero_grad()\n",
    "    if epoch % 1==0:\n",
    "        [w,b]=model.parameters()\n",
    "        print(f'epoch{epoch+1}: w={w[0][0].item():.3f},loss={l:.3f}')"
   ]
  },
  {
   "cell_type": "code",
   "execution_count": 19,
   "id": "5777995a",
   "metadata": {},
   "outputs": [],
   "source": [
    "[w1,w2]=model.parameters()"
   ]
  },
  {
   "cell_type": "code",
   "execution_count": 21,
   "id": "defc35f0",
   "metadata": {},
   "outputs": [
    {
     "data": {
      "text/plain": [
       "Parameter containing:\n",
       "tensor([0.8850], requires_grad=True)"
      ]
     },
     "execution_count": 21,
     "metadata": {},
     "output_type": "execute_result"
    }
   ],
   "source": [
    "w2"
   ]
  },
  {
   "cell_type": "code",
   "execution_count": 105,
   "id": "9587a1e3",
   "metadata": {},
   "outputs": [
    {
     "data": {
      "image/png": "[encoded data removed]",
      "text/plain": [
       "<Figure size 432x288 with 1 Axes>"
      ]
     },
     "metadata": {
      "needs_background": "light"
     },
     "output_type": "display_data"
    }
   ],
   "source": [
    "with torch.no_grad():\n",
    "    plt.plot(los,'r.')\n",
    "    plt.plot(los,'b')\n",
    "    plt.show()\n",
    "    "
   ]
  },
  {
   "cell_type": "code",
   "execution_count": 107,
   "id": "0495b84c",
   "metadata": {},
   "outputs": [
    {
     "name": "stdout",
     "output_type": "stream",
     "text": [
      "predicting on test samples tensor([1.1180], grad_fn=<AddBackward0>)\n"
     ]
    }
   ],
   "source": [
    "X_test.unsqueeze_(1)\n",
    "print(\"predicting on test samples\",model(X_test[1]))\n"
   ]
  },
  {
   "cell_type": "code",
   "execution_count": 108,
   "id": "d57408c3",
   "metadata": {},
   "outputs": [
    {
     "name": "stdout",
     "output_type": "stream",
     "text": [
      "and the actual value  tensor([1.0844])\n"
     ]
    }
   ],
   "source": [
    "print(\"and the actual value \",Y_test[1])"
   ]
  },
  {
   "cell_type": "code",
   "execution_count": null,
   "id": "dc596502",
   "metadata": {},
   "outputs": [],
   "source": []
  }
 ],
 "metadata": {
  "kernelspec": {
   "display_name": "Python 3 (ipykernel)",
   "language": "python",
   "name": "python3"
  },
  "language_info": {
   "codemirror_mode": {
    "name": "ipython",
    "version": 3
   },
   "file_extension": ".py",
   "mimetype": "text/x-python",
   "name": "python",
   "nbconvert_exporter": "python",
   "pygments_lexer": "ipython3",
   "version": "3.7.13"
  }
 },
 "nbformat": 4,
 "nbformat_minor": 5
}
