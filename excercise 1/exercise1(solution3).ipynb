{
 "cells": [
  {
   "cell_type": "code",
   "execution_count": 1,
   "id": "04ca9319",
   "metadata": {},
   "outputs": [],
   "source": [
    "import torch\n",
    "import torch.nn as nn\n",
    "import numpy as np\n",
    "import matplotlib.pyplot as plt"
   ]
  },
  {
   "cell_type": "code",
   "execution_count": 2,
   "id": "db2f124e",
   "metadata": {},
   "outputs": [],
   "source": [
    "x=np.loadtxt('ex2x.dat')\n",
    "y=np.loadtxt('ex2y.dat')"
   ]
  },
  {
   "cell_type": "code",
   "execution_count": 3,
   "id": "e7c3ddea",
   "metadata": {},
   "outputs": [
    {
     "name": "stdout",
     "output_type": "stream",
     "text": [
      "50\n"
     ]
    }
   ],
   "source": [
    "print(len(x))"
   ]
  },
  {
   "cell_type": "code",
   "execution_count": 4,
   "id": "8cd35664",
   "metadata": {},
   "outputs": [
    {
     "data": {
      "image/png": "[encoded data removed]",
      "text/plain": [
       "<Figure size 432x288 with 1 Axes>"
      ]
     },
     "metadata": {
      "needs_background": "light"
     },
     "output_type": "display_data"
    }
   ],
   "source": [
    "plt.plot(x,y,'r.')\n",
    "plt.xlabel(\"Age between 2----8 years\")\n",
    "plt.ylabel(\"Hieght in meter\")\n",
    "plt.show()"
   ]
  },
  {
   "cell_type": "code",
   "execution_count": 5,
   "id": "9b9d6067",
   "metadata": {
    "collapsed": true
   },
   "outputs": [
    {
     "data": {
      "text/plain": [
       "tensor([[[0.7792]],\n",
       "\n",
       "        [[0.9160]],\n",
       "\n",
       "        [[0.9054]],\n",
       "\n",
       "        [[0.9057]],\n",
       "\n",
       "        [[0.9390]],\n",
       "\n",
       "        [[0.9668]],\n",
       "\n",
       "        [[0.9644]],\n",
       "\n",
       "        [[0.9145]],\n",
       "\n",
       "        [[0.9393]],\n",
       "\n",
       "        [[0.9607]],\n",
       "\n",
       "        [[0.8984]],\n",
       "\n",
       "        [[0.9121]],\n",
       "\n",
       "        [[0.9424]],\n",
       "\n",
       "        [[0.9662]],\n",
       "\n",
       "        [[1.0526]],\n",
       "\n",
       "        [[1.0144]],\n",
       "\n",
       "        [[0.9597]],\n",
       "\n",
       "        [[0.9685]],\n",
       "\n",
       "        [[1.0766]],\n",
       "\n",
       "        [[1.1455]],\n",
       "\n",
       "        [[1.0341]],\n",
       "\n",
       "        [[1.0070]],\n",
       "\n",
       "        [[0.9668]],\n",
       "\n",
       "        [[1.0896]],\n",
       "\n",
       "        [[1.0634]],\n",
       "\n",
       "        [[1.1237]],\n",
       "\n",
       "        [[1.0323]],\n",
       "\n",
       "        [[1.0874]],\n",
       "\n",
       "        [[1.0703]],\n",
       "\n",
       "        [[1.1606]],\n",
       "\n",
       "        [[1.0778]],\n",
       "\n",
       "        [[1.1070]],\n",
       "\n",
       "        [[1.0972]],\n",
       "\n",
       "        [[1.1649]],\n",
       "\n",
       "        [[1.1412]],\n",
       "\n",
       "        [[1.0844]],\n",
       "\n",
       "        [[1.1252]],\n",
       "\n",
       "        [[1.1168]],\n",
       "\n",
       "        [[1.1971]],\n",
       "\n",
       "        [[1.2069]],\n",
       "\n",
       "        [[1.1251]],\n",
       "\n",
       "        [[1.1236]],\n",
       "\n",
       "        [[1.2133]],\n",
       "\n",
       "        [[1.2523]],\n",
       "\n",
       "        [[1.2497]],\n",
       "\n",
       "        [[1.1800]],\n",
       "\n",
       "        [[1.1897]],\n",
       "\n",
       "        [[1.3030]],\n",
       "\n",
       "        [[1.2601]],\n",
       "\n",
       "        [[1.2562]]])"
      ]
     },
     "execution_count": 5,
     "metadata": {},
     "output_type": "execute_result"
    }
   ],
   "source": [
    "X=torch.from_numpy(x.astype(np.float32))\n",
    "Y=torch.from_numpy(y.astype(np.float32))\n",
    "Y=Y.view(Y.shape[0],1)\n",
    "X.unsqueeze_(1)\n",
    "Y.unsqueeze_(1)"
   ]
  },
  {
   "cell_type": "code",
   "execution_count": 6,
   "id": "3e7ca0a9",
   "metadata": {},
   "outputs": [
    {
     "name": "stdout",
     "output_type": "stream",
     "text": [
      "1\n"
     ]
    }
   ],
   "source": [
    "output_size=1\n",
    "input_size=1\n",
    "print(input_size)"
   ]
  },
  {
   "cell_type": "code",
   "execution_count": 7,
   "id": "4a086bbf",
   "metadata": {},
   "outputs": [],
   "source": [
    "#model creation\n",
    "model=nn.Linear(input_size,output_size)"
   ]
  },
  {
   "cell_type": "code",
   "execution_count": 8,
   "id": "a904793a",
   "metadata": {},
   "outputs": [],
   "source": [
    "#loss function\n",
    "loss=nn.MSELoss()"
   ]
  },
  {
   "cell_type": "code",
   "execution_count": 9,
   "id": "83d73409",
   "metadata": {},
   "outputs": [],
   "source": [
    "optimizer=torch.optim.SGD(model.parameters(),lr=0.01)"
   ]
  },
  {
   "cell_type": "code",
   "execution_count": 10,
   "id": "dff52f6e",
   "metadata": {},
   "outputs": [
    {
     "name": "stdout",
     "output_type": "stream",
     "text": [
      "epoch1: w=-0.105,loss=24.615\n",
      "epoch2: w=0.120,loss=4.982\n",
      "epoch3: w=0.219,loss=1.201\n",
      "epoch4: w=0.261,loss=0.472\n",
      "epoch5: w=0.280,loss=0.331\n",
      "epoch6: w=0.288,loss=0.303\n",
      "epoch7: w=0.291,loss=0.296\n",
      "epoch8: w=0.292,loss=0.294\n",
      "epoch9: w=0.292,loss=0.293\n",
      "epoch10: w=0.291,loss=0.292\n"
     ]
    },
    {
     "name": "stderr",
     "output_type": "stream",
     "text": [
      "C:\\Users\\shehz\\Desktop\\new enviroment\\envir1\\lib\\site-packages\\torch\\nn\\modules\\loss.py:529: UserWarning: Using a target size (torch.Size([50, 1])) that is different to the input size (torch.Size([50, 1, 1])). This will likely lead to incorrect results due to broadcasting. Please ensure they have the same size.\n",
      "  return F.mse_loss(input, target, reduction=self.reduction)\n"
     ]
    }
   ],
   "source": [
    "#now traing loop\n",
    "los=[]\n",
    "iterations=10\n",
    "for epoch in range(iterations):\n",
    "    y_pred=model(X)\n",
    "    l=loss(Y,y_pred)\n",
    "    los.append(l)\n",
    "    l.backward()\n",
    "    optimizer.step()\n",
    "    optimizer.zero_grad()\n",
    "    if epoch % 1==0:\n",
    "        [w,b]=model.parameters()\n",
    "        print(f'epoch{epoch+1}: w={w[0][0].item():.3f},loss={l:.3f}')"
   ]
  },
  {
   "cell_type": "code",
   "execution_count": 12,
   "id": "7f852cb2",
   "metadata": {},
   "outputs": [
    {
     "data": {
      "image/png": "[encoded data removed]",
      "text/plain": [
       "<Figure size 432x288 with 1 Axes>"
      ]
     },
     "metadata": {
      "needs_background": "light"
     },
     "output_type": "display_data"
    }
   ],
   "source": [
    "with torch.no_grad():\n",
    "    plt.plot(los,'r')\n",
    "    \n",
    "    plt.show()"
   ]
  },
  {
   "cell_type": "code",
   "execution_count": 15,
   "id": "d9806f16",
   "metadata": {},
   "outputs": [
    {
     "name": "stdout",
     "output_type": "stream",
     "text": [
      "tensor([[0.9390]])\n"
     ]
    }
   ],
   "source": [
    "print(\"the actual value \",Y[4])"
   ]
  },
  {
   "cell_type": "code",
   "execution_count": 19,
   "id": "e57a41ce",
   "metadata": {},
   "outputs": [
    {
     "name": "stdout",
     "output_type": "stream",
     "text": [
      "predicted by our trianed machine tensor([0.9441], grad_fn=<AddBackward0>)\n"
     ]
    }
   ],
   "source": [
    "print(\"predicted by our trianed machine\",model(X[4]))"
   ]
  },
  {
   "cell_type": "code",
   "execution_count": null,
   "id": "688ba744",
   "metadata": {},
   "outputs": [],
   "source": []
  }
 ],
 "metadata": {
  "kernelspec": {
   "display_name": "Python 3 (ipykernel)",
   "language": "python",
   "name": "python3"
  },
  "language_info": {
   "codemirror_mode": {
    "name": "ipython",
    "version": 3
   },
   "file_extension": ".py",
   "mimetype": "text/x-python",
   "name": "python",
   "nbconvert_exporter": "python",
   "pygments_lexer": "ipython3",
   "version": "3.7.13"
  }
 },
 "nbformat": 4,
 "nbformat_minor": 5
}
