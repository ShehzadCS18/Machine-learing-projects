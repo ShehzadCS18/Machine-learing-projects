{
 "cells": [
  {
   "cell_type": "code",
   "execution_count": 16,
   "id": "b5f764d7",
   "metadata": {},
   "outputs": [],
   "source": [
    "import numpy as np\n",
    "import torch \n",
    "\n",
    "import torch.nn as nn\n",
    "import matplotlib.pyplot as plt"
   ]
  },
  {
   "cell_type": "code",
   "execution_count": 17,
   "id": "a061d360",
   "metadata": {},
   "outputs": [],
   "source": [
    "x=np.loadtxt('ex2x.dat')\n",
    "y=np.loadtxt('ex2y.dat')"
   ]
  },
  {
   "cell_type": "code",
   "execution_count": 18,
   "id": "5eeedb32",
   "metadata": {},
   "outputs": [
    {
     "data": {
      "text/plain": [
       "(50,)"
      ]
     },
     "execution_count": 18,
     "metadata": {},
     "output_type": "execute_result"
    }
   ],
   "source": [
    "x.shape"
   ]
  },
  {
   "cell_type": "code",
   "execution_count": 19,
   "id": "4a45ef18",
   "metadata": {},
   "outputs": [
    {
     "data": {
      "image/png": "[encoded data removed]",
      "text/plain": [
       "<Figure size 432x288 with 1 Axes>"
      ]
     },
     "metadata": {
      "needs_background": "light"
     },
     "output_type": "display_data"
    }
   ],
   "source": [
    "plt.plot(x,y,'r.')\n",
    "plt.xlabel(\"Age between 2----8 years\")\n",
    "plt.ylabel(\"Hieght in meter\")\n",
    "plt.show()"
   ]
  },
  {
   "cell_type": "code",
   "execution_count": 20,
   "id": "f4887ffd",
   "metadata": {},
   "outputs": [],
   "source": [
    "ones=np.ones([x.shape[0],1])\n",
    "x=x.reshape(x.shape[0],1)\n",
    "x=np.concatenate((ones,x),axis=1)"
   ]
  },
  {
   "cell_type": "code",
   "execution_count": 21,
   "id": "46ddb3a8",
   "metadata": {},
   "outputs": [
    {
     "data": {
      "text/plain": [
       "array([[1.       , 2.0658746],\n",
       "       [1.       , 2.3684087],\n",
       "       [1.       , 2.5399929],\n",
       "       [1.       , 2.5420804],\n",
       "       [1.       , 2.549079 ],\n",
       "       [1.       , 2.7866882],\n",
       "       [1.       , 2.9116825],\n",
       "       [1.       , 3.035627 ],\n",
       "       [1.       , 3.1146696],\n",
       "       [1.       , 3.1582389],\n",
       "       [1.       , 3.3275944],\n",
       "       [1.       , 3.3793165],\n",
       "       [1.       , 3.4122006],\n",
       "       [1.       , 3.4215823],\n",
       "       [1.       , 3.5315732],\n",
       "       [1.       , 3.6393002],\n",
       "       [1.       , 3.6732537],\n",
       "       [1.       , 3.9256462],\n",
       "       [1.       , 4.0498646],\n",
       "       [1.       , 4.2483348],\n",
       "       [1.       , 4.3440052],\n",
       "       [1.       , 4.3826531],\n",
       "       [1.       , 4.4230602],\n",
       "       [1.       , 4.6102443],\n",
       "       [1.       , 4.6881183],\n",
       "       [1.       , 4.9777333],\n",
       "       [1.       , 5.0359967],\n",
       "       [1.       , 5.0684536],\n",
       "       [1.       , 5.4161491],\n",
       "       [1.       , 5.4395623],\n",
       "       [1.       , 5.4563207],\n",
       "       [1.       , 5.5698458],\n",
       "       [1.       , 5.6015729],\n",
       "       [1.       , 5.6877617],\n",
       "       [1.       , 5.7215602],\n",
       "       [1.       , 5.8538914],\n",
       "       [1.       , 6.1978026],\n",
       "       [1.       , 6.3510941],\n",
       "       [1.       , 6.4797033],\n",
       "       [1.       , 6.7383791],\n",
       "       [1.       , 6.8637686],\n",
       "       [1.       , 7.0223387],\n",
       "       [1.       , 7.0782373],\n",
       "       [1.       , 7.1514232],\n",
       "       [1.       , 7.4664023],\n",
       "       [1.       , 7.5973874],\n",
       "       [1.       , 7.7440717],\n",
       "       [1.       , 7.7729662],\n",
       "       [1.       , 7.8264514],\n",
       "       [1.       , 7.9306356]])"
      ]
     },
     "execution_count": 21,
     "metadata": {},
     "output_type": "execute_result"
    }
   ],
   "source": [
    "x"
   ]
  },
  {
   "cell_type": "code",
   "execution_count": 22,
   "id": "6a929df6",
   "metadata": {
    "collapsed": true
   },
   "outputs": [
    {
     "data": {
      "text/plain": [
       "tensor([[[0.7792]],\n",
       "\n",
       "        [[0.9160]],\n",
       "\n",
       "        [[0.9054]],\n",
       "\n",
       "        [[0.9057]],\n",
       "\n",
       "        [[0.9390]],\n",
       "\n",
       "        [[0.9668]],\n",
       "\n",
       "        [[0.9644]],\n",
       "\n",
       "        [[0.9145]],\n",
       "\n",
       "        [[0.9393]],\n",
       "\n",
       "        [[0.9607]],\n",
       "\n",
       "        [[0.8984]],\n",
       "\n",
       "        [[0.9121]],\n",
       "\n",
       "        [[0.9424]],\n",
       "\n",
       "        [[0.9662]],\n",
       "\n",
       "        [[1.0526]],\n",
       "\n",
       "        [[1.0144]],\n",
       "\n",
       "        [[0.9597]],\n",
       "\n",
       "        [[0.9685]],\n",
       "\n",
       "        [[1.0766]],\n",
       "\n",
       "        [[1.1455]],\n",
       "\n",
       "        [[1.0341]],\n",
       "\n",
       "        [[1.0070]],\n",
       "\n",
       "        [[0.9668]],\n",
       "\n",
       "        [[1.0896]],\n",
       "\n",
       "        [[1.0634]],\n",
       "\n",
       "        [[1.1237]],\n",
       "\n",
       "        [[1.0323]],\n",
       "\n",
       "        [[1.0874]],\n",
       "\n",
       "        [[1.0703]],\n",
       "\n",
       "        [[1.1606]],\n",
       "\n",
       "        [[1.0778]],\n",
       "\n",
       "        [[1.1070]],\n",
       "\n",
       "        [[1.0972]],\n",
       "\n",
       "        [[1.1649]],\n",
       "\n",
       "        [[1.1412]],\n",
       "\n",
       "        [[1.0844]],\n",
       "\n",
       "        [[1.1252]],\n",
       "\n",
       "        [[1.1168]],\n",
       "\n",
       "        [[1.1971]],\n",
       "\n",
       "        [[1.2069]],\n",
       "\n",
       "        [[1.1251]],\n",
       "\n",
       "        [[1.1236]],\n",
       "\n",
       "        [[1.2133]],\n",
       "\n",
       "        [[1.2523]],\n",
       "\n",
       "        [[1.2497]],\n",
       "\n",
       "        [[1.1800]],\n",
       "\n",
       "        [[1.1897]],\n",
       "\n",
       "        [[1.3030]],\n",
       "\n",
       "        [[1.2601]],\n",
       "\n",
       "        [[1.2562]]])"
      ]
     },
     "execution_count": 22,
     "metadata": {},
     "output_type": "execute_result"
    }
   ],
   "source": [
    "X=torch.from_numpy(x.astype(np.float32))\n",
    "Y=torch.from_numpy(y.astype(np.float32))\n",
    "Y=Y.view(Y.shape[0],1)\n",
    "X.unsqueeze_(1)\n",
    "Y.unsqueeze_(1)"
   ]
  },
  {
   "cell_type": "code",
   "execution_count": 35,
   "id": "b81525cd",
   "metadata": {},
   "outputs": [
    {
     "name": "stdout",
     "output_type": "stream",
     "text": [
      "2\n"
     ]
    }
   ],
   "source": [
    "output_size=1\n",
    "input_size=2\n",
    "print(input_size)"
   ]
  },
  {
   "cell_type": "code",
   "execution_count": 36,
   "id": "d43b4060",
   "metadata": {},
   "outputs": [],
   "source": [
    "#model creation\n",
    "model=nn.Linear(input_size,output_size)"
   ]
  },
  {
   "cell_type": "code",
   "execution_count": 37,
   "id": "b252ee4b",
   "metadata": {},
   "outputs": [],
   "source": [
    "#loss function\n",
    "loss=nn.MSELoss()"
   ]
  },
  {
   "cell_type": "code",
   "execution_count": 38,
   "id": "a6a22d02",
   "metadata": {},
   "outputs": [],
   "source": [
    "optimizer=torch.optim.SGD(model.parameters(),lr=0.01)"
   ]
  },
  {
   "cell_type": "code",
   "execution_count": 39,
   "id": "13915207",
   "metadata": {},
   "outputs": [
    {
     "name": "stdout",
     "output_type": "stream",
     "text": [
      "epoch1: w=0.472,loss=0.883\n",
      "epoch2: w=0.465,loss=0.159\n",
      "epoch3: w=0.462,loss=0.031\n",
      "epoch4: w=0.461,loss=0.008\n",
      "epoch5: w=0.460,loss=0.004\n",
      "epoch6: w=0.460,loss=0.003\n",
      "epoch7: w=0.460,loss=0.003\n",
      "epoch8: w=0.461,loss=0.003\n",
      "epoch9: w=0.461,loss=0.003\n",
      "epoch10: w=0.461,loss=0.003\n"
     ]
    }
   ],
   "source": [
    "#now traing loop\n",
    "los=[]\n",
    "iterations=10\n",
    "for epoch in range(iterations):\n",
    "    y_pred=model(X)\n",
    "    l=loss(Y,y_pred)\n",
    "    los.append(l)\n",
    "    l.backward()\n",
    "    optimizer.step()\n",
    "    optimizer.zero_grad()\n",
    "    if epoch % 1==0:\n",
    "        [w1,w2]=model.parameters()\n",
    "        print(f'epoch{epoch+1}: w={w1[0][0].item():.3f},loss={l:.3f}')"
   ]
  },
  {
   "cell_type": "code",
   "execution_count": 40,
   "id": "e069d648",
   "metadata": {},
   "outputs": [
    {
     "data": {
      "image/png": "[encoded data removed]",
      "text/plain": [
       "<Figure size 432x288 with 1 Axes>"
      ]
     },
     "metadata": {
      "needs_background": "light"
     },
     "output_type": "display_data"
    }
   ],
   "source": [
    "with torch.no_grad():\n",
    "    plt.plot(los,'r')\n",
    "    \n",
    "    plt.show()"
   ]
  },
  {
   "cell_type": "code",
   "execution_count": 41,
   "id": "a1733193",
   "metadata": {},
   "outputs": [],
   "source": [
    " [w1,w2]=model.parameters()"
   ]
  },
  {
   "cell_type": "code",
   "execution_count": 42,
   "id": "50e76cde",
   "metadata": {},
   "outputs": [
    {
     "data": {
      "text/plain": [
       "Parameter containing:\n",
       "tensor([[0.4611, 0.0836]], requires_grad=True)"
      ]
     },
     "execution_count": 42,
     "metadata": {},
     "output_type": "execute_result"
    }
   ],
   "source": [
    "w1"
   ]
  },
  {
   "cell_type": "code",
   "execution_count": 43,
   "id": "93b840b1",
   "metadata": {},
   "outputs": [
    {
     "data": {
      "text/plain": [
       "Parameter containing:\n",
       "tensor([0.1813], requires_grad=True)"
      ]
     },
     "execution_count": 43,
     "metadata": {},
     "output_type": "execute_result"
    }
   ],
   "source": [
    "w2"
   ]
  },
  {
   "cell_type": "code",
   "execution_count": null,
   "id": "8e5aed77",
   "metadata": {},
   "outputs": [],
   "source": []
  }
 ],
 "metadata": {
  "kernelspec": {
   "display_name": "Python 3 (ipykernel)",
   "language": "python",
   "name": "python3"
  },
  "language_info": {
   "codemirror_mode": {
    "name": "ipython",
    "version": 3
   },
   "file_extension": ".py",
   "mimetype": "text/x-python",
   "name": "python",
   "nbconvert_exporter": "python",
   "pygments_lexer": "ipython3",
   "version": "3.10.0"
  }
 },
 "nbformat": 4,
 "nbformat_minor": 5
}
