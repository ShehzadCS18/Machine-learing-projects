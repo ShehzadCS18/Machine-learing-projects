{
 "cells": [
  {
   "cell_type": "code",
   "execution_count": 94,
   "id": "2707c9fa",
   "metadata": {},
   "outputs": [],
   "source": [
    "import numpy as np\n",
    "import torch\n",
    "import torch.nn as nn\n",
    "import matplotlib.pyplot as plt"
   ]
  },
  {
   "cell_type": "code",
   "execution_count": 95,
   "id": "8feac651",
   "metadata": {},
   "outputs": [],
   "source": [
    "X=np.loadtxt('ex2x.dat')\n",
    "Y=np.loadtxt('ex2y.dat')"
   ]
  },
  {
   "cell_type": "code",
   "execution_count": 96,
   "id": "e2b7f599",
   "metadata": {},
   "outputs": [
    {
     "name": "stdout",
     "output_type": "stream",
     "text": [
      "(50,)\n",
      "(50,)\n"
     ]
    }
   ],
   "source": [
    "print(X.shape)\n",
    "print(Y.shape)"
   ]
  },
  {
   "cell_type": "code",
   "execution_count": 97,
   "id": "8da2ffeb",
   "metadata": {},
   "outputs": [
    {
     "data": {
      "image/png": "[encoded data removed]",
      "text/plain": [
       "<Figure size 432x288 with 1 Axes>"
      ]
     },
     "metadata": {
      "needs_background": "light"
     },
     "output_type": "display_data"
    }
   ],
   "source": [
    "#now to plot this data\n",
    "plt.plot(X,Y,'b.')#here we will have to pass the third parameter that we want a doted plot\n",
    "plt.show()"
   ]
  },
  {
   "cell_type": "code",
   "execution_count": 98,
   "id": "12bf2d8a",
   "metadata": {},
   "outputs": [
    {
     "data": {
      "image/png": "[encoded data removed]",
      "text/plain": [
       "<Figure size 432x288 with 1 Axes>"
      ]
     },
     "metadata": {
      "needs_background": "light"
     },
     "output_type": "display_data"
    }
   ],
   "source": [
    "#another way to plot this \n",
    "plt.scatter(X,Y)\n",
    "plt.show()"
   ]
  },
  {
   "cell_type": "code",
   "execution_count": 99,
   "id": "36535d48",
   "metadata": {},
   "outputs": [
    {
     "data": {
      "text/plain": [
       "array([2.0658746, 2.3684087, 2.5399929, 2.5420804, 2.549079 , 2.7866882,\n",
       "       2.9116825, 3.035627 , 3.1146696, 3.1582389, 3.3275944, 3.3793165,\n",
       "       3.4122006, 3.4215823, 3.5315732, 3.6393002, 3.6732537, 3.9256462,\n",
       "       4.0498646, 4.2483348, 4.3440052, 4.3826531, 4.4230602, 4.6102443,\n",
       "       4.6881183, 4.9777333, 5.0359967, 5.0684536, 5.4161491, 5.4395623,\n",
       "       5.4563207, 5.5698458, 5.6015729, 5.6877617, 5.7215602, 5.8538914,\n",
       "       6.1978026, 6.3510941, 6.4797033, 6.7383791, 6.8637686, 7.0223387,\n",
       "       7.0782373, 7.1514232, 7.4664023, 7.5973874, 7.7440717, 7.7729662,\n",
       "       7.8264514, 7.9306356])"
      ]
     },
     "execution_count": 99,
     "metadata": {},
     "output_type": "execute_result"
    }
   ],
   "source": [
    "X"
   ]
  },
  {
   "cell_type": "code",
   "execution_count": null,
   "id": "0aa73190",
   "metadata": {},
   "outputs": [],
   "source": []
  },
  {
   "cell_type": "code",
   "execution_count": 100,
   "id": "62e26a94",
   "metadata": {},
   "outputs": [],
   "source": [
    "#now to conver X , Y and theta into pytorch tensors\n",
    "X=torch.from_numpy(X.astype(np.float32))"
   ]
  },
  {
   "cell_type": "code",
   "execution_count": 101,
   "id": "35975179",
   "metadata": {},
   "outputs": [],
   "source": [
    "Y=torch.from_numpy(Y.astype(np.float32))"
   ]
  },
  {
   "cell_type": "code",
   "execution_count": 102,
   "id": "7595ca56",
   "metadata": {},
   "outputs": [
    {
     "data": {
      "text/plain": [
       "tensor([2.0659, 2.3684, 2.5400, 2.5421, 2.5491, 2.7867, 2.9117, 3.0356, 3.1147,\n",
       "        3.1582, 3.3276, 3.3793, 3.4122, 3.4216, 3.5316, 3.6393, 3.6733, 3.9256,\n",
       "        4.0499, 4.2483, 4.3440, 4.3827, 4.4231, 4.6102, 4.6881, 4.9777, 5.0360,\n",
       "        5.0685, 5.4161, 5.4396, 5.4563, 5.5698, 5.6016, 5.6878, 5.7216, 5.8539,\n",
       "        6.1978, 6.3511, 6.4797, 6.7384, 6.8638, 7.0223, 7.0782, 7.1514, 7.4664,\n",
       "        7.5974, 7.7441, 7.7730, 7.8265, 7.9306])"
      ]
     },
     "execution_count": 102,
     "metadata": {},
     "output_type": "execute_result"
    }
   ],
   "source": [
    "X"
   ]
  },
  {
   "cell_type": "code",
   "execution_count": 103,
   "id": "3be5908f",
   "metadata": {},
   "outputs": [
    {
     "data": {
      "text/plain": [
       "tensor([0.7792, 0.9160, 0.9054, 0.9057, 0.9390, 0.9668, 0.9644, 0.9145, 0.9393,\n",
       "        0.9607, 0.8984, 0.9121, 0.9424, 0.9662, 1.0526, 1.0144, 0.9597, 0.9685,\n",
       "        1.0766, 1.1455, 1.0341, 1.0070, 0.9668, 1.0896, 1.0634, 1.1237, 1.0323,\n",
       "        1.0874, 1.0703, 1.1606, 1.0778, 1.1070, 1.0972, 1.1649, 1.1412, 1.0844,\n",
       "        1.1252, 1.1168, 1.1971, 1.2069, 1.1251, 1.1236, 1.2133, 1.2523, 1.2497,\n",
       "        1.1800, 1.1897, 1.3030, 1.2601, 1.2562])"
      ]
     },
     "execution_count": 103,
     "metadata": {},
     "output_type": "execute_result"
    }
   ],
   "source": [
    "Y"
   ]
  },
  {
   "cell_type": "code",
   "execution_count": 104,
   "id": "2b981379",
   "metadata": {
    "collapsed": true
   },
   "outputs": [
    {
     "data": {
      "text/plain": [
       "tensor([[[0.7792]],\n",
       "\n",
       "        [[0.9160]],\n",
       "\n",
       "        [[0.9054]],\n",
       "\n",
       "        [[0.9057]],\n",
       "\n",
       "        [[0.9390]],\n",
       "\n",
       "        [[0.9668]],\n",
       "\n",
       "        [[0.9644]],\n",
       "\n",
       "        [[0.9145]],\n",
       "\n",
       "        [[0.9393]],\n",
       "\n",
       "        [[0.9607]],\n",
       "\n",
       "        [[0.8984]],\n",
       "\n",
       "        [[0.9121]],\n",
       "\n",
       "        [[0.9424]],\n",
       "\n",
       "        [[0.9662]],\n",
       "\n",
       "        [[1.0526]],\n",
       "\n",
       "        [[1.0144]],\n",
       "\n",
       "        [[0.9597]],\n",
       "\n",
       "        [[0.9685]],\n",
       "\n",
       "        [[1.0766]],\n",
       "\n",
       "        [[1.1455]],\n",
       "\n",
       "        [[1.0341]],\n",
       "\n",
       "        [[1.0070]],\n",
       "\n",
       "        [[0.9668]],\n",
       "\n",
       "        [[1.0896]],\n",
       "\n",
       "        [[1.0634]],\n",
       "\n",
       "        [[1.1237]],\n",
       "\n",
       "        [[1.0323]],\n",
       "\n",
       "        [[1.0874]],\n",
       "\n",
       "        [[1.0703]],\n",
       "\n",
       "        [[1.1606]],\n",
       "\n",
       "        [[1.0778]],\n",
       "\n",
       "        [[1.1070]],\n",
       "\n",
       "        [[1.0972]],\n",
       "\n",
       "        [[1.1649]],\n",
       "\n",
       "        [[1.1412]],\n",
       "\n",
       "        [[1.0844]],\n",
       "\n",
       "        [[1.1252]],\n",
       "\n",
       "        [[1.1168]],\n",
       "\n",
       "        [[1.1971]],\n",
       "\n",
       "        [[1.2069]],\n",
       "\n",
       "        [[1.1251]],\n",
       "\n",
       "        [[1.1236]],\n",
       "\n",
       "        [[1.2133]],\n",
       "\n",
       "        [[1.2523]],\n",
       "\n",
       "        [[1.2497]],\n",
       "\n",
       "        [[1.1800]],\n",
       "\n",
       "        [[1.1897]],\n",
       "\n",
       "        [[1.3030]],\n",
       "\n",
       "        [[1.2601]],\n",
       "\n",
       "        [[1.2562]]])"
      ]
     },
     "execution_count": 104,
     "metadata": {},
     "output_type": "execute_result"
    }
   ],
   "source": [
    "Y=Y.view(Y.shape[0],1)\n",
    "X.unsqueeze_(1)\n",
    "Y.unsqueeze_(1)"
   ]
  },
  {
   "cell_type": "code",
   "execution_count": 105,
   "id": "347332bf",
   "metadata": {},
   "outputs": [],
   "source": [
    "# Now hypothesis, loss function and gradient \n",
    "#first to define the input and output size\n",
    "#as we have to features in our X (x0,x1) or two coloumns in X , input_size=2\n",
    "#the output or Y has one coloumn so output_size is 1\n",
    "input_size=1\n",
    "output_size=1\n",
    "hypothesis=nn.Linear(input_size,output_size)\n",
    "#loss function\n",
    "loss=nn.MSELoss()\n",
    "# gradient\n",
    "gradient=torch.optim.SGD(hypothesis.parameters(),lr=0.01)"
   ]
  },
  {
   "cell_type": "code",
   "execution_count": 106,
   "id": "03d42082",
   "metadata": {},
   "outputs": [
    {
     "name": "stdout",
     "output_type": "stream",
     "text": [
      "epoch1: w=0.425,loss=9.490\n",
      "epoch2: w=0.284,loss=1.919\n",
      "epoch3: w=0.223,loss=0.461\n",
      "epoch4: w=0.195,loss=0.180\n",
      "epoch5: w=0.183,loss=0.125\n",
      "epoch6: w=0.178,loss=0.115\n",
      "epoch7: w=0.175,loss=0.112\n",
      "epoch8: w=0.174,loss=0.111\n",
      "epoch9: w=0.173,loss=0.111\n",
      "epoch10: w=0.172,loss=0.111\n"
     ]
    },
    {
     "name": "stderr",
     "output_type": "stream",
     "text": [
      "C:\\Users\\shehz\\Desktop\\new enviroment\\envir1\\lib\\site-packages\\torch\\nn\\modules\\loss.py:529: UserWarning: Using a target size (torch.Size([50, 1])) that is different to the input size (torch.Size([50, 1, 1])). This will likely lead to incorrect results due to broadcasting. Please ensure they have the same size.\n",
      "  return F.mse_loss(input, target, reduction=self.reduction)\n"
     ]
    }
   ],
   "source": [
    "#now trainig loop\n",
    "los=[]\n",
    "epochs=[]\n",
    "for epoch in range(10):\n",
    "    epochs.append(epoch)\n",
    "    H=hypothesis(X)\n",
    "    #call loss function\n",
    "    l=loss(Y,H)\n",
    "    los.append(l)\n",
    "    #gradient\n",
    "    l.backward()\n",
    "    \n",
    "    gradient.step()\n",
    "    gradient.zero_grad()\n",
    "    [w1,w2]=hypothesis.parameters()\n",
    "    print(f'epoch{epoch+1}: w={w1[0][0].item():.3f},loss={l:.3f}')\n",
    "    "
   ]
  },
  {
   "cell_type": "code",
   "execution_count": 107,
   "id": "d03a979a",
   "metadata": {},
   "outputs": [
    {
     "data": {
      "image/png": "[encoded data removed]",
      "text/plain": [
       "<Figure size 432x288 with 1 Axes>"
      ]
     },
     "metadata": {
      "needs_background": "light"
     },
     "output_type": "display_data"
    }
   ],
   "source": [
    "with torch.no_grad():\n",
    "    plt.plot(epochs,los,'r')\n",
    "    plt.show()"
   ]
  },
  {
   "cell_type": "code",
   "execution_count": 108,
   "id": "be0c8ea9",
   "metadata": {},
   "outputs": [],
   "source": [
    "#2nd way of doing this\n",
    "class linear_regression(nn.Module):\n",
    "    def __init__(self,input_size,output_size):\n",
    "        super(linear_regression,self).__init__()\n",
    "        self.linear=nn.Linear(input_size,output_size)\n",
    "    \n",
    "    def forward(self,x):\n",
    "        h=self.linear(x)\n",
    "        return h\n",
    "        "
   ]
  },
  {
   "cell_type": "code",
   "execution_count": 109,
   "id": "ef407c97",
   "metadata": {},
   "outputs": [],
   "source": [
    "hypothesis2=linear_regression(input_size,output_size)\n",
    "loss2=nn.MSELoss()\n",
    "# gradient\n",
    "gradient2=torch.optim.SGD(hypothesis2.parameters(),lr=0.01)"
   ]
  },
  {
   "cell_type": "code",
   "execution_count": 110,
   "id": "c35f4dfa",
   "metadata": {},
   "outputs": [
    {
     "name": "stdout",
     "output_type": "stream",
     "text": [
      "epoch10: w=0.153,loss=6.010\n",
      "epoch10: w=0.261,loss=1.482\n",
      "epoch10: w=0.307,loss=0.609\n",
      "epoch10: w=0.328,loss=0.440\n",
      "epoch10: w=0.336,loss=0.406\n",
      "epoch10: w=0.339,loss=0.398\n",
      "epoch10: w=0.340,loss=0.396\n",
      "epoch10: w=0.340,loss=0.394\n",
      "epoch10: w=0.340,loss=0.392\n",
      "epoch10: w=0.339,loss=0.391\n"
     ]
    }
   ],
   "source": [
    "steps=[]\n",
    "losss=[]\n",
    "for i in range(10):\n",
    "    steps.append(i)\n",
    "    hypo=hypothesis2(X)\n",
    "    l2=loss2(Y,hypo)\n",
    "    losss.append(l2)\n",
    "    #gradient\n",
    "    \n",
    "    l2.backward()\n",
    "    \n",
    "    gradient2.step()\n",
    "    gradient2.zero_grad()\n",
    "    \n",
    "    [w1,w2]=hypothesis2.parameters()\n",
    "    print(f'epoch{epoch+1}: w={w1[0][0].item():.3f},loss={l2:.3f}')\n",
    "    \n",
    "    "
   ]
  },
  {
   "cell_type": "code",
   "execution_count": 112,
   "id": "df22a848",
   "metadata": {},
   "outputs": [
    {
     "data": {
      "image/png": "[encoded data removed]",
      "text/plain": [
       "<Figure size 432x288 with 1 Axes>"
      ]
     },
     "metadata": {
      "needs_background": "light"
     },
     "output_type": "display_data"
    }
   ],
   "source": [
    "with torch.no_grad():\n",
    "    plt.plot(steps,losss,'r')\n",
    "    plt.show()"
   ]
  },
  {
   "cell_type": "code",
   "execution_count": null,
   "id": "70edb246",
   "metadata": {},
   "outputs": [],
   "source": []
  }
 ],
 "metadata": {
  "kernelspec": {
   "display_name": "Python 3 (ipykernel)",
   "language": "python",
   "name": "python3"
  },
  "language_info": {
   "codemirror_mode": {
    "name": "ipython",
    "version": 3
   },
   "file_extension": ".py",
   "mimetype": "text/x-python",
   "name": "python",
   "nbconvert_exporter": "python",
   "pygments_lexer": "ipython3",
   "version": "3.10.0"
  }
 },
 "nbformat": 4,
 "nbformat_minor": 5
}
