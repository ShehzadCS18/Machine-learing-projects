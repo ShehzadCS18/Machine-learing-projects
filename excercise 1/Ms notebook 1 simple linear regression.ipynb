{
 "cells": [
  {
   "cell_type": "code",
   "execution_count": 1,
   "id": "b27d85d1",
   "metadata": {},
   "outputs": [],
   "source": [
    "import numpy as np\n",
    "import matplotlib.pyplot as plt"
   ]
  },
  {
   "cell_type": "code",
   "execution_count": 2,
   "id": "361d9d23",
   "metadata": {},
   "outputs": [],
   "source": [
    "#load data\n",
    "x=np.loadtxt('ex2x.dat')"
   ]
  },
  {
   "cell_type": "code",
   "execution_count": 3,
   "id": "5325433f",
   "metadata": {},
   "outputs": [],
   "source": [
    "y=np.loadtxt('ex2y.dat')"
   ]
  },
  {
   "cell_type": "code",
   "execution_count": 4,
   "id": "d5112b73",
   "metadata": {},
   "outputs": [
    {
     "data": {
      "image/png": "[encoded data removed]",
      "text/plain": [
       "<Figure size 432x288 with 1 Axes>"
      ]
     },
     "metadata": {
      "needs_background": "light"
     },
     "output_type": "display_data"
    }
   ],
   "source": [
    "plt.scatter(x,y)\n",
    "plt.show()"
   ]
  },
  {
   "cell_type": "code",
   "execution_count": 5,
   "id": "b745cbce",
   "metadata": {},
   "outputs": [
    {
     "name": "stdout",
     "output_type": "stream",
     "text": [
      "[2.0658746 2.3684087 2.5399929 2.5420804 2.549079  2.7866882 2.9116825\n",
      " 3.035627  3.1146696 3.1582389 3.3275944 3.3793165 3.4122006 3.4215823\n",
      " 3.5315732 3.6393002 3.6732537 3.9256462 4.0498646 4.2483348 4.3440052\n",
      " 4.3826531 4.4230602 4.6102443 4.6881183 4.9777333 5.0359967 5.0684536\n",
      " 5.4161491 5.4395623 5.4563207 5.5698458 5.6015729 5.6877617 5.7215602\n",
      " 5.8538914 6.1978026 6.3510941 6.4797033 6.7383791 6.8637686 7.0223387\n",
      " 7.0782373 7.1514232 7.4664023 7.5973874 7.7440717 7.7729662 7.8264514\n",
      " 7.9306356]\n"
     ]
    }
   ],
   "source": [
    "print(x)"
   ]
  },
  {
   "cell_type": "code",
   "execution_count": 6,
   "id": "1559908f",
   "metadata": {},
   "outputs": [
    {
     "data": {
      "text/plain": [
       "(50,)"
      ]
     },
     "execution_count": 6,
     "metadata": {},
     "output_type": "execute_result"
    }
   ],
   "source": [
    "x.shape"
   ]
  },
  {
   "cell_type": "code",
   "execution_count": 7,
   "id": "73ed960c",
   "metadata": {},
   "outputs": [
    {
     "name": "stdout",
     "output_type": "stream",
     "text": [
      "[0.77918926 0.91596757 0.90538354 0.90566138 0.9389889  0.9668474\n",
      " 0.96436824 0.91445939 0.93933944 0.96074971 0.89837094 0.91209739\n",
      " 0.94238499 0.96624578 1.05265    1.0143791  0.95969426 0.96853716\n",
      " 1.0766065  1.1454978  1.0340625  1.0070009  0.96683648 1.0895919\n",
      " 1.0634462  1.1237239  1.0323374  1.0874452  1.0702988  1.1606493\n",
      " 1.0778037  1.1069758  1.0971875  1.1648603  1.1411796  1.0844156\n",
      " 1.1252493  1.1168341  1.1970789  1.2069462  1.1251046  1.1235672\n",
      " 1.2132829  1.2522652  1.2497065  1.1799706  1.1897299  1.3029934\n",
      " 1.2601134  1.2562267 ]\n"
     ]
    }
   ],
   "source": [
    "print(y)"
   ]
  },
  {
   "cell_type": "code",
   "execution_count": 8,
   "id": "59c568ef",
   "metadata": {},
   "outputs": [],
   "source": [
    "X=x.reshape(x.shape[0],1)"
   ]
  },
  {
   "cell_type": "code",
   "execution_count": 9,
   "id": "7457aa2c",
   "metadata": {},
   "outputs": [
    {
     "data": {
      "text/plain": [
       "(50, 1)"
      ]
     },
     "execution_count": 9,
     "metadata": {},
     "output_type": "execute_result"
    }
   ],
   "source": [
    "X.shape"
   ]
  },
  {
   "cell_type": "code",
   "execution_count": 10,
   "id": "f6b8fbef",
   "metadata": {},
   "outputs": [
    {
     "data": {
      "text/plain": [
       "array([0.77918926, 0.91596757, 0.90538354, 0.90566138, 0.9389889 ,\n",
       "       0.9668474 , 0.96436824, 0.91445939, 0.93933944, 0.96074971,\n",
       "       0.89837094, 0.91209739, 0.94238499, 0.96624578, 1.05265   ,\n",
       "       1.0143791 , 0.95969426, 0.96853716, 1.0766065 , 1.1454978 ,\n",
       "       1.0340625 , 1.0070009 , 0.96683648, 1.0895919 , 1.0634462 ,\n",
       "       1.1237239 , 1.0323374 , 1.0874452 , 1.0702988 , 1.1606493 ,\n",
       "       1.0778037 , 1.1069758 , 1.0971875 , 1.1648603 , 1.1411796 ,\n",
       "       1.0844156 , 1.1252493 , 1.1168341 , 1.1970789 , 1.2069462 ,\n",
       "       1.1251046 , 1.1235672 , 1.2132829 , 1.2522652 , 1.2497065 ,\n",
       "       1.1799706 , 1.1897299 , 1.3029934 , 1.2601134 , 1.2562267 ])"
      ]
     },
     "execution_count": 10,
     "metadata": {},
     "output_type": "execute_result"
    }
   ],
   "source": [
    "y"
   ]
  },
  {
   "cell_type": "code",
   "execution_count": 11,
   "id": "f3fda048",
   "metadata": {},
   "outputs": [],
   "source": [
    "x0=np.ones((x.shape[0],1))"
   ]
  },
  {
   "cell_type": "code",
   "execution_count": 12,
   "id": "7526a87a",
   "metadata": {},
   "outputs": [
    {
     "data": {
      "text/plain": [
       "array([[1.],\n",
       "       [1.],\n",
       "       [1.],\n",
       "       [1.],\n",
       "       [1.],\n",
       "       [1.],\n",
       "       [1.],\n",
       "       [1.],\n",
       "       [1.],\n",
       "       [1.],\n",
       "       [1.],\n",
       "       [1.],\n",
       "       [1.],\n",
       "       [1.],\n",
       "       [1.],\n",
       "       [1.],\n",
       "       [1.],\n",
       "       [1.],\n",
       "       [1.],\n",
       "       [1.],\n",
       "       [1.],\n",
       "       [1.],\n",
       "       [1.],\n",
       "       [1.],\n",
       "       [1.],\n",
       "       [1.],\n",
       "       [1.],\n",
       "       [1.],\n",
       "       [1.],\n",
       "       [1.],\n",
       "       [1.],\n",
       "       [1.],\n",
       "       [1.],\n",
       "       [1.],\n",
       "       [1.],\n",
       "       [1.],\n",
       "       [1.],\n",
       "       [1.],\n",
       "       [1.],\n",
       "       [1.],\n",
       "       [1.],\n",
       "       [1.],\n",
       "       [1.],\n",
       "       [1.],\n",
       "       [1.],\n",
       "       [1.],\n",
       "       [1.],\n",
       "       [1.],\n",
       "       [1.],\n",
       "       [1.]])"
      ]
     },
     "execution_count": 12,
     "metadata": {},
     "output_type": "execute_result"
    }
   ],
   "source": [
    "x0"
   ]
  },
  {
   "cell_type": "code",
   "execution_count": 13,
   "id": "d1242c03",
   "metadata": {},
   "outputs": [
    {
     "data": {
      "text/plain": [
       "(50, 1)"
      ]
     },
     "execution_count": 13,
     "metadata": {},
     "output_type": "execute_result"
    }
   ],
   "source": [
    "x0.shape"
   ]
  },
  {
   "cell_type": "code",
   "execution_count": 14,
   "id": "0f7ee8eb",
   "metadata": {},
   "outputs": [],
   "source": [
    "X=np.concatenate((x0,X),axis=1)"
   ]
  },
  {
   "cell_type": "code",
   "execution_count": 15,
   "id": "de5cad8e",
   "metadata": {},
   "outputs": [
    {
     "data": {
      "text/plain": [
       "(50, 2)"
      ]
     },
     "execution_count": 15,
     "metadata": {},
     "output_type": "execute_result"
    }
   ],
   "source": [
    "X.shape"
   ]
  },
  {
   "cell_type": "code",
   "execution_count": 16,
   "id": "c25ad42a",
   "metadata": {},
   "outputs": [
    {
     "data": {
      "text/plain": [
       "array([[1.       , 2.0658746],\n",
       "       [1.       , 2.3684087],\n",
       "       [1.       , 2.5399929],\n",
       "       [1.       , 2.5420804],\n",
       "       [1.       , 2.549079 ],\n",
       "       [1.       , 2.7866882],\n",
       "       [1.       , 2.9116825],\n",
       "       [1.       , 3.035627 ],\n",
       "       [1.       , 3.1146696],\n",
       "       [1.       , 3.1582389],\n",
       "       [1.       , 3.3275944],\n",
       "       [1.       , 3.3793165],\n",
       "       [1.       , 3.4122006],\n",
       "       [1.       , 3.4215823],\n",
       "       [1.       , 3.5315732],\n",
       "       [1.       , 3.6393002],\n",
       "       [1.       , 3.6732537],\n",
       "       [1.       , 3.9256462],\n",
       "       [1.       , 4.0498646],\n",
       "       [1.       , 4.2483348],\n",
       "       [1.       , 4.3440052],\n",
       "       [1.       , 4.3826531],\n",
       "       [1.       , 4.4230602],\n",
       "       [1.       , 4.6102443],\n",
       "       [1.       , 4.6881183],\n",
       "       [1.       , 4.9777333],\n",
       "       [1.       , 5.0359967],\n",
       "       [1.       , 5.0684536],\n",
       "       [1.       , 5.4161491],\n",
       "       [1.       , 5.4395623],\n",
       "       [1.       , 5.4563207],\n",
       "       [1.       , 5.5698458],\n",
       "       [1.       , 5.6015729],\n",
       "       [1.       , 5.6877617],\n",
       "       [1.       , 5.7215602],\n",
       "       [1.       , 5.8538914],\n",
       "       [1.       , 6.1978026],\n",
       "       [1.       , 6.3510941],\n",
       "       [1.       , 6.4797033],\n",
       "       [1.       , 6.7383791],\n",
       "       [1.       , 6.8637686],\n",
       "       [1.       , 7.0223387],\n",
       "       [1.       , 7.0782373],\n",
       "       [1.       , 7.1514232],\n",
       "       [1.       , 7.4664023],\n",
       "       [1.       , 7.5973874],\n",
       "       [1.       , 7.7440717],\n",
       "       [1.       , 7.7729662],\n",
       "       [1.       , 7.8264514],\n",
       "       [1.       , 7.9306356]])"
      ]
     },
     "execution_count": 16,
     "metadata": {},
     "output_type": "execute_result"
    }
   ],
   "source": [
    "X"
   ]
  },
  {
   "cell_type": "code",
   "execution_count": 17,
   "id": "37116ed5",
   "metadata": {},
   "outputs": [],
   "source": [
    "def hypo(theta):\n",
    "    result=np.dot(X,theta.T)\n",
    "    return result"
   ]
  },
  {
   "cell_type": "code",
   "execution_count": 18,
   "id": "70d187a2",
   "metadata": {},
   "outputs": [],
   "source": [
    "theta=np.zeros(X.shape[1])"
   ]
  },
  {
   "cell_type": "code",
   "execution_count": 19,
   "id": "227353f3",
   "metadata": {},
   "outputs": [
    {
     "data": {
      "text/plain": [
       "array([0., 0.])"
      ]
     },
     "execution_count": 19,
     "metadata": {},
     "output_type": "execute_result"
    }
   ],
   "source": [
    "theta"
   ]
  },
  {
   "cell_type": "code",
   "execution_count": 31,
   "id": "ce8e2afa",
   "metadata": {},
   "outputs": [],
   "source": [
    "hp=hypo(theta)"
   ]
  },
  {
   "cell_type": "code",
   "execution_count": 28,
   "id": "21b85e49",
   "metadata": {},
   "outputs": [],
   "source": [
    "def cost(m,y,hp):\n",
    "    result=(1/2*m)*np.sum((hp-y)**2)\n",
    "    return result"
   ]
  },
  {
   "cell_type": "code",
   "execution_count": 29,
   "id": "fca3fb35",
   "metadata": {},
   "outputs": [],
   "source": [
    "m=X.shape[0]"
   ]
  },
  {
   "cell_type": "code",
   "execution_count": 30,
   "id": "80ad4fa8",
   "metadata": {},
   "outputs": [
    {
     "data": {
      "text/plain": [
       "50"
      ]
     },
     "execution_count": 30,
     "metadata": {},
     "output_type": "execute_result"
    }
   ],
   "source": [
    "m"
   ]
  },
  {
   "cell_type": "code",
   "execution_count": 32,
   "id": "40a407a8",
   "metadata": {},
   "outputs": [
    {
     "data": {
      "text/plain": [
       "1434.3312268418026"
      ]
     },
     "execution_count": 32,
     "metadata": {},
     "output_type": "execute_result"
    }
   ],
   "source": [
    "cost(m,y,hp)"
   ]
  },
  {
   "cell_type": "code",
   "execution_count": 33,
   "id": "0e001b62",
   "metadata": {},
   "outputs": [],
   "source": [
    "def gradient(m,x,y,hp):\n",
    "    result=(1/m)*np.dot(x.T,hp-y)\n",
    "    return result\n",
    "    "
   ]
  },
  {
   "cell_type": "code",
   "execution_count": 54,
   "id": "8cba4e46",
   "metadata": {},
   "outputs": [
    {
     "name": "stderr",
     "output_type": "stream",
     "text": [
      "C:\\Users\\shehz\\.conda\\envs\\enviroment1\\lib\\site-packages\\ipykernel_launcher.py:2: RuntimeWarning: overflow encountered in square\n",
      "  \n",
      "C:\\Users\\shehz\\.conda\\envs\\enviroment1\\lib\\site-packages\\ipykernel_launcher.py:9: RuntimeWarning: invalid value encountered in subtract\n",
      "  if __name__ == \"__main__\":\n"
     ]
    }
   ],
   "source": [
    "los=[]\n",
    "lr=0.1\n",
    "iteration=100\n",
    "for i in range(iteration):\n",
    "    h=hypo(theta)\n",
    "    c=cost(m,y,h)\n",
    "    los.append(c)\n",
    "    d=gradient(m,X,y,h)\n",
    "    theta-=lr*d"
   ]
  },
  {
   "cell_type": "code",
   "execution_count": 55,
   "id": "858d92e1",
   "metadata": {},
   "outputs": [
    {
     "data": {
      "image/png": "[encoded data removed]",
      "text/plain": [
       "<Figure size 432x288 with 1 Axes>"
      ]
     },
     "metadata": {
      "needs_background": "light"
     },
     "output_type": "display_data"
    }
   ],
   "source": [
    "plt.plot(los)\n",
    "plt.show()"
   ]
  },
  {
   "cell_type": "code",
   "execution_count": 38,
   "id": "bf2786c9",
   "metadata": {},
   "outputs": [
    {
     "data": {
      "image/png": "[encoded data removed]",
      "text/plain": [
       "<Figure size 432x288 with 1 Axes>"
      ]
     },
     "metadata": {
      "needs_background": "light"
     },
     "output_type": "display_data"
    }
   ],
   "source": [
    "#plt.scatter(x,y)\n",
    "#plt.show()"
   ]
  },
  {
   "cell_type": "code",
   "execution_count": 40,
   "id": "7597c5c9",
   "metadata": {},
   "outputs": [
    {
     "data": {
      "image/png": "[encoded data removed]",
      "text/plain": [
       "<Figure size 432x288 with 1 Axes>"
      ]
     },
     "metadata": {
      "needs_background": "light"
     },
     "output_type": "display_data"
    }
   ],
   "source": [
    "plt.plot(x,h)\n",
    "\n",
    "plt.show()"
   ]
  },
  {
   "cell_type": "code",
   "execution_count": null,
   "id": "4e8ec4be",
   "metadata": {},
   "outputs": [],
   "source": []
  }
 ],
 "metadata": {
  "kernelspec": {
   "display_name": "Python 3 (ipykernel)",
   "language": "python",
   "name": "python3"
  },
  "language_info": {
   "codemirror_mode": {
    "name": "ipython",
    "version": 3
   },
   "file_extension": ".py",
   "mimetype": "text/x-python",
   "name": "python",
   "nbconvert_exporter": "python",
   "pygments_lexer": "ipython3",
   "version": "3.7.13"
  }
 },
 "nbformat": 4,
 "nbformat_minor": 5
}
