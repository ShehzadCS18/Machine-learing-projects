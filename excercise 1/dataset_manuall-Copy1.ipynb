{
 "cells": [
  {
   "cell_type": "code",
   "execution_count": 1,
   "id": "fe498f5b",
   "metadata": {},
   "outputs": [],
   "source": [
    "import numpy as np\n",
    "import matplotlib.pyplot as plt"
   ]
  },
  {
   "cell_type": "code",
   "execution_count": 2,
   "id": "dc064479",
   "metadata": {},
   "outputs": [],
   "source": [
    "X=np.loadtxt('ex2x.dat')\n",
    "Y=np.loadtxt('ex2y.dat')"
   ]
  },
  {
   "cell_type": "code",
   "execution_count": 3,
   "id": "79a60b50",
   "metadata": {},
   "outputs": [
    {
     "name": "stdout",
     "output_type": "stream",
     "text": [
      "[2.0658746 2.3684087 2.5399929 2.5420804 2.549079  2.7866882 2.9116825\n",
      " 3.035627  3.1146696 3.1582389 3.3275944 3.3793165 3.4122006 3.4215823\n",
      " 3.5315732 3.6393002 3.6732537 3.9256462 4.0498646 4.2483348 4.3440052\n",
      " 4.3826531 4.4230602 4.6102443 4.6881183 4.9777333 5.0359967 5.0684536\n",
      " 5.4161491 5.4395623 5.4563207 5.5698458 5.6015729 5.6877617 5.7215602\n",
      " 5.8538914 6.1978026 6.3510941 6.4797033 6.7383791 6.8637686 7.0223387\n",
      " 7.0782373 7.1514232 7.4664023 7.5973874 7.7440717 7.7729662 7.8264514\n",
      " 7.9306356]\n",
      "50\n"
     ]
    }
   ],
   "source": [
    "print(X)\n",
    "print(len(X))"
   ]
  },
  {
   "cell_type": "code",
   "execution_count": 4,
   "id": "5bebd72b",
   "metadata": {
    "scrolled": true
   },
   "outputs": [
    {
     "name": "stdout",
     "output_type": "stream",
     "text": [
      "[0.77918926 0.91596757 0.90538354 0.90566138 0.9389889  0.9668474\n",
      " 0.96436824 0.91445939 0.93933944 0.96074971 0.89837094 0.91209739\n",
      " 0.94238499 0.96624578 1.05265    1.0143791  0.95969426 0.96853716\n",
      " 1.0766065  1.1454978  1.0340625  1.0070009  0.96683648 1.0895919\n",
      " 1.0634462  1.1237239  1.0323374  1.0874452  1.0702988  1.1606493\n",
      " 1.0778037  1.1069758  1.0971875  1.1648603  1.1411796  1.0844156\n",
      " 1.1252493  1.1168341  1.1970789  1.2069462  1.1251046  1.1235672\n",
      " 1.2132829  1.2522652  1.2497065  1.1799706  1.1897299  1.3029934\n",
      " 1.2601134  1.2562267 ]\n",
      "<class 'numpy.ndarray'>\n",
      "50\n",
      "(50,)\n"
     ]
    }
   ],
   "source": [
    "print(Y)\n",
    "print(type(Y))\n",
    "print(len(Y))\n",
    "print(Y.shape)"
   ]
  },
  {
   "cell_type": "code",
   "execution_count": 5,
   "id": "1e56f43c",
   "metadata": {},
   "outputs": [
    {
     "data": {
      "text/plain": [
       "(50,)"
      ]
     },
     "execution_count": 5,
     "metadata": {},
     "output_type": "execute_result"
    }
   ],
   "source": [
    "X.shape"
   ]
  },
  {
   "cell_type": "code",
   "execution_count": 6,
   "id": "48d42359",
   "metadata": {},
   "outputs": [
    {
     "name": "stdout",
     "output_type": "stream",
     "text": [
      "(50, 1)\n",
      "(50, 1)\n"
     ]
    }
   ],
   "source": [
    "ones=np.ones([X.shape[0],1])\n",
    "print(ones.shape)\n",
    "X=X.reshape(X.shape[0],1)\n",
    "print(X.shape)"
   ]
  },
  {
   "cell_type": "code",
   "execution_count": 7,
   "id": "f5680650",
   "metadata": {},
   "outputs": [],
   "source": [
    "X=np.concatenate((ones,X),axis=1)"
   ]
  },
  {
   "cell_type": "code",
   "execution_count": 8,
   "id": "c48eae17",
   "metadata": {},
   "outputs": [],
   "source": [
    "def forward(x):\n",
    "    return np.dot(w,x)"
   ]
  },
  {
   "cell_type": "code",
   "execution_count": 11,
   "id": "cadb762b",
   "metadata": {},
   "outputs": [],
   "source": [
    "f=forward(X.T)"
   ]
  },
  {
   "cell_type": "code",
   "execution_count": 12,
   "id": "b67d2e0a",
   "metadata": {},
   "outputs": [],
   "source": [
    "def loss(m,y,y_predicted):\n",
    "    return((1/(2*m))*np.sum(np.square(y_predicted-y)))"
   ]
  },
  {
   "cell_type": "code",
   "execution_count": 13,
   "id": "3d179989",
   "metadata": {},
   "outputs": [],
   "source": [
    "def gradient(m,x,y,y_predicted):\n",
    "    return((1/m)*np.dot(x.T,y_predicted-y))"
   ]
  },
  {
   "cell_type": "code",
   "execution_count": 17,
   "id": "28e0d5e5",
   "metadata": {},
   "outputs": [],
   "source": [
    "s=gradient(m,X,Y,f)"
   ]
  },
  {
   "cell_type": "code",
   "execution_count": 18,
   "id": "c8e353d0",
   "metadata": {},
   "outputs": [
    {
     "data": {
      "text/plain": [
       "(2,)"
      ]
     },
     "execution_count": 18,
     "metadata": {},
     "output_type": "execute_result"
    }
   ],
   "source": [
    "s.shape"
   ]
  },
  {
   "cell_type": "code",
   "execution_count": 51,
   "id": "9885d986",
   "metadata": {},
   "outputs": [],
   "source": [
    "learning_rate=0.01\n",
    "iterations=10"
   ]
  },
  {
   "cell_type": "code",
   "execution_count": 10,
   "id": "2d01f6fc",
   "metadata": {},
   "outputs": [],
   "source": [
    "w=np.zeros(X.shape[1])"
   ]
  },
  {
   "cell_type": "code",
   "execution_count": 15,
   "id": "588fedda",
   "metadata": {},
   "outputs": [],
   "source": [
    "m=X.shape[0]"
   ]
  },
  {
   "cell_type": "code",
   "execution_count": 54,
   "id": "3c9b4932",
   "metadata": {},
   "outputs": [],
   "source": [
    "l=[]\n",
    "epochs=[]\n",
    "for epoch in range(iterations):\n",
    "    epochs.append(epoch)\n",
    "    y_pred=forward(X.T)\n",
    "    los=loss(m,Y,y_pred)\n",
    "    l.append(los)\n",
    "    dw=gradient(m,X,Y,y_pred)\n",
    "    w-=learning_rate*dw\n",
    "    "
   ]
  },
  {
   "cell_type": "code",
   "execution_count": 55,
   "id": "c6768d9d",
   "metadata": {},
   "outputs": [
    {
     "data": {
      "image/png": "[encoded data removed]",
      "text/plain": [
       "<Figure size 432x288 with 1 Axes>"
      ]
     },
     "metadata": {
      "needs_background": "light"
     },
     "output_type": "display_data"
    }
   ],
   "source": [
    "plt.plot(l)\n",
    "plt.show()"
   ]
  },
  {
   "cell_type": "code",
   "execution_count": null,
   "id": "2afb1524",
   "metadata": {},
   "outputs": [],
   "source": []
  }
 ],
 "metadata": {
  "kernelspec": {
   "display_name": "Python 3 (ipykernel)",
   "language": "python",
   "name": "python3"
  },
  "language_info": {
   "codemirror_mode": {
    "name": "ipython",
    "version": 3
   },
   "file_extension": ".py",
   "mimetype": "text/x-python",
   "name": "python",
   "nbconvert_exporter": "python",
   "pygments_lexer": "ipython3",
   "version": "3.7.13"
  }
 },
 "nbformat": 4,
 "nbformat_minor": 5
}
