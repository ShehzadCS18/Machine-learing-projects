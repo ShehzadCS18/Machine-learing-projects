{
 "cells": [
  {
   "cell_type": "code",
   "execution_count": 1,
   "id": "8b33cc3b",
   "metadata": {},
   "outputs": [],
   "source": [
    "import numpy as np\n",
    "import matplotlib.pyplot as plt"
   ]
  },
  {
   "cell_type": "code",
   "execution_count": 2,
   "id": "e6a668ca",
   "metadata": {},
   "outputs": [],
   "source": [
    "#2nd step is to read the data\n",
    "X=np.loadtxt('ex2x.dat')\n",
    "Y=np.loadtxt('ex2y.dat')"
   ]
  },
  {
   "cell_type": "code",
   "execution_count": 3,
   "id": "69ce2063",
   "metadata": {},
   "outputs": [
    {
     "data": {
      "text/plain": [
       "array([2.0658746, 2.3684087, 2.5399929, 2.5420804, 2.549079 , 2.7866882,\n",
       "       2.9116825, 3.035627 , 3.1146696, 3.1582389, 3.3275944, 3.3793165,\n",
       "       3.4122006, 3.4215823, 3.5315732, 3.6393002, 3.6732537, 3.9256462,\n",
       "       4.0498646, 4.2483348, 4.3440052, 4.3826531, 4.4230602, 4.6102443,\n",
       "       4.6881183, 4.9777333, 5.0359967, 5.0684536, 5.4161491, 5.4395623,\n",
       "       5.4563207, 5.5698458, 5.6015729, 5.6877617, 5.7215602, 5.8538914,\n",
       "       6.1978026, 6.3510941, 6.4797033, 6.7383791, 6.8637686, 7.0223387,\n",
       "       7.0782373, 7.1514232, 7.4664023, 7.5973874, 7.7440717, 7.7729662,\n",
       "       7.8264514, 7.9306356])"
      ]
     },
     "execution_count": 3,
     "metadata": {},
     "output_type": "execute_result"
    }
   ],
   "source": [
    "X"
   ]
  },
  {
   "cell_type": "code",
   "execution_count": 4,
   "id": "30905b55",
   "metadata": {},
   "outputs": [
    {
     "data": {
      "text/plain": [
       "(50,)"
      ]
     },
     "execution_count": 4,
     "metadata": {},
     "output_type": "execute_result"
    }
   ],
   "source": [
    "X.shape"
   ]
  },
  {
   "cell_type": "code",
   "execution_count": 5,
   "id": "87572143",
   "metadata": {},
   "outputs": [
    {
     "data": {
      "text/plain": [
       "(50,)"
      ]
     },
     "execution_count": 5,
     "metadata": {},
     "output_type": "execute_result"
    }
   ],
   "source": [
    "Y.shape"
   ]
  },
  {
   "cell_type": "code",
   "execution_count": 6,
   "id": "cef23067",
   "metadata": {},
   "outputs": [],
   "source": [
    "X=X.reshape([X.shape[0],1])"
   ]
  },
  {
   "cell_type": "code",
   "execution_count": 7,
   "id": "846dfcac",
   "metadata": {},
   "outputs": [
    {
     "data": {
      "text/plain": [
       "array([[2.0658746],\n",
       "       [2.3684087],\n",
       "       [2.5399929],\n",
       "       [2.5420804],\n",
       "       [2.549079 ],\n",
       "       [2.7866882],\n",
       "       [2.9116825],\n",
       "       [3.035627 ],\n",
       "       [3.1146696],\n",
       "       [3.1582389],\n",
       "       [3.3275944],\n",
       "       [3.3793165],\n",
       "       [3.4122006],\n",
       "       [3.4215823],\n",
       "       [3.5315732],\n",
       "       [3.6393002],\n",
       "       [3.6732537],\n",
       "       [3.9256462],\n",
       "       [4.0498646],\n",
       "       [4.2483348],\n",
       "       [4.3440052],\n",
       "       [4.3826531],\n",
       "       [4.4230602],\n",
       "       [4.6102443],\n",
       "       [4.6881183],\n",
       "       [4.9777333],\n",
       "       [5.0359967],\n",
       "       [5.0684536],\n",
       "       [5.4161491],\n",
       "       [5.4395623],\n",
       "       [5.4563207],\n",
       "       [5.5698458],\n",
       "       [5.6015729],\n",
       "       [5.6877617],\n",
       "       [5.7215602],\n",
       "       [5.8538914],\n",
       "       [6.1978026],\n",
       "       [6.3510941],\n",
       "       [6.4797033],\n",
       "       [6.7383791],\n",
       "       [6.8637686],\n",
       "       [7.0223387],\n",
       "       [7.0782373],\n",
       "       [7.1514232],\n",
       "       [7.4664023],\n",
       "       [7.5973874],\n",
       "       [7.7440717],\n",
       "       [7.7729662],\n",
       "       [7.8264514],\n",
       "       [7.9306356]])"
      ]
     },
     "execution_count": 7,
     "metadata": {},
     "output_type": "execute_result"
    }
   ],
   "source": [
    "X"
   ]
  },
  {
   "cell_type": "code",
   "execution_count": 11,
   "id": "ac298c4f",
   "metadata": {},
   "outputs": [],
   "source": [
    "x0=np.ones([X.shape[0],1])"
   ]
  },
  {
   "cell_type": "code",
   "execution_count": 12,
   "id": "f9cdf1c7",
   "metadata": {},
   "outputs": [
    {
     "data": {
      "text/plain": [
       "array([[1.],\n",
       "       [1.],\n",
       "       [1.],\n",
       "       [1.],\n",
       "       [1.],\n",
       "       [1.],\n",
       "       [1.],\n",
       "       [1.],\n",
       "       [1.],\n",
       "       [1.],\n",
       "       [1.],\n",
       "       [1.],\n",
       "       [1.],\n",
       "       [1.],\n",
       "       [1.],\n",
       "       [1.],\n",
       "       [1.],\n",
       "       [1.],\n",
       "       [1.],\n",
       "       [1.],\n",
       "       [1.],\n",
       "       [1.],\n",
       "       [1.],\n",
       "       [1.],\n",
       "       [1.],\n",
       "       [1.],\n",
       "       [1.],\n",
       "       [1.],\n",
       "       [1.],\n",
       "       [1.],\n",
       "       [1.],\n",
       "       [1.],\n",
       "       [1.],\n",
       "       [1.],\n",
       "       [1.],\n",
       "       [1.],\n",
       "       [1.],\n",
       "       [1.],\n",
       "       [1.],\n",
       "       [1.],\n",
       "       [1.],\n",
       "       [1.],\n",
       "       [1.],\n",
       "       [1.],\n",
       "       [1.],\n",
       "       [1.],\n",
       "       [1.],\n",
       "       [1.],\n",
       "       [1.],\n",
       "       [1.]])"
      ]
     },
     "execution_count": 12,
     "metadata": {},
     "output_type": "execute_result"
    }
   ],
   "source": [
    "x0"
   ]
  },
  {
   "cell_type": "code",
   "execution_count": 13,
   "id": "d812c172",
   "metadata": {},
   "outputs": [
    {
     "data": {
      "text/plain": [
       "50"
      ]
     },
     "execution_count": 13,
     "metadata": {},
     "output_type": "execute_result"
    }
   ],
   "source": [
    "X.shape[0]"
   ]
  },
  {
   "cell_type": "code",
   "execution_count": 14,
   "id": "a371640b",
   "metadata": {},
   "outputs": [
    {
     "data": {
      "text/plain": [
       "1"
      ]
     },
     "execution_count": 14,
     "metadata": {},
     "output_type": "execute_result"
    }
   ],
   "source": [
    "X.shape[1]"
   ]
  },
  {
   "cell_type": "code",
   "execution_count": 15,
   "id": "05e2ade3",
   "metadata": {},
   "outputs": [],
   "source": [
    "X=np.concatenate((x0,X),axis=1)"
   ]
  },
  {
   "cell_type": "code",
   "execution_count": 16,
   "id": "4936bada",
   "metadata": {},
   "outputs": [
    {
     "data": {
      "text/plain": [
       "array([[1.       , 2.0658746],\n",
       "       [1.       , 2.3684087],\n",
       "       [1.       , 2.5399929],\n",
       "       [1.       , 2.5420804],\n",
       "       [1.       , 2.549079 ],\n",
       "       [1.       , 2.7866882],\n",
       "       [1.       , 2.9116825],\n",
       "       [1.       , 3.035627 ],\n",
       "       [1.       , 3.1146696],\n",
       "       [1.       , 3.1582389],\n",
       "       [1.       , 3.3275944],\n",
       "       [1.       , 3.3793165],\n",
       "       [1.       , 3.4122006],\n",
       "       [1.       , 3.4215823],\n",
       "       [1.       , 3.5315732],\n",
       "       [1.       , 3.6393002],\n",
       "       [1.       , 3.6732537],\n",
       "       [1.       , 3.9256462],\n",
       "       [1.       , 4.0498646],\n",
       "       [1.       , 4.2483348],\n",
       "       [1.       , 4.3440052],\n",
       "       [1.       , 4.3826531],\n",
       "       [1.       , 4.4230602],\n",
       "       [1.       , 4.6102443],\n",
       "       [1.       , 4.6881183],\n",
       "       [1.       , 4.9777333],\n",
       "       [1.       , 5.0359967],\n",
       "       [1.       , 5.0684536],\n",
       "       [1.       , 5.4161491],\n",
       "       [1.       , 5.4395623],\n",
       "       [1.       , 5.4563207],\n",
       "       [1.       , 5.5698458],\n",
       "       [1.       , 5.6015729],\n",
       "       [1.       , 5.6877617],\n",
       "       [1.       , 5.7215602],\n",
       "       [1.       , 5.8538914],\n",
       "       [1.       , 6.1978026],\n",
       "       [1.       , 6.3510941],\n",
       "       [1.       , 6.4797033],\n",
       "       [1.       , 6.7383791],\n",
       "       [1.       , 6.8637686],\n",
       "       [1.       , 7.0223387],\n",
       "       [1.       , 7.0782373],\n",
       "       [1.       , 7.1514232],\n",
       "       [1.       , 7.4664023],\n",
       "       [1.       , 7.5973874],\n",
       "       [1.       , 7.7440717],\n",
       "       [1.       , 7.7729662],\n",
       "       [1.       , 7.8264514],\n",
       "       [1.       , 7.9306356]])"
      ]
     },
     "execution_count": 16,
     "metadata": {},
     "output_type": "execute_result"
    }
   ],
   "source": [
    "X"
   ]
  },
  {
   "cell_type": "code",
   "execution_count": 17,
   "id": "12db830b",
   "metadata": {},
   "outputs": [],
   "source": [
    "def hypothesis(X,theta):\n",
    "    result=X.dot(theta.T)\n",
    "    return result"
   ]
  },
  {
   "cell_type": "code",
   "execution_count": 18,
   "id": "8c7dea0f",
   "metadata": {},
   "outputs": [],
   "source": [
    "theta=np.zeros(X.shape[1])"
   ]
  },
  {
   "cell_type": "code",
   "execution_count": 19,
   "id": "ae949789",
   "metadata": {},
   "outputs": [
    {
     "data": {
      "text/plain": [
       "array([0., 0.])"
      ]
     },
     "execution_count": 19,
     "metadata": {},
     "output_type": "execute_result"
    }
   ],
   "source": [
    "theta"
   ]
  },
  {
   "cell_type": "code",
   "execution_count": 23,
   "id": "1671899a",
   "metadata": {},
   "outputs": [
    {
     "data": {
      "text/plain": [
       "array([0., 0., 0., 0., 0., 0., 0., 0., 0., 0., 0., 0., 0., 0., 0., 0., 0.,\n",
       "       0., 0., 0., 0., 0., 0., 0., 0., 0., 0., 0., 0., 0., 0., 0., 0., 0.,\n",
       "       0., 0., 0., 0., 0., 0., 0., 0., 0., 0., 0., 0., 0., 0., 0., 0.])"
      ]
     },
     "execution_count": 23,
     "metadata": {},
     "output_type": "execute_result"
    }
   ],
   "source": [
    "h=hypothesis(X,theta)\n",
    "h"
   ]
  },
  {
   "cell_type": "code",
   "execution_count": 31,
   "id": "0021d794",
   "metadata": {},
   "outputs": [],
   "source": [
    "def loss(m,Y,hyp):\n",
    "    result=((1/2*m)*np.sum((hyp -Y))**2)\n",
    "    return result"
   ]
  },
  {
   "cell_type": "code",
   "execution_count": 32,
   "id": "4c0f3e2f",
   "metadata": {},
   "outputs": [
    {
     "data": {
      "text/plain": [
       "70847.27467873214"
      ]
     },
     "execution_count": 32,
     "metadata": {},
     "output_type": "execute_result"
    }
   ],
   "source": [
    "m=X.shape[0]\n",
    "loss(m,Y,h)"
   ]
  },
  {
   "cell_type": "code",
   "execution_count": 33,
   "id": "ac0eed50",
   "metadata": {},
   "outputs": [],
   "source": [
    "def gradient(m,X,Y,hyp):\n",
    "    result=((1/m)*np.dot(X.T,hyp-Y))\n",
    "    return result"
   ]
  },
  {
   "cell_type": "code",
   "execution_count": 34,
   "id": "1434eeb8",
   "metadata": {},
   "outputs": [
    {
     "data": {
      "text/plain": [
       "array([-1.06468605, -5.42888104])"
      ]
     },
     "execution_count": 34,
     "metadata": {},
     "output_type": "execute_result"
    }
   ],
   "source": [
    "gradient(m,X,Y,h)"
   ]
  },
  {
   "cell_type": "code",
   "execution_count": 36,
   "id": "1e996739",
   "metadata": {},
   "outputs": [
    {
     "name": "stdout",
     "output_type": "stream",
     "text": [
      "step=0,loss=41956.5169\n",
      "step=1,loss=39842.1924\n",
      "step=2,loss=37839.5594\n",
      "step=3,loss=35942.5867\n",
      "step=4,loss=34145.5725\n",
      "step=5,loss=32443.1267\n",
      "step=6,loss=30830.1533\n",
      "step=7,loss=29301.8344\n",
      "step=8,loss=27853.6150\n",
      "step=9,loss=26481.1886\n",
      "step=10,loss=25180.4833\n",
      "step=11,loss=23947.6493\n",
      "step=12,loss=22779.0462\n",
      "step=13,loss=21671.2320\n",
      "step=14,loss=20620.9520\n",
      "step=15,loss=19625.1284\n",
      "step=16,loss=18680.8509\n",
      "step=17,loss=17785.3672\n",
      "step=18,loss=16936.0746\n",
      "step=19,loss=16130.5115\n",
      "step=20,loss=15366.3501\n",
      "step=21,loss=14641.3886\n",
      "step=22,loss=13953.5447\n",
      "step=23,loss=13300.8488\n",
      "step=24,loss=12681.4379\n",
      "step=25,loss=12093.5497\n",
      "step=26,loss=11535.5174\n",
      "step=27,loss=11005.7641\n",
      "step=28,loss=10502.7981\n",
      "step=29,loss=10025.2081\n",
      "step=30,loss=9571.6590\n",
      "step=31,loss=9140.8875\n",
      "step=32,loss=8731.6985\n",
      "step=33,loss=8342.9611\n",
      "step=34,loss=7973.6051\n",
      "step=35,loss=7622.6180\n",
      "step=36,loss=7289.0414\n",
      "step=37,loss=6971.9684\n",
      "step=38,loss=6670.5409\n",
      "step=39,loss=6383.9463\n",
      "step=40,loss=6111.4159\n",
      "step=41,loss=5852.2218\n",
      "step=42,loss=5605.6750\n",
      "step=43,loss=5371.1233\n",
      "step=44,loss=5147.9493\n",
      "step=45,loss=4935.5684\n",
      "step=46,loss=4733.4270\n",
      "step=47,loss=4541.0010\n",
      "step=48,loss=4357.7941\n",
      "step=49,loss=4183.3363\n",
      "step=50,loss=4017.1825\n",
      "step=51,loss=3858.9109\n",
      "step=52,loss=3708.1224\n",
      "step=53,loss=3564.4387\n",
      "step=54,loss=3427.5013\n",
      "step=55,loss=3296.9707\n",
      "step=56,loss=3172.5254\n",
      "step=57,loss=3053.8604\n",
      "step=58,loss=2940.6870\n",
      "step=59,loss=2832.7315\n",
      "step=60,loss=2729.7344\n",
      "step=61,loss=2631.4499\n",
      "step=62,loss=2537.6448\n",
      "step=63,loss=2448.0981\n",
      "step=64,loss=2362.6005\n",
      "step=65,loss=2280.9531\n",
      "step=66,loss=2202.9678\n",
      "step=67,loss=2128.4657\n",
      "step=68,loss=2057.2776\n",
      "step=69,loss=1989.2426\n",
      "step=70,loss=1924.2084\n",
      "step=71,loss=1862.0303\n",
      "step=72,loss=1802.5710\n",
      "step=73,loss=1745.7003\n",
      "step=74,loss=1691.2947\n",
      "step=75,loss=1639.2368\n",
      "step=76,loss=1589.4152\n",
      "step=77,loss=1541.7243\n",
      "step=78,loss=1496.0637\n",
      "step=79,loss=1452.3380\n",
      "step=80,loss=1410.4568\n",
      "step=81,loss=1370.3340\n",
      "step=82,loss=1331.8880\n",
      "step=83,loss=1295.0413\n",
      "step=84,loss=1259.7200\n",
      "step=85,loss=1225.8541\n",
      "step=86,loss=1193.3771\n",
      "step=87,loss=1162.2256\n",
      "step=88,loss=1132.3394\n",
      "step=89,loss=1103.6614\n",
      "step=90,loss=1076.1371\n",
      "step=91,loss=1049.7148\n",
      "step=92,loss=1024.3452\n",
      "step=93,loss=999.9816\n",
      "step=94,loss=976.5793\n",
      "step=95,loss=954.0959\n",
      "step=96,loss=932.4911\n",
      "step=97,loss=911.7264\n",
      "step=98,loss=891.7652\n",
      "step=99,loss=872.5728\n"
     ]
    }
   ],
   "source": [
    "#training loop\n",
    "lr=0.001\n",
    "los=[]\n",
    "for i in range(100):\n",
    "    H=hypothesis(X,theta)\n",
    "    l=loss(m,Y,H)\n",
    "    los.append(l)\n",
    "    d=gradient(m,X,Y,H)\n",
    "    theta=theta-lr*d\n",
    "    print(f'step={i},loss={l:.4f}')\n",
    "    "
   ]
  },
  {
   "cell_type": "code",
   "execution_count": 38,
   "id": "989b79eb",
   "metadata": {},
   "outputs": [
    {
     "data": {
      "image/png": "[encoded data removed]",
      "text/plain": [
       "<Figure size 432x288 with 1 Axes>"
      ]
     },
     "metadata": {
      "needs_background": "light"
     },
     "output_type": "display_data"
    }
   ],
   "source": [
    "# ploting of loss\n",
    "plt.plot(los,'r')\n",
    "plt.title(\"loss function\")\n",
    "plt.show()"
   ]
  },
  {
   "cell_type": "code",
   "execution_count": null,
   "id": "51304674",
   "metadata": {},
   "outputs": [],
   "source": []
  }
 ],
 "metadata": {
  "kernelspec": {
   "display_name": "Python 3 (ipykernel)",
   "language": "python",
   "name": "python3"
  },
  "language_info": {
   "codemirror_mode": {
    "name": "ipython",
    "version": 3
   },
   "file_extension": ".py",
   "mimetype": "text/x-python",
   "name": "python",
   "nbconvert_exporter": "python",
   "pygments_lexer": "ipython3",
   "version": "3.7.13"
  }
 },
 "nbformat": 4,
 "nbformat_minor": 5
}
