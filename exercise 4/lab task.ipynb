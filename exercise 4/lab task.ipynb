{
 "cells": [
  {
   "cell_type": "code",
   "execution_count": 20,
   "id": "feea3feb",
   "metadata": {},
   "outputs": [],
   "source": [
    "import numpy as np\n",
    "import matplotlib.pyplot as plt"
   ]
  },
  {
   "cell_type": "code",
   "execution_count": 21,
   "id": "d99fe133",
   "metadata": {},
   "outputs": [],
   "source": [
    "X=np.loadtxt('ex4x.dat')\n",
    "Y=np.loadtxt('ex4y.dat')"
   ]
  },
  {
   "cell_type": "code",
   "execution_count": 22,
   "id": "13d1c35b",
   "metadata": {},
   "outputs": [
    {
     "name": "stdout",
     "output_type": "stream",
     "text": [
      "(80, 2)\n",
      "(80,)\n"
     ]
    }
   ],
   "source": [
    "print(X.shape)\n",
    "print(Y.shape)"
   ]
  },
  {
   "cell_type": "code",
   "execution_count": 23,
   "id": "326456df",
   "metadata": {},
   "outputs": [
    {
     "data": {
      "text/plain": [
       "array([[55.5, 69.5],\n",
       "       [41. , 81.5],\n",
       "       [53.5, 86. ],\n",
       "       [46. , 84. ],\n",
       "       [41. , 73.5],\n",
       "       [51.5, 69. ],\n",
       "       [51. , 62.5],\n",
       "       [42. , 75. ],\n",
       "       [53.5, 83. ],\n",
       "       [57.5, 71. ],\n",
       "       [42.5, 72.5],\n",
       "       [41. , 80. ],\n",
       "       [46. , 82. ],\n",
       "       [46. , 60.5],\n",
       "       [49.5, 76. ],\n",
       "       [41. , 76. ],\n",
       "       [48.5, 72.5],\n",
       "       [51.5, 82.5],\n",
       "       [44.5, 70.5],\n",
       "       [44. , 66. ],\n",
       "       [33. , 76.5],\n",
       "       [33.5, 78.5],\n",
       "       [31.5, 72. ],\n",
       "       [33. , 81.5],\n",
       "       [42. , 59.5],\n",
       "       [30. , 64. ],\n",
       "       [61. , 45. ],\n",
       "       [49. , 79. ],\n",
       "       [26.5, 64.5],\n",
       "       [34. , 71.5],\n",
       "       [42. , 83.5],\n",
       "       [29.5, 74.5],\n",
       "       [39.5, 70. ],\n",
       "       [51.5, 66. ],\n",
       "       [41.5, 71.5],\n",
       "       [42.5, 79.5],\n",
       "       [35. , 59.5],\n",
       "       [38.5, 73.5],\n",
       "       [32. , 81.5],\n",
       "       [46. , 60.5],\n",
       "       [36.5, 53. ],\n",
       "       [36.5, 53.5],\n",
       "       [24. , 60.5],\n",
       "       [19. , 57.5],\n",
       "       [34.5, 60. ],\n",
       "       [37.5, 64.5],\n",
       "       [35.5, 51. ],\n",
       "       [37. , 50.5],\n",
       "       [21.5, 42. ],\n",
       "       [35.5, 58.5],\n",
       "       [26.5, 68.5],\n",
       "       [26.5, 55.5],\n",
       "       [18.5, 67. ],\n",
       "       [40. , 67. ],\n",
       "       [32.5, 71.5],\n",
       "       [39. , 71.5],\n",
       "       [43. , 55.5],\n",
       "       [22. , 54. ],\n",
       "       [36. , 62.5],\n",
       "       [31. , 55.5],\n",
       "       [38.5, 76. ],\n",
       "       [40. , 75. ],\n",
       "       [37.5, 63. ],\n",
       "       [24.5, 58. ],\n",
       "       [30. , 67. ],\n",
       "       [33. , 56. ],\n",
       "       [56.5, 61. ],\n",
       "       [41. , 57. ],\n",
       "       [49.5, 63. ],\n",
       "       [34.5, 72.5],\n",
       "       [32.5, 69. ],\n",
       "       [36. , 73. ],\n",
       "       [27. , 53.5],\n",
       "       [41. , 63.5],\n",
       "       [29.5, 52.5],\n",
       "       [20. , 65.5],\n",
       "       [38. , 65. ],\n",
       "       [18.5, 74.5],\n",
       "       [16. , 72.5],\n",
       "       [33.5, 68. ]])"
      ]
     },
     "execution_count": 23,
     "metadata": {},
     "output_type": "execute_result"
    }
   ],
   "source": [
    "X"
   ]
  },
  {
   "cell_type": "code",
   "execution_count": 24,
   "id": "3d3365fb",
   "metadata": {},
   "outputs": [],
   "source": [
    "x0=np.ones([X.shape[0],1])"
   ]
  },
  {
   "cell_type": "code",
   "execution_count": 25,
   "id": "7623e1f4",
   "metadata": {},
   "outputs": [
    {
     "data": {
      "text/plain": [
       "array([[1.],\n",
       "       [1.],\n",
       "       [1.],\n",
       "       [1.],\n",
       "       [1.],\n",
       "       [1.],\n",
       "       [1.],\n",
       "       [1.],\n",
       "       [1.],\n",
       "       [1.],\n",
       "       [1.],\n",
       "       [1.],\n",
       "       [1.],\n",
       "       [1.],\n",
       "       [1.],\n",
       "       [1.],\n",
       "       [1.],\n",
       "       [1.],\n",
       "       [1.],\n",
       "       [1.],\n",
       "       [1.],\n",
       "       [1.],\n",
       "       [1.],\n",
       "       [1.],\n",
       "       [1.],\n",
       "       [1.],\n",
       "       [1.],\n",
       "       [1.],\n",
       "       [1.],\n",
       "       [1.],\n",
       "       [1.],\n",
       "       [1.],\n",
       "       [1.],\n",
       "       [1.],\n",
       "       [1.],\n",
       "       [1.],\n",
       "       [1.],\n",
       "       [1.],\n",
       "       [1.],\n",
       "       [1.],\n",
       "       [1.],\n",
       "       [1.],\n",
       "       [1.],\n",
       "       [1.],\n",
       "       [1.],\n",
       "       [1.],\n",
       "       [1.],\n",
       "       [1.],\n",
       "       [1.],\n",
       "       [1.],\n",
       "       [1.],\n",
       "       [1.],\n",
       "       [1.],\n",
       "       [1.],\n",
       "       [1.],\n",
       "       [1.],\n",
       "       [1.],\n",
       "       [1.],\n",
       "       [1.],\n",
       "       [1.],\n",
       "       [1.],\n",
       "       [1.],\n",
       "       [1.],\n",
       "       [1.],\n",
       "       [1.],\n",
       "       [1.],\n",
       "       [1.],\n",
       "       [1.],\n",
       "       [1.],\n",
       "       [1.],\n",
       "       [1.],\n",
       "       [1.],\n",
       "       [1.],\n",
       "       [1.],\n",
       "       [1.],\n",
       "       [1.],\n",
       "       [1.],\n",
       "       [1.],\n",
       "       [1.],\n",
       "       [1.]])"
      ]
     },
     "execution_count": 25,
     "metadata": {},
     "output_type": "execute_result"
    }
   ],
   "source": [
    "x0"
   ]
  },
  {
   "cell_type": "code",
   "execution_count": 26,
   "id": "69cf8b75",
   "metadata": {},
   "outputs": [],
   "source": [
    "X=np.concatenate((x0,X),axis=1)"
   ]
  },
  {
   "cell_type": "code",
   "execution_count": 27,
   "id": "8855fd44",
   "metadata": {},
   "outputs": [
    {
     "data": {
      "text/plain": [
       "array([[ 1. , 55.5, 69.5],\n",
       "       [ 1. , 41. , 81.5],\n",
       "       [ 1. , 53.5, 86. ],\n",
       "       [ 1. , 46. , 84. ],\n",
       "       [ 1. , 41. , 73.5],\n",
       "       [ 1. , 51.5, 69. ],\n",
       "       [ 1. , 51. , 62.5],\n",
       "       [ 1. , 42. , 75. ],\n",
       "       [ 1. , 53.5, 83. ],\n",
       "       [ 1. , 57.5, 71. ],\n",
       "       [ 1. , 42.5, 72.5],\n",
       "       [ 1. , 41. , 80. ],\n",
       "       [ 1. , 46. , 82. ],\n",
       "       [ 1. , 46. , 60.5],\n",
       "       [ 1. , 49.5, 76. ],\n",
       "       [ 1. , 41. , 76. ],\n",
       "       [ 1. , 48.5, 72.5],\n",
       "       [ 1. , 51.5, 82.5],\n",
       "       [ 1. , 44.5, 70.5],\n",
       "       [ 1. , 44. , 66. ],\n",
       "       [ 1. , 33. , 76.5],\n",
       "       [ 1. , 33.5, 78.5],\n",
       "       [ 1. , 31.5, 72. ],\n",
       "       [ 1. , 33. , 81.5],\n",
       "       [ 1. , 42. , 59.5],\n",
       "       [ 1. , 30. , 64. ],\n",
       "       [ 1. , 61. , 45. ],\n",
       "       [ 1. , 49. , 79. ],\n",
       "       [ 1. , 26.5, 64.5],\n",
       "       [ 1. , 34. , 71.5],\n",
       "       [ 1. , 42. , 83.5],\n",
       "       [ 1. , 29.5, 74.5],\n",
       "       [ 1. , 39.5, 70. ],\n",
       "       [ 1. , 51.5, 66. ],\n",
       "       [ 1. , 41.5, 71.5],\n",
       "       [ 1. , 42.5, 79.5],\n",
       "       [ 1. , 35. , 59.5],\n",
       "       [ 1. , 38.5, 73.5],\n",
       "       [ 1. , 32. , 81.5],\n",
       "       [ 1. , 46. , 60.5],\n",
       "       [ 1. , 36.5, 53. ],\n",
       "       [ 1. , 36.5, 53.5],\n",
       "       [ 1. , 24. , 60.5],\n",
       "       [ 1. , 19. , 57.5],\n",
       "       [ 1. , 34.5, 60. ],\n",
       "       [ 1. , 37.5, 64.5],\n",
       "       [ 1. , 35.5, 51. ],\n",
       "       [ 1. , 37. , 50.5],\n",
       "       [ 1. , 21.5, 42. ],\n",
       "       [ 1. , 35.5, 58.5],\n",
       "       [ 1. , 26.5, 68.5],\n",
       "       [ 1. , 26.5, 55.5],\n",
       "       [ 1. , 18.5, 67. ],\n",
       "       [ 1. , 40. , 67. ],\n",
       "       [ 1. , 32.5, 71.5],\n",
       "       [ 1. , 39. , 71.5],\n",
       "       [ 1. , 43. , 55.5],\n",
       "       [ 1. , 22. , 54. ],\n",
       "       [ 1. , 36. , 62.5],\n",
       "       [ 1. , 31. , 55.5],\n",
       "       [ 1. , 38.5, 76. ],\n",
       "       [ 1. , 40. , 75. ],\n",
       "       [ 1. , 37.5, 63. ],\n",
       "       [ 1. , 24.5, 58. ],\n",
       "       [ 1. , 30. , 67. ],\n",
       "       [ 1. , 33. , 56. ],\n",
       "       [ 1. , 56.5, 61. ],\n",
       "       [ 1. , 41. , 57. ],\n",
       "       [ 1. , 49.5, 63. ],\n",
       "       [ 1. , 34.5, 72.5],\n",
       "       [ 1. , 32.5, 69. ],\n",
       "       [ 1. , 36. , 73. ],\n",
       "       [ 1. , 27. , 53.5],\n",
       "       [ 1. , 41. , 63.5],\n",
       "       [ 1. , 29.5, 52.5],\n",
       "       [ 1. , 20. , 65.5],\n",
       "       [ 1. , 38. , 65. ],\n",
       "       [ 1. , 18.5, 74.5],\n",
       "       [ 1. , 16. , 72.5],\n",
       "       [ 1. , 33.5, 68. ]])"
      ]
     },
     "execution_count": 27,
     "metadata": {},
     "output_type": "execute_result"
    }
   ],
   "source": [
    "X"
   ]
  },
  {
   "cell_type": "code",
   "execution_count": 28,
   "id": "4ea9a3b8",
   "metadata": {},
   "outputs": [],
   "source": [
    "theta=np.zeros(X.shape[1])"
   ]
  },
  {
   "cell_type": "code",
   "execution_count": 29,
   "id": "d83df487",
   "metadata": {},
   "outputs": [
    {
     "data": {
      "text/plain": [
       "array([0., 0., 0.])"
      ]
     },
     "execution_count": 29,
     "metadata": {},
     "output_type": "execute_result"
    }
   ],
   "source": [
    "theta"
   ]
  },
  {
   "cell_type": "code",
   "execution_count": 30,
   "id": "2c614005",
   "metadata": {},
   "outputs": [],
   "source": [
    "def hypothsis(X,theta):\n",
    "    result=1.0/(1.0+ np.exp(-(X.dot(theta.T))))\n",
    "    return result"
   ]
  },
  {
   "cell_type": "code",
   "execution_count": 31,
   "id": "441a88ff",
   "metadata": {},
   "outputs": [
    {
     "data": {
      "text/plain": [
       "array([0.5, 0.5, 0.5, 0.5, 0.5, 0.5, 0.5, 0.5, 0.5, 0.5, 0.5, 0.5, 0.5,\n",
       "       0.5, 0.5, 0.5, 0.5, 0.5, 0.5, 0.5, 0.5, 0.5, 0.5, 0.5, 0.5, 0.5,\n",
       "       0.5, 0.5, 0.5, 0.5, 0.5, 0.5, 0.5, 0.5, 0.5, 0.5, 0.5, 0.5, 0.5,\n",
       "       0.5, 0.5, 0.5, 0.5, 0.5, 0.5, 0.5, 0.5, 0.5, 0.5, 0.5, 0.5, 0.5,\n",
       "       0.5, 0.5, 0.5, 0.5, 0.5, 0.5, 0.5, 0.5, 0.5, 0.5, 0.5, 0.5, 0.5,\n",
       "       0.5, 0.5, 0.5, 0.5, 0.5, 0.5, 0.5, 0.5, 0.5, 0.5, 0.5, 0.5, 0.5,\n",
       "       0.5, 0.5])"
      ]
     },
     "execution_count": 31,
     "metadata": {},
     "output_type": "execute_result"
    }
   ],
   "source": [
    "hypothsis(X,theta)"
   ]
  },
  {
   "cell_type": "code",
   "execution_count": 32,
   "id": "b3c0c080",
   "metadata": {},
   "outputs": [],
   "source": [
    "def los(m,Y,hyp):\n",
    "    result=((-1/m)*np.sum(Y*np.log(hyp)+(1-Y)*np.log(1-hyp)))\n",
    "    return result"
   ]
  },
  {
   "cell_type": "code",
   "execution_count": 33,
   "id": "8b0d78b8",
   "metadata": {},
   "outputs": [
    {
     "data": {
      "text/plain": [
       "0.6931471805599454"
      ]
     },
     "execution_count": 33,
     "metadata": {},
     "output_type": "execute_result"
    }
   ],
   "source": [
    "los(X.shape[0],Y,hypothsis(X,theta))"
   ]
  },
  {
   "cell_type": "code",
   "execution_count": 34,
   "id": "bbcf1944",
   "metadata": {},
   "outputs": [],
   "source": [
    "def gradient(m,X,Y,hyp):\n",
    "    result=((1/m)*np.dot(X.T,hyp-Y))\n",
    "    return result"
   ]
  },
  {
   "cell_type": "code",
   "execution_count": 35,
   "id": "139ec21f",
   "metadata": {},
   "outputs": [
    {
     "name": "stdout",
     "output_type": "stream",
     "text": [
      "step0, los=0.6931\n",
      "step1, los=0.6892\n",
      "step2, los=0.6876\n",
      "step3, los=0.6866\n",
      "step4, los=0.6858\n",
      "step5, los=0.6850\n",
      "step6, los=0.6843\n",
      "step7, los=0.6836\n",
      "step8, los=0.6829\n",
      "step9, los=0.6823\n",
      "step10, los=0.6817\n",
      "step11, los=0.6811\n",
      "step12, los=0.6805\n",
      "step13, los=0.6800\n",
      "step14, los=0.6794\n",
      "step15, los=0.6789\n",
      "step16, los=0.6784\n",
      "step17, los=0.6780\n",
      "step18, los=0.6775\n",
      "step19, los=0.6771\n",
      "step20, los=0.6766\n",
      "step21, los=0.6762\n",
      "step22, los=0.6758\n",
      "step23, los=0.6755\n",
      "step24, los=0.6751\n",
      "step25, los=0.6747\n",
      "step26, los=0.6744\n",
      "step27, los=0.6741\n",
      "step28, los=0.6738\n",
      "step29, los=0.6735\n",
      "step30, los=0.6732\n",
      "step31, los=0.6729\n",
      "step32, los=0.6726\n",
      "step33, los=0.6724\n",
      "step34, los=0.6721\n",
      "step35, los=0.6719\n",
      "step36, los=0.6716\n",
      "step37, los=0.6714\n",
      "step38, los=0.6712\n",
      "step39, los=0.6710\n",
      "step40, los=0.6708\n",
      "step41, los=0.6706\n",
      "step42, los=0.6704\n",
      "step43, los=0.6702\n",
      "step44, los=0.6700\n",
      "step45, los=0.6698\n",
      "step46, los=0.6697\n",
      "step47, los=0.6695\n",
      "step48, los=0.6694\n",
      "step49, los=0.6692\n",
      "step50, los=0.6691\n",
      "step51, los=0.6689\n",
      "step52, los=0.6688\n",
      "step53, los=0.6687\n",
      "step54, los=0.6686\n",
      "step55, los=0.6684\n",
      "step56, los=0.6683\n",
      "step57, los=0.6682\n",
      "step58, los=0.6681\n",
      "step59, los=0.6680\n",
      "step60, los=0.6679\n",
      "step61, los=0.6678\n",
      "step62, los=0.6677\n",
      "step63, los=0.6676\n",
      "step64, los=0.6675\n",
      "step65, los=0.6674\n",
      "step66, los=0.6674\n",
      "step67, los=0.6673\n",
      "step68, los=0.6672\n",
      "step69, los=0.6671\n",
      "step70, los=0.6670\n",
      "step71, los=0.6670\n",
      "step72, los=0.6669\n",
      "step73, los=0.6668\n",
      "step74, los=0.6668\n",
      "step75, los=0.6667\n",
      "step76, los=0.6667\n",
      "step77, los=0.6666\n",
      "step78, los=0.6665\n",
      "step79, los=0.6665\n",
      "step80, los=0.6664\n",
      "step81, los=0.6664\n",
      "step82, los=0.6663\n",
      "step83, los=0.6663\n",
      "step84, los=0.6663\n",
      "step85, los=0.6662\n",
      "step86, los=0.6662\n",
      "step87, los=0.6661\n",
      "step88, los=0.6661\n",
      "step89, los=0.6660\n",
      "step90, los=0.6660\n",
      "step91, los=0.6660\n",
      "step92, los=0.6659\n",
      "step93, los=0.6659\n",
      "step94, los=0.6659\n",
      "step95, los=0.6658\n",
      "step96, los=0.6658\n",
      "step97, los=0.6658\n",
      "step98, los=0.6657\n",
      "step99, los=0.6657\n"
     ]
    }
   ],
   "source": [
    "m=X.shape[0]\n",
    "lr=0.001\n",
    "lo=[]\n",
    "for i in range(100):\n",
    "    H=hypothsis(X,theta)\n",
    "    l=los(m,Y,H)\n",
    "    lo.append(l)\n",
    "    d=gradient(m,X,Y,H)\n",
    "    theta=theta-lr*d\n",
    "    print(f'step{i}, los={l:.4f}')\n",
    "    "
   ]
  },
  {
   "cell_type": "code",
   "execution_count": 36,
   "id": "23e3ed87",
   "metadata": {},
   "outputs": [
    {
     "data": {
      "image/png": "[encoded data removed]",
      "text/plain": [
       "<Figure size 432x288 with 1 Axes>"
      ]
     },
     "metadata": {
      "needs_background": "light"
     },
     "output_type": "display_data"
    }
   ],
   "source": [
    "plt.plot(lo,'r')\n",
    "plt.show()"
   ]
  },
  {
   "cell_type": "code",
   "execution_count": null,
   "id": "882f20c8",
   "metadata": {},
   "outputs": [],
   "source": [
    "\n"
   ]
  },
  {
   "cell_type": "code",
   "execution_count": null,
   "id": "80be5f74",
   "metadata": {},
   "outputs": [],
   "source": []
  }
 ],
 "metadata": {
  "kernelspec": {
   "display_name": "Python 3 (ipykernel)",
   "language": "python",
   "name": "python3"
  },
  "language_info": {
   "codemirror_mode": {
    "name": "ipython",
    "version": 3
   },
   "file_extension": ".py",
   "mimetype": "text/x-python",
   "name": "python",
   "nbconvert_exporter": "python",
   "pygments_lexer": "ipython3",
   "version": "3.10.0"
  }
 },
 "nbformat": 4,
 "nbformat_minor": 5
}
