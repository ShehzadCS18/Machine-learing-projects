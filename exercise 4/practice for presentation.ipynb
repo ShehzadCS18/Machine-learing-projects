{
 "cells": [
  {
   "cell_type": "code",
   "execution_count": 70,
   "id": "7a2a8163",
   "metadata": {},
   "outputs": [],
   "source": [
    "import numpy as np\n",
    "import pandas as pd\n",
    "import matplotlib.pyplot as plt"
   ]
  },
  {
   "cell_type": "code",
   "execution_count": 71,
   "id": "50518470",
   "metadata": {},
   "outputs": [],
   "source": [
    "X=np.loadtxt('ex4x.dat')\n"
   ]
  },
  {
   "cell_type": "code",
   "execution_count": 72,
   "id": "a029b593",
   "metadata": {
    "collapsed": true
   },
   "outputs": [
    {
     "data": {
      "text/plain": [
       "array([[55.5, 69.5],\n",
       "       [41. , 81.5],\n",
       "       [53.5, 86. ],\n",
       "       [46. , 84. ],\n",
       "       [41. , 73.5],\n",
       "       [51.5, 69. ],\n",
       "       [51. , 62.5],\n",
       "       [42. , 75. ],\n",
       "       [53.5, 83. ],\n",
       "       [57.5, 71. ],\n",
       "       [42.5, 72.5],\n",
       "       [41. , 80. ],\n",
       "       [46. , 82. ],\n",
       "       [46. , 60.5],\n",
       "       [49.5, 76. ],\n",
       "       [41. , 76. ],\n",
       "       [48.5, 72.5],\n",
       "       [51.5, 82.5],\n",
       "       [44.5, 70.5],\n",
       "       [44. , 66. ],\n",
       "       [33. , 76.5],\n",
       "       [33.5, 78.5],\n",
       "       [31.5, 72. ],\n",
       "       [33. , 81.5],\n",
       "       [42. , 59.5],\n",
       "       [30. , 64. ],\n",
       "       [61. , 45. ],\n",
       "       [49. , 79. ],\n",
       "       [26.5, 64.5],\n",
       "       [34. , 71.5],\n",
       "       [42. , 83.5],\n",
       "       [29.5, 74.5],\n",
       "       [39.5, 70. ],\n",
       "       [51.5, 66. ],\n",
       "       [41.5, 71.5],\n",
       "       [42.5, 79.5],\n",
       "       [35. , 59.5],\n",
       "       [38.5, 73.5],\n",
       "       [32. , 81.5],\n",
       "       [46. , 60.5],\n",
       "       [36.5, 53. ],\n",
       "       [36.5, 53.5],\n",
       "       [24. , 60.5],\n",
       "       [19. , 57.5],\n",
       "       [34.5, 60. ],\n",
       "       [37.5, 64.5],\n",
       "       [35.5, 51. ],\n",
       "       [37. , 50.5],\n",
       "       [21.5, 42. ],\n",
       "       [35.5, 58.5],\n",
       "       [26.5, 68.5],\n",
       "       [26.5, 55.5],\n",
       "       [18.5, 67. ],\n",
       "       [40. , 67. ],\n",
       "       [32.5, 71.5],\n",
       "       [39. , 71.5],\n",
       "       [43. , 55.5],\n",
       "       [22. , 54. ],\n",
       "       [36. , 62.5],\n",
       "       [31. , 55.5],\n",
       "       [38.5, 76. ],\n",
       "       [40. , 75. ],\n",
       "       [37.5, 63. ],\n",
       "       [24.5, 58. ],\n",
       "       [30. , 67. ],\n",
       "       [33. , 56. ],\n",
       "       [56.5, 61. ],\n",
       "       [41. , 57. ],\n",
       "       [49.5, 63. ],\n",
       "       [34.5, 72.5],\n",
       "       [32.5, 69. ],\n",
       "       [36. , 73. ],\n",
       "       [27. , 53.5],\n",
       "       [41. , 63.5],\n",
       "       [29.5, 52.5],\n",
       "       [20. , 65.5],\n",
       "       [38. , 65. ],\n",
       "       [18.5, 74.5],\n",
       "       [16. , 72.5],\n",
       "       [33.5, 68. ]])"
      ]
     },
     "execution_count": 72,
     "metadata": {},
     "output_type": "execute_result"
    }
   ],
   "source": [
    "X"
   ]
  },
  {
   "cell_type": "code",
   "execution_count": 73,
   "id": "083382da",
   "metadata": {},
   "outputs": [
    {
     "data": {
      "text/plain": [
       "(80, 2)"
      ]
     },
     "execution_count": 73,
     "metadata": {},
     "output_type": "execute_result"
    }
   ],
   "source": [
    "X.shape"
   ]
  },
  {
   "cell_type": "code",
   "execution_count": 74,
   "id": "2d27f3d8",
   "metadata": {},
   "outputs": [],
   "source": [
    "Y=np.loadtxt('ex4y.dat')"
   ]
  },
  {
   "cell_type": "code",
   "execution_count": 75,
   "id": "1004c22a",
   "metadata": {},
   "outputs": [
    {
     "data": {
      "text/plain": [
       "array([1., 1., 1., 1., 1., 1., 1., 1., 1., 1., 1., 1., 1., 1., 1., 1., 1.,\n",
       "       1., 1., 1., 1., 1., 1., 1., 1., 1., 1., 1., 1., 1., 1., 1., 1., 1.,\n",
       "       1., 1., 1., 1., 1., 1., 0., 0., 0., 0., 0., 0., 0., 0., 0., 0., 0.,\n",
       "       0., 0., 0., 0., 0., 0., 0., 0., 0., 0., 0., 0., 0., 0., 0., 0., 0.,\n",
       "       0., 0., 0., 0., 0., 0., 0., 0., 0., 0., 0., 0.])"
      ]
     },
     "execution_count": 75,
     "metadata": {},
     "output_type": "execute_result"
    }
   ],
   "source": [
    "Y"
   ]
  },
  {
   "cell_type": "code",
   "execution_count": 76,
   "id": "6491a3e0",
   "metadata": {},
   "outputs": [
    {
     "data": {
      "text/plain": [
       "(80,)"
      ]
     },
     "execution_count": 76,
     "metadata": {},
     "output_type": "execute_result"
    }
   ],
   "source": [
    "Y.shape"
   ]
  },
  {
   "cell_type": "code",
   "execution_count": 77,
   "id": "23c256e2",
   "metadata": {},
   "outputs": [
    {
     "name": "stdout",
     "output_type": "stream",
     "text": [
      "80\n",
      "2\n"
     ]
    }
   ],
   "source": [
    "#now creating array of ones\n",
    "print(X.shape[0])\n",
    "print(X.shape[1])\n"
   ]
  },
  {
   "cell_type": "code",
   "execution_count": 78,
   "id": "db255711",
   "metadata": {},
   "outputs": [],
   "source": [
    "ones=np.ones([X.shape[0],1])"
   ]
  },
  {
   "cell_type": "code",
   "execution_count": 79,
   "id": "35f193ca",
   "metadata": {},
   "outputs": [
    {
     "name": "stdout",
     "output_type": "stream",
     "text": [
      "(80, 1)\n"
     ]
    }
   ],
   "source": [
    "print(ones.shape)"
   ]
  },
  {
   "cell_type": "code",
   "execution_count": 80,
   "id": "fb83b256",
   "metadata": {},
   "outputs": [],
   "source": [
    "X=np.concatenate((ones,X),axis=1)"
   ]
  },
  {
   "cell_type": "code",
   "execution_count": 81,
   "id": "9e2508ae",
   "metadata": {},
   "outputs": [
    {
     "data": {
      "text/plain": [
       "(80, 3)"
      ]
     },
     "execution_count": 81,
     "metadata": {},
     "output_type": "execute_result"
    }
   ],
   "source": [
    "X.shape"
   ]
  },
  {
   "cell_type": "code",
   "execution_count": 82,
   "id": "58fc3641",
   "metadata": {
    "collapsed": true
   },
   "outputs": [
    {
     "data": {
      "text/plain": [
       "array([[ 1. , 55.5, 69.5],\n",
       "       [ 1. , 41. , 81.5],\n",
       "       [ 1. , 53.5, 86. ],\n",
       "       [ 1. , 46. , 84. ],\n",
       "       [ 1. , 41. , 73.5],\n",
       "       [ 1. , 51.5, 69. ],\n",
       "       [ 1. , 51. , 62.5],\n",
       "       [ 1. , 42. , 75. ],\n",
       "       [ 1. , 53.5, 83. ],\n",
       "       [ 1. , 57.5, 71. ],\n",
       "       [ 1. , 42.5, 72.5],\n",
       "       [ 1. , 41. , 80. ],\n",
       "       [ 1. , 46. , 82. ],\n",
       "       [ 1. , 46. , 60.5],\n",
       "       [ 1. , 49.5, 76. ],\n",
       "       [ 1. , 41. , 76. ],\n",
       "       [ 1. , 48.5, 72.5],\n",
       "       [ 1. , 51.5, 82.5],\n",
       "       [ 1. , 44.5, 70.5],\n",
       "       [ 1. , 44. , 66. ],\n",
       "       [ 1. , 33. , 76.5],\n",
       "       [ 1. , 33.5, 78.5],\n",
       "       [ 1. , 31.5, 72. ],\n",
       "       [ 1. , 33. , 81.5],\n",
       "       [ 1. , 42. , 59.5],\n",
       "       [ 1. , 30. , 64. ],\n",
       "       [ 1. , 61. , 45. ],\n",
       "       [ 1. , 49. , 79. ],\n",
       "       [ 1. , 26.5, 64.5],\n",
       "       [ 1. , 34. , 71.5],\n",
       "       [ 1. , 42. , 83.5],\n",
       "       [ 1. , 29.5, 74.5],\n",
       "       [ 1. , 39.5, 70. ],\n",
       "       [ 1. , 51.5, 66. ],\n",
       "       [ 1. , 41.5, 71.5],\n",
       "       [ 1. , 42.5, 79.5],\n",
       "       [ 1. , 35. , 59.5],\n",
       "       [ 1. , 38.5, 73.5],\n",
       "       [ 1. , 32. , 81.5],\n",
       "       [ 1. , 46. , 60.5],\n",
       "       [ 1. , 36.5, 53. ],\n",
       "       [ 1. , 36.5, 53.5],\n",
       "       [ 1. , 24. , 60.5],\n",
       "       [ 1. , 19. , 57.5],\n",
       "       [ 1. , 34.5, 60. ],\n",
       "       [ 1. , 37.5, 64.5],\n",
       "       [ 1. , 35.5, 51. ],\n",
       "       [ 1. , 37. , 50.5],\n",
       "       [ 1. , 21.5, 42. ],\n",
       "       [ 1. , 35.5, 58.5],\n",
       "       [ 1. , 26.5, 68.5],\n",
       "       [ 1. , 26.5, 55.5],\n",
       "       [ 1. , 18.5, 67. ],\n",
       "       [ 1. , 40. , 67. ],\n",
       "       [ 1. , 32.5, 71.5],\n",
       "       [ 1. , 39. , 71.5],\n",
       "       [ 1. , 43. , 55.5],\n",
       "       [ 1. , 22. , 54. ],\n",
       "       [ 1. , 36. , 62.5],\n",
       "       [ 1. , 31. , 55.5],\n",
       "       [ 1. , 38.5, 76. ],\n",
       "       [ 1. , 40. , 75. ],\n",
       "       [ 1. , 37.5, 63. ],\n",
       "       [ 1. , 24.5, 58. ],\n",
       "       [ 1. , 30. , 67. ],\n",
       "       [ 1. , 33. , 56. ],\n",
       "       [ 1. , 56.5, 61. ],\n",
       "       [ 1. , 41. , 57. ],\n",
       "       [ 1. , 49.5, 63. ],\n",
       "       [ 1. , 34.5, 72.5],\n",
       "       [ 1. , 32.5, 69. ],\n",
       "       [ 1. , 36. , 73. ],\n",
       "       [ 1. , 27. , 53.5],\n",
       "       [ 1. , 41. , 63.5],\n",
       "       [ 1. , 29.5, 52.5],\n",
       "       [ 1. , 20. , 65.5],\n",
       "       [ 1. , 38. , 65. ],\n",
       "       [ 1. , 18.5, 74.5],\n",
       "       [ 1. , 16. , 72.5],\n",
       "       [ 1. , 33.5, 68. ]])"
      ]
     },
     "execution_count": 82,
     "metadata": {},
     "output_type": "execute_result"
    }
   ],
   "source": [
    "X"
   ]
  },
  {
   "cell_type": "code",
   "execution_count": 83,
   "id": "6465a0ca",
   "metadata": {},
   "outputs": [],
   "source": [
    "tetha=np.zeros((X.shape[1]))"
   ]
  },
  {
   "cell_type": "code",
   "execution_count": 84,
   "id": "5b7f78e4",
   "metadata": {},
   "outputs": [
    {
     "data": {
      "text/plain": [
       "array([0., 0., 0.])"
      ]
     },
     "execution_count": 84,
     "metadata": {},
     "output_type": "execute_result"
    }
   ],
   "source": [
    "tetha"
   ]
  },
  {
   "cell_type": "code",
   "execution_count": 85,
   "id": "fc9004cf",
   "metadata": {},
   "outputs": [],
   "source": [
    "def hypothesis_sigm(X):\n",
    "    result=1/(1+np.exp(-(X.dot(tetha.T))))\n",
    "    return result\n",
    "                      "
   ]
  },
  {
   "cell_type": "code",
   "execution_count": 86,
   "id": "924ed26b",
   "metadata": {},
   "outputs": [],
   "source": [
    "h=hypothesis_sigm(X)\n",
    "m=X.shape[0]"
   ]
  },
  {
   "cell_type": "code",
   "execution_count": 87,
   "id": "2e3ab900",
   "metadata": {},
   "outputs": [],
   "source": [
    "#2nd step is tt find out the loss by implementing the loss function\n",
    "def loss(X,Y,hyp):\n",
    "    res=((-1/m)*np.sum((Y*np.log(hyp))+(1-Y)*np.log(1-hyp)))\n",
    "    return res"
   ]
  },
  {
   "cell_type": "code",
   "execution_count": 88,
   "id": "00992bb9",
   "metadata": {},
   "outputs": [
    {
     "data": {
      "text/plain": [
       "0.6931471805599454"
      ]
     },
     "execution_count": 88,
     "metadata": {},
     "output_type": "execute_result"
    }
   ],
   "source": [
    "loss(X,Y,h)"
   ]
  },
  {
   "cell_type": "code",
   "execution_count": 89,
   "id": "e71ee6f4",
   "metadata": {},
   "outputs": [],
   "source": [
    "#now the third step is to implement gradient algorithem\n",
    "def gradinet(m,X,Y,hyp):\n",
    "    deravative=((1/m)*np.dot(X.T,(hyp-Y)))\n",
    "    return  deravative"
   ]
  },
  {
   "cell_type": "code",
   "execution_count": 90,
   "id": "43be0616",
   "metadata": {},
   "outputs": [
    {
     "data": {
      "text/plain": [
       "array([ 0.      , -2.55625 , -2.628125])"
      ]
     },
     "execution_count": 90,
     "metadata": {},
     "output_type": "execute_result"
    }
   ],
   "source": [
    "gradinet(m,X,Y,h)"
   ]
  },
  {
   "cell_type": "code",
   "execution_count": 91,
   "id": "a01036ab",
   "metadata": {},
   "outputs": [
    {
     "name": "stdout",
     "output_type": "stream",
     "text": [
      "epoch1:loss=0.693\n",
      "epoch2:loss=0.689\n",
      "epoch3:loss=0.688\n",
      "epoch4:loss=0.687\n",
      "epoch5:loss=0.686\n",
      "epoch6:loss=0.685\n",
      "epoch7:loss=0.684\n",
      "epoch8:loss=0.684\n",
      "epoch9:loss=0.683\n",
      "epoch10:loss=0.682\n",
      "epoch11:loss=0.682\n",
      "epoch12:loss=0.681\n",
      "epoch13:loss=0.681\n",
      "epoch14:loss=0.680\n",
      "epoch15:loss=0.679\n",
      "epoch16:loss=0.679\n",
      "epoch17:loss=0.678\n",
      "epoch18:loss=0.678\n",
      "epoch19:loss=0.678\n",
      "epoch20:loss=0.677\n",
      "epoch21:loss=0.677\n",
      "epoch22:loss=0.676\n",
      "epoch23:loss=0.676\n",
      "epoch24:loss=0.675\n",
      "epoch25:loss=0.675\n",
      "epoch26:loss=0.675\n",
      "epoch27:loss=0.674\n",
      "epoch28:loss=0.674\n",
      "epoch29:loss=0.674\n",
      "epoch30:loss=0.673\n",
      "epoch31:loss=0.673\n",
      "epoch32:loss=0.673\n",
      "epoch33:loss=0.673\n",
      "epoch34:loss=0.672\n",
      "epoch35:loss=0.672\n",
      "epoch36:loss=0.672\n",
      "epoch37:loss=0.672\n",
      "epoch38:loss=0.671\n",
      "epoch39:loss=0.671\n",
      "epoch40:loss=0.671\n",
      "epoch41:loss=0.671\n",
      "epoch42:loss=0.671\n",
      "epoch43:loss=0.670\n",
      "epoch44:loss=0.670\n",
      "epoch45:loss=0.670\n",
      "epoch46:loss=0.670\n",
      "epoch47:loss=0.670\n",
      "epoch48:loss=0.670\n",
      "epoch49:loss=0.669\n",
      "epoch50:loss=0.669\n",
      "epoch51:loss=0.669\n",
      "epoch52:loss=0.669\n",
      "epoch53:loss=0.669\n",
      "epoch54:loss=0.669\n",
      "epoch55:loss=0.669\n",
      "epoch56:loss=0.668\n",
      "epoch57:loss=0.668\n",
      "epoch58:loss=0.668\n",
      "epoch59:loss=0.668\n",
      "epoch60:loss=0.668\n",
      "epoch61:loss=0.668\n",
      "epoch62:loss=0.668\n",
      "epoch63:loss=0.668\n",
      "epoch64:loss=0.668\n",
      "epoch65:loss=0.668\n",
      "epoch66:loss=0.667\n",
      "epoch67:loss=0.667\n",
      "epoch68:loss=0.667\n",
      "epoch69:loss=0.667\n",
      "epoch70:loss=0.667\n",
      "epoch71:loss=0.667\n",
      "epoch72:loss=0.667\n",
      "epoch73:loss=0.667\n",
      "epoch74:loss=0.667\n",
      "epoch75:loss=0.667\n",
      "epoch76:loss=0.667\n",
      "epoch77:loss=0.667\n",
      "epoch78:loss=0.667\n",
      "epoch79:loss=0.667\n",
      "epoch80:loss=0.666\n",
      "epoch81:loss=0.666\n",
      "epoch82:loss=0.666\n",
      "epoch83:loss=0.666\n",
      "epoch84:loss=0.666\n",
      "epoch85:loss=0.666\n",
      "epoch86:loss=0.666\n",
      "epoch87:loss=0.666\n",
      "epoch88:loss=0.666\n",
      "epoch89:loss=0.666\n",
      "epoch90:loss=0.666\n",
      "epoch91:loss=0.666\n",
      "epoch92:loss=0.666\n",
      "epoch93:loss=0.666\n",
      "epoch94:loss=0.666\n",
      "epoch95:loss=0.666\n",
      "epoch96:loss=0.666\n",
      "epoch97:loss=0.666\n",
      "epoch98:loss=0.666\n",
      "epoch99:loss=0.666\n",
      "epoch100:loss=0.666\n",
      "epoch101:loss=0.666\n",
      "epoch102:loss=0.666\n",
      "epoch103:loss=0.666\n",
      "epoch104:loss=0.666\n",
      "epoch105:loss=0.666\n",
      "epoch106:loss=0.666\n",
      "epoch107:loss=0.666\n",
      "epoch108:loss=0.666\n",
      "epoch109:loss=0.665\n",
      "epoch110:loss=0.665\n",
      "epoch111:loss=0.665\n",
      "epoch112:loss=0.665\n",
      "epoch113:loss=0.665\n",
      "epoch114:loss=0.665\n",
      "epoch115:loss=0.665\n",
      "epoch116:loss=0.665\n",
      "epoch117:loss=0.665\n",
      "epoch118:loss=0.665\n",
      "epoch119:loss=0.665\n",
      "epoch120:loss=0.665\n",
      "epoch121:loss=0.665\n",
      "epoch122:loss=0.665\n",
      "epoch123:loss=0.665\n",
      "epoch124:loss=0.665\n",
      "epoch125:loss=0.665\n",
      "epoch126:loss=0.665\n",
      "epoch127:loss=0.665\n",
      "epoch128:loss=0.665\n",
      "epoch129:loss=0.665\n",
      "epoch130:loss=0.665\n",
      "epoch131:loss=0.665\n",
      "epoch132:loss=0.665\n",
      "epoch133:loss=0.665\n",
      "epoch134:loss=0.665\n",
      "epoch135:loss=0.665\n",
      "epoch136:loss=0.665\n",
      "epoch137:loss=0.665\n",
      "epoch138:loss=0.665\n",
      "epoch139:loss=0.665\n",
      "epoch140:loss=0.665\n",
      "epoch141:loss=0.665\n",
      "epoch142:loss=0.665\n",
      "epoch143:loss=0.665\n",
      "epoch144:loss=0.665\n",
      "epoch145:loss=0.665\n",
      "epoch146:loss=0.665\n",
      "epoch147:loss=0.665\n",
      "epoch148:loss=0.665\n",
      "epoch149:loss=0.665\n",
      "epoch150:loss=0.665\n",
      "epoch151:loss=0.665\n",
      "epoch152:loss=0.665\n",
      "epoch153:loss=0.665\n",
      "epoch154:loss=0.665\n",
      "epoch155:loss=0.665\n",
      "epoch156:loss=0.665\n",
      "epoch157:loss=0.665\n",
      "epoch158:loss=0.665\n",
      "epoch159:loss=0.665\n",
      "epoch160:loss=0.665\n",
      "epoch161:loss=0.665\n",
      "epoch162:loss=0.665\n",
      "epoch163:loss=0.665\n",
      "epoch164:loss=0.665\n",
      "epoch165:loss=0.665\n",
      "epoch166:loss=0.665\n",
      "epoch167:loss=0.665\n",
      "epoch168:loss=0.665\n",
      "epoch169:loss=0.665\n",
      "epoch170:loss=0.665\n",
      "epoch171:loss=0.665\n",
      "epoch172:loss=0.665\n",
      "epoch173:loss=0.665\n",
      "epoch174:loss=0.665\n",
      "epoch175:loss=0.665\n",
      "epoch176:loss=0.665\n",
      "epoch177:loss=0.665\n",
      "epoch178:loss=0.665\n",
      "epoch179:loss=0.665\n",
      "epoch180:loss=0.665\n",
      "epoch181:loss=0.665\n",
      "epoch182:loss=0.665\n",
      "epoch183:loss=0.665\n",
      "epoch184:loss=0.665\n",
      "epoch185:loss=0.665\n",
      "epoch186:loss=0.665\n",
      "epoch187:loss=0.665\n",
      "epoch188:loss=0.665\n",
      "epoch189:loss=0.665\n",
      "epoch190:loss=0.665\n",
      "epoch191:loss=0.665\n",
      "epoch192:loss=0.665\n",
      "epoch193:loss=0.665\n",
      "epoch194:loss=0.665\n",
      "epoch195:loss=0.665\n",
      "epoch196:loss=0.665\n",
      "epoch197:loss=0.665\n",
      "epoch198:loss=0.665\n",
      "epoch199:loss=0.665\n",
      "epoch200:loss=0.665\n",
      "epoch201:loss=0.665\n",
      "epoch202:loss=0.665\n",
      "epoch203:loss=0.665\n",
      "epoch204:loss=0.665\n",
      "epoch205:loss=0.665\n",
      "epoch206:loss=0.665\n",
      "epoch207:loss=0.665\n",
      "epoch208:loss=0.665\n",
      "epoch209:loss=0.665\n",
      "epoch210:loss=0.665\n",
      "epoch211:loss=0.665\n",
      "epoch212:loss=0.665\n",
      "epoch213:loss=0.665\n",
      "epoch214:loss=0.665\n",
      "epoch215:loss=0.665\n",
      "epoch216:loss=0.665\n",
      "epoch217:loss=0.665\n",
      "epoch218:loss=0.665\n",
      "epoch219:loss=0.665\n",
      "epoch220:loss=0.665\n",
      "epoch221:loss=0.665\n",
      "epoch222:loss=0.665\n",
      "epoch223:loss=0.665\n",
      "epoch224:loss=0.665\n",
      "epoch225:loss=0.665\n",
      "epoch226:loss=0.665\n",
      "epoch227:loss=0.665\n",
      "epoch228:loss=0.665\n",
      "epoch229:loss=0.665\n",
      "epoch230:loss=0.665\n",
      "epoch231:loss=0.665\n",
      "epoch232:loss=0.665\n",
      "epoch233:loss=0.665\n",
      "epoch234:loss=0.665\n",
      "epoch235:loss=0.665\n",
      "epoch236:loss=0.665\n",
      "epoch237:loss=0.665\n",
      "epoch238:loss=0.665\n",
      "epoch239:loss=0.665\n",
      "epoch240:loss=0.665\n",
      "epoch241:loss=0.665\n",
      "epoch242:loss=0.665\n",
      "epoch243:loss=0.665\n",
      "epoch244:loss=0.665\n",
      "epoch245:loss=0.665\n",
      "epoch246:loss=0.665\n",
      "epoch247:loss=0.665\n",
      "epoch248:loss=0.665\n",
      "epoch249:loss=0.665\n",
      "epoch250:loss=0.665\n",
      "epoch251:loss=0.665\n",
      "epoch252:loss=0.665\n",
      "epoch253:loss=0.665\n",
      "epoch254:loss=0.665\n",
      "epoch255:loss=0.665\n",
      "epoch256:loss=0.665\n",
      "epoch257:loss=0.665\n",
      "epoch258:loss=0.665\n",
      "epoch259:loss=0.665\n",
      "epoch260:loss=0.665\n",
      "epoch261:loss=0.665\n",
      "epoch262:loss=0.665\n",
      "epoch263:loss=0.665\n",
      "epoch264:loss=0.665\n",
      "epoch265:loss=0.665\n",
      "epoch266:loss=0.665\n",
      "epoch267:loss=0.665\n",
      "epoch268:loss=0.665\n",
      "epoch269:loss=0.665\n",
      "epoch270:loss=0.665\n",
      "epoch271:loss=0.665\n",
      "epoch272:loss=0.665\n",
      "epoch273:loss=0.665\n",
      "epoch274:loss=0.665\n",
      "epoch275:loss=0.665\n",
      "epoch276:loss=0.665\n",
      "epoch277:loss=0.665\n",
      "epoch278:loss=0.665\n",
      "epoch279:loss=0.665\n",
      "epoch280:loss=0.665\n",
      "epoch281:loss=0.665\n",
      "epoch282:loss=0.665\n",
      "epoch283:loss=0.665\n",
      "epoch284:loss=0.665\n",
      "epoch285:loss=0.665\n",
      "epoch286:loss=0.665\n",
      "epoch287:loss=0.665\n",
      "epoch288:loss=0.665\n",
      "epoch289:loss=0.665\n",
      "epoch290:loss=0.665\n",
      "epoch291:loss=0.665\n",
      "epoch292:loss=0.665\n",
      "epoch293:loss=0.665\n",
      "epoch294:loss=0.665\n",
      "epoch295:loss=0.665\n",
      "epoch296:loss=0.665\n",
      "epoch297:loss=0.665\n",
      "epoch298:loss=0.665\n",
      "epoch299:loss=0.665\n",
      "epoch300:loss=0.665\n"
     ]
    }
   ],
   "source": [
    "#now training loop\n",
    "los=[]\n",
    "epoch=[]\n",
    "lr=0.001\n",
    "for epochs in range(300):\n",
    "    epoch.append(epochs)\n",
    "    hypothsis=hypothesis_sigm(X)\n",
    "    l=loss(X,Y,hypothsis)\n",
    "    los.append(l)\n",
    "    der=gradinet(m,X,Y,hypothsis)\n",
    "    tetha=tetha-lr*der\n",
    "        \n",
    "    if epochs % 1==0:\n",
    "        print(f'epoch{epochs+1}:loss={l:.3f}')"
   ]
  },
  {
   "cell_type": "code",
   "execution_count": 92,
   "id": "f7f3d89f",
   "metadata": {},
   "outputs": [
    {
     "data": {
      "image/png": "[encoded data removed]",
      "text/plain": [
       "<Figure size 432x288 with 1 Axes>"
      ]
     },
     "metadata": {
      "needs_background": "light"
     },
     "output_type": "display_data"
    }
   ],
   "source": [
    "plt.plot(epoch,los)\n",
    "plt.show()"
   ]
  },
  {
   "cell_type": "code",
   "execution_count": null,
   "id": "ab35ce11",
   "metadata": {},
   "outputs": [],
   "source": []
  }
 ],
 "metadata": {
  "kernelspec": {
   "display_name": "Python 3 (ipykernel)",
   "language": "python",
   "name": "python3"
  },
  "language_info": {
   "codemirror_mode": {
    "name": "ipython",
    "version": 3
   },
   "file_extension": ".py",
   "mimetype": "text/x-python",
   "name": "python",
   "nbconvert_exporter": "python",
   "pygments_lexer": "ipython3",
   "version": "3.10.0"
  }
 },
 "nbformat": 4,
 "nbformat_minor": 5
}
