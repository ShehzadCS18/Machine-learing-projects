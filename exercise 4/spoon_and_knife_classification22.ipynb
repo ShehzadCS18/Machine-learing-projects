{
 "cells": [
  {
   "cell_type": "code",
   "execution_count": null,
   "metadata": {
    "id": "a11JRHnN3309"
   },
   "outputs": [],
   "source": [
    "path=\"/content/drive/MyDrive/Dataset/spoon\""
   ]
  },
  {
   "cell_type": "code",
   "execution_count": 2,
   "metadata": {
    "id": "8eNTeRB04VrO"
   },
   "outputs": [],
   "source": [
    "import cv2\n",
    "import os\n",
    "import glob\n",
    "import sklearn \n",
    "import pandas as pd\n",
    "import numpy as np\n",
    "from skimage.feature import hog\n",
    "import matplotlib.pyplot as plt\n",
    "from sklearn.model_selection import train_test_split\n",
    "from sklearn.preprocessing import LabelEncoder\n",
    "from sklearn.preprocessing import OneHotEncoder\n",
    "from sklearn.metrics import confusion_matrix"
   ]
  },
  {
   "cell_type": "code",
   "execution_count": 2,
   "metadata": {
    "id": "B9UQ8GlDOg-B"
   },
   "outputs": [],
   "source": []
  },
  {
   "cell_type": "code",
   "execution_count": 2,
   "metadata": {
    "id": "ZAz8pLMKOjTG"
   },
   "outputs": [],
   "source": []
  },
  {
   "cell_type": "code",
   "execution_count": null,
   "metadata": {
    "colab": {
     "base_uri": "https://localhost:8080/"
    },
    "id": "wTE5zjJ29vSc",
    "outputId": "9fbe8ecb-80ff-4d81-a7f6-a4a577ef31cb"
   },
   "outputs": [
    {
     "name": "stdout",
     "output_type": "stream",
     "text": [
      "/content/drive/MyDrive/Dataset/train/spoon\n"
     ]
    }
   ],
   "source": [
    "#here we use r which do not need to put forward or backward slash\n",
    "#here the purpose of astarik * is that to access multiple folders inside using glob function\n",
    "folders = glob.glob(r\"/content/drive/MyDrive/Dataset/train/spoon\")\n",
    "spoon_image = []\n",
    "\n",
    "\n",
    "for folder in folders:\n",
    "    \n",
    "    print(folder) \n",
    "    for img in glob.glob(folder+r\"/*.jpg\"):\n",
    "        images= cv2.imread(img)\n",
    "        resized = cv2.resize(images, (224,224), interpolation = cv2.INTER_AREA)\n",
    "        #cv2.imshow('IMG', resized)\n",
    "        spoon_image.append(resized)\n",
    "      "
   ]
  },
  {
   "cell_type": "code",
   "execution_count": null,
   "metadata": {
    "colab": {
     "base_uri": "https://localhost:8080/"
    },
    "id": "Ln5pu9O2ADgk",
    "outputId": "7101e525-9bdb-45e9-dea1-0ce82d4a3cc4"
   },
   "outputs": [
    {
     "name": "stdout",
     "output_type": "stream",
     "text": [
      "227\n"
     ]
    }
   ],
   "source": [
    "print(len(spoon_image))"
   ]
  },
  {
   "cell_type": "code",
   "execution_count": null,
   "metadata": {
    "colab": {
     "base_uri": "https://localhost:8080/"
    },
    "id": "MRWOI6ghAmXz",
    "outputId": "81f5daa8-9e9f-4c69-8a19-12801ea3972e"
   },
   "outputs": [
    {
     "name": "stdout",
     "output_type": "stream",
     "text": [
      "/content/drive/MyDrive/Dataset/train/knife\n"
     ]
    }
   ],
   "source": [
    "folders = glob.glob(r\"/content/drive/MyDrive/Dataset/train/knife\")\n",
    "knife_image = []\n",
    "\n",
    "\n",
    "for folder in folders:\n",
    "    \n",
    "    print(folder) \n",
    "    for img in glob.glob(folder+r\"/*.jpg\"):\n",
    "        images= cv2.imread(img)\n",
    "        resized = cv2.resize(images, (224,224), interpolation = cv2.INTER_AREA)\n",
    "        #cv2.imshow('IMG', resized)\n",
    "        knife_image.append(resized)"
   ]
  },
  {
   "cell_type": "code",
   "execution_count": null,
   "metadata": {
    "colab": {
     "base_uri": "https://localhost:8080/"
    },
    "id": "JdRWutQsA8SY",
    "outputId": "4ec1f29b-fe77-4546-dd84-7a5c419f8c78"
   },
   "outputs": [
    {
     "name": "stdout",
     "output_type": "stream",
     "text": [
      "223\n"
     ]
    }
   ],
   "source": [
    "print(len(knife_image))"
   ]
  },
  {
   "cell_type": "code",
   "execution_count": null,
   "metadata": {
    "colab": {
     "base_uri": "https://localhost:8080/"
    },
    "id": "gXHIAOsQA_5a",
    "outputId": "557c53f9-79b9-4f64-905b-53a575e8a532"
   },
   "outputs": [
    {
     "name": "stdout",
     "output_type": "stream",
     "text": [
      "/content/drive/MyDrive/Dataset/train/glass\n"
     ]
    }
   ],
   "source": [
    "folders = glob.glob(r\"/content/drive/MyDrive/Dataset/train/glass\")\n",
    "glass_image = []\n",
    "\n",
    "\n",
    "for folder in folders:\n",
    "    \n",
    "    print(folder) \n",
    "    for img in glob.glob(folder+r\"/*.jpg\"):\n",
    "        images= cv2.imread(img)\n",
    "        resized = cv2.resize(images, (224,224), interpolation = cv2.INTER_AREA)\n",
    "        #cv2.imshow('IMG', resized)\n",
    "        glass_image.append(resized)"
   ]
  },
  {
   "cell_type": "code",
   "execution_count": null,
   "metadata": {
    "colab": {
     "base_uri": "https://localhost:8080/"
    },
    "id": "H6CMzWEmBNg5",
    "outputId": "eeea462c-49c9-4f31-83b4-ff7d5ca33a7d"
   },
   "outputs": [
    {
     "name": "stdout",
     "output_type": "stream",
     "text": [
      "132\n"
     ]
    }
   ],
   "source": [
    "print(len(glass_image))"
   ]
  },
  {
   "cell_type": "code",
   "execution_count": null,
   "metadata": {
    "id": "9rbrgh3QcYBi"
   },
   "outputs": [],
   "source": [
    "\n"
   ]
  },
  {
   "cell_type": "code",
   "execution_count": null,
   "metadata": {
    "colab": {
     "base_uri": "https://localhost:8080/",
     "height": 99
    },
    "id": "32cdZjXcBRdt",
    "outputId": "ffc57e4b-cdda-458a-a1bd-a5be4f55d92f"
   },
   "outputs": [
    {
     "data": {
      "image/png": "[encoded data removed]",
      "text/plain": [
       "<PIL.Image.Image image mode=RGB size=64x64 at 0x7F79DDA6B7D0>"
      ]
     },
     "metadata": {},
     "output_type": "display_data"
    },
    {
     "data": {
      "text/plain": [
       "-1"
      ]
     },
     "execution_count": 10,
     "metadata": {},
     "output_type": "execute_result"
    }
   ],
   "source": [
    "from google.colab.patches import cv2_imshow\n",
    "imgg=cv2.imread(r\"/content/drive/MyDrive/Dataset/train/spoon/1 (100).jpg\")\n",
    "imgg=cv2.resize(imgg, (64,64))\n",
    "cv2_imshow(imgg)\n",
    "cv2.waitKey(0)"
   ]
  },
  {
   "cell_type": "code",
   "execution_count": null,
   "metadata": {
    "id": "AGW3ye4rBpt-"
   },
   "outputs": [],
   "source": [
    "spoon_image=np.array(spoon_image)\n",
    "knife_image=np.array(knife_image)\n",
    "glass_image=np.array(glass_image)"
   ]
  },
  {
   "cell_type": "code",
   "execution_count": null,
   "metadata": {
    "id": "84nARfPoEdcr"
   },
   "outputs": [],
   "source": [
    "spoon_data=[]\n",
    "for img in glob.glob(r\"/content/drive/MyDrive/Dataset/train/spoon/*.jpg\"):\n",
    "  image= cv2.imread(img)\n",
    "  image=np.array(image)\n",
    "  resized = cv2.resize(image, (128,64))\n",
    "  fd= hog(resized)\n",
    "  plt.axis(\"off\")\n",
    "  spoon_data.append(fd)\n",
    "\n"
   ]
  },
  {
   "cell_type": "code",
   "execution_count": 34,
   "metadata": {
    "colab": {
     "base_uri": "https://localhost:8080/"
    },
    "id": "OXN9BRjXclLB",
    "outputId": "d3d6640a-cc98-4a8f-95cc-6613d2ec2c96"
   },
   "outputs": [
    {
     "name": "stdout",
     "output_type": "stream",
     "text": [
      "(6804,)\n"
     ]
    }
   ],
   "source": [
    "print(fd.shape)\n"
   ]
  },
  {
   "cell_type": "code",
   "execution_count": 4,
   "metadata": {
    "id": "gDB22qmKiqTw"
   },
   "outputs": [],
   "source": []
  },
  {
   "cell_type": "code",
   "execution_count": 5,
   "metadata": {
    "id": "utT9YRgWjepH"
   },
   "outputs": [],
   "source": [
    "knife_data=[]\n",
    "for img in glob.glob(r\"/content/drive/MyDrive/Dataset/train/knife/*.jpg\"):\n",
    "  image= cv2.imread(img)\n",
    "  image=np.array(image)\n",
    "  resized = cv2.resize(image, (128,64))\n",
    "  fd= hog(resized)\n",
    "  knife_data.append(fd)"
   ]
  },
  {
   "cell_type": "code",
   "execution_count": 6,
   "metadata": {
    "id": "-Ywr7_zBFfVT"
   },
   "outputs": [],
   "source": [
    "training_data=spoon_data+knife_data"
   ]
  },
  {
   "cell_type": "code",
   "execution_count": 7,
   "metadata": {
    "colab": {
     "base_uri": "https://localhost:8080/"
    },
    "id": "Dpe9YIyfFwA4",
    "outputId": "9f0bd581-ad74-4498-ebe4-77e30f4873d3"
   },
   "outputs": [
    {
     "name": "stdout",
     "output_type": "stream",
     "text": [
      "450\n"
     ]
    }
   ],
   "source": [
    "print(len(training_data))"
   ]
  },
  {
   "cell_type": "code",
   "execution_count": 7,
   "metadata": {
    "id": "tKkUrYm3F03s"
   },
   "outputs": [],
   "source": []
  },
  {
   "cell_type": "code",
   "execution_count": 8,
   "metadata": {
    "id": "ibfKAgIqF-3j"
   },
   "outputs": [],
   "source": [
    "glass_data=[]\n",
    "for img in glob.glob(r\"/content/drive/MyDrive/Dataset/train/glass/*.jpg\"):\n",
    "  image= cv2.imread(img)\n",
    "  image=np.array(image)\n",
    "  resized = cv2.resize(image, (128,64))\n",
    "  fd = hog(resized)\n",
    "  glass_data.append(fd)"
   ]
  },
  {
   "cell_type": "code",
   "execution_count": 9,
   "metadata": {
    "id": "ajEjA6mYHBXz"
   },
   "outputs": [],
   "source": [
    "training_data=training_data+glass_data"
   ]
  },
  {
   "cell_type": "code",
   "execution_count": 9,
   "metadata": {
    "id": "uzqw9x7U8oLa"
   },
   "outputs": [],
   "source": []
  },
  {
   "cell_type": "code",
   "execution_count": 10,
   "metadata": {
    "colab": {
     "base_uri": "https://localhost:8080/"
    },
    "id": "j8YEZi8-GNdx",
    "outputId": "f7f1f45e-fbb7-41a9-ad25-87c33c142668"
   },
   "outputs": [
    {
     "name": "stdout",
     "output_type": "stream",
     "text": [
      "582\n"
     ]
    }
   ],
   "source": [
    "print(len(training_data))"
   ]
  },
  {
   "cell_type": "code",
   "execution_count": 11,
   "metadata": {
    "id": "u8t04ugt9C5j"
   },
   "outputs": [],
   "source": [
    "\n",
    "training_label=[]\n",
    "for i in range(len(training_data)):\n",
    "  if i<227:\n",
    "    training_label.append(\"spoon\")\n",
    "  elif i>=227 and i<450:\n",
    "    training_label.append(\"knife\")\n",
    "  else:\n",
    "    training_label.append(\"glass\")\n"
   ]
  },
  {
   "cell_type": "code",
   "execution_count": 12,
   "metadata": {
    "colab": {
     "base_uri": "https://localhost:8080/"
    },
    "id": "zCZa8ErmI4_s",
    "outputId": "fbb0ea0f-969a-4d01-ccda-17a33285743c"
   },
   "outputs": [
    {
     "name": "stdout",
     "output_type": "stream",
     "text": [
      "582\n"
     ]
    }
   ],
   "source": [
    "print(len(training_label))"
   ]
  },
  {
   "cell_type": "code",
   "execution_count": 13,
   "metadata": {
    "id": "0w7ztSJRJ8rL"
   },
   "outputs": [],
   "source": [
    "labelencoder = LabelEncoder()\n",
    "Y=labelencoder.fit_transform(training_label)"
   ]
  },
  {
   "cell_type": "code",
   "execution_count": 14,
   "metadata": {
    "id": "Hf2J4B5AVC0S"
   },
   "outputs": [],
   "source": [
    "from sklearn.svm import SVC # \"Support vector classifier\"\n",
    "model = SVC(kernel='linear')\n",
    "model2=SVC(kernel='poly')"
   ]
  },
  {
   "cell_type": "code",
   "execution_count": 15,
   "metadata": {
    "colab": {
     "base_uri": "https://localhost:8080/"
    },
    "id": "PtH78zzI51j0",
    "outputId": "7d37f1f6-e4af-4afb-b8ef-189bcaa32066"
   },
   "outputs": [
    {
     "data": {
      "text/plain": [
       "SVC(kernel='linear')"
      ]
     },
     "execution_count": 15,
     "metadata": {},
     "output_type": "execute_result"
    }
   ],
   "source": [
    "model.fit(training_data,Y)"
   ]
  },
  {
   "cell_type": "code",
   "execution_count": 16,
   "metadata": {
    "colab": {
     "base_uri": "https://localhost:8080/"
    },
    "id": "S60ZWihfpTjJ",
    "outputId": "688c9c55-22ff-48f3-bcf0-5575c0cd8268"
   },
   "outputs": [
    {
     "data": {
      "text/plain": [
       "SVC(kernel='poly')"
      ]
     },
     "execution_count": 16,
     "metadata": {},
     "output_type": "execute_result"
    }
   ],
   "source": [
    "model2.fit(training_data,Y)"
   ]
  },
  {
   "cell_type": "markdown",
   "metadata": {
    "id": "1WS6YqYNp-82"
   },
   "source": [
    "now loading test dataset"
   ]
  },
  {
   "cell_type": "code",
   "execution_count": 17,
   "metadata": {
    "id": "e8XDl415qC2g"
   },
   "outputs": [],
   "source": [
    "test_spoon=[]\n",
    "for img in glob.glob(r\"/content/drive/MyDrive/Dataset/test/spoon/*.jpg\"):\n",
    "  image= cv2.imread(img)\n",
    "  image=np.array(image)\n",
    "  resized = cv2.resize(image, (128,64))\n",
    "  fd = hog(resized)\n",
    "  test_spoon.append(fd)"
   ]
  },
  {
   "cell_type": "code",
   "execution_count": 18,
   "metadata": {
    "colab": {
     "base_uri": "https://localhost:8080/"
    },
    "id": "0AaZzhDiqUpf",
    "outputId": "2418d739-6133-4983-f3b5-807e70d6259c"
   },
   "outputs": [
    {
     "name": "stdout",
     "output_type": "stream",
     "text": [
      "15\n"
     ]
    }
   ],
   "source": [
    "print(len(test_spoon))"
   ]
  },
  {
   "cell_type": "code",
   "execution_count": 19,
   "metadata": {
    "id": "5nygljuVqZK6"
   },
   "outputs": [],
   "source": [
    "test_knife=[]\n",
    "for img in glob.glob(r\"/content/drive/MyDrive/Dataset/test/knife/*.jpg\"):\n",
    "  image= cv2.imread(img)\n",
    "  image=np.array(image)\n",
    "  resized = cv2.resize(image, (128,64))\n",
    "  fd = hog(resized)\n",
    "  test_knife.append(fd)"
   ]
  },
  {
   "cell_type": "code",
   "execution_count": 20,
   "metadata": {
    "colab": {
     "base_uri": "https://localhost:8080/"
    },
    "id": "TXah7M_cqkoz",
    "outputId": "05710515-a6d4-44ef-9fbc-33846c2a17e6"
   },
   "outputs": [
    {
     "name": "stdout",
     "output_type": "stream",
     "text": [
      "15\n"
     ]
    }
   ],
   "source": [
    "print(len(test_knife))"
   ]
  },
  {
   "cell_type": "code",
   "execution_count": 21,
   "metadata": {
    "id": "FrvGZJ8QqnJl"
   },
   "outputs": [],
   "source": [
    "test_glass=[]\n",
    "for img in glob.glob(r\"/content/drive/MyDrive/Dataset/test/glass/*.jpg\"):\n",
    "  image= cv2.imread(img)\n",
    "  image=np.array(image)\n",
    "  resized = cv2.resize(image, (128,64))\n",
    "  fd = hog(resized)\n",
    "  test_glass.append(fd)"
   ]
  },
  {
   "cell_type": "code",
   "execution_count": 22,
   "metadata": {
    "colab": {
     "base_uri": "https://localhost:8080/"
    },
    "id": "Ffdx6m3-qvGF",
    "outputId": "4828856f-478d-4f27-b3b3-3859dd5ac769"
   },
   "outputs": [
    {
     "name": "stdout",
     "output_type": "stream",
     "text": [
      "10\n"
     ]
    }
   ],
   "source": [
    "print(len(test_glass))"
   ]
  },
  {
   "cell_type": "code",
   "execution_count": 23,
   "metadata": {
    "colab": {
     "base_uri": "https://localhost:8080/"
    },
    "id": "XbI1oe1hq1z6",
    "outputId": "a27f34a1-ce3e-435a-d0a7-c2637bd52c50"
   },
   "outputs": [
    {
     "name": "stdout",
     "output_type": "stream",
     "text": [
      "40\n"
     ]
    }
   ],
   "source": [
    "test_data=test_spoon+test_knife+test_glass\n",
    "print(len(test_data))"
   ]
  },
  {
   "cell_type": "code",
   "execution_count": 24,
   "metadata": {
    "id": "PIlZpoawrBwN"
   },
   "outputs": [],
   "source": [
    "test_label=[]\n",
    "for i in range(len(test_data)):\n",
    "  if i<15:\n",
    "    test_label.append(\"spoon\")\n",
    "  elif i>=15 and i<30:\n",
    "    test_label.append(\"knife\")\n",
    "  else:\n",
    "    test_label.append(\"glass\")\n"
   ]
  },
  {
   "cell_type": "code",
   "execution_count": 25,
   "metadata": {
    "id": "6P66l38rnjAE"
   },
   "outputs": [],
   "source": [
    "test_label=labelencoder.fit_transform(test_label)"
   ]
  },
  {
   "cell_type": "code",
   "execution_count": 26,
   "metadata": {
    "id": "PbtUmcYOrZNg"
   },
   "outputs": [],
   "source": [
    " prediction1 =model.predict(test_data)"
   ]
  },
  {
   "cell_type": "code",
   "execution_count": 27,
   "metadata": {
    "id": "Ssw4UKkzkyki"
   },
   "outputs": [],
   "source": [
    " prediction2 =model2.predict(test_data)"
   ]
  },
  {
   "cell_type": "code",
   "execution_count": 28,
   "metadata": {
    "id": "UUZpdndbmRQr"
   },
   "outputs": [],
   "source": [
    "from sklearn.metrics import accuracy_score"
   ]
  },
  {
   "cell_type": "code",
   "execution_count": 29,
   "metadata": {
    "colab": {
     "base_uri": "https://localhost:8080/"
    },
    "id": "c4wbYs5wmxiR",
    "outputId": "4c65d4a1-5704-4dae-a51a-d8894b383c8d"
   },
   "outputs": [
    {
     "name": "stdout",
     "output_type": "stream",
     "text": [
      "accuracy of the linear kernal 0.85\n",
      "accuracy of the ploy  kernal 0.85\n"
     ]
    }
   ],
   "source": [
    "print(\"accuracy of the linear kernal\",accuracy_score(test_label,prediction1))\n",
    "print(\"accuracy of the ploy  kernal\",accuracy_score(test_label,prediction2))"
   ]
  },
  {
   "cell_type": "code",
   "execution_count": 30,
   "metadata": {
    "id": "cBTpCPIOwRt4"
   },
   "outputs": [],
   "source": [
    "cm = confusion_matrix(test_label, prediction1)"
   ]
  },
  {
   "cell_type": "code",
   "execution_count": 31,
   "metadata": {
    "colab": {
     "base_uri": "https://localhost:8080/"
    },
    "id": "w8U75wAnxyco",
    "outputId": "608ab46d-2b88-4616-ea13-d9c5c075a7be"
   },
   "outputs": [
    {
     "data": {
      "text/plain": [
       "array([[10,  0,  0],\n",
       "       [ 0, 11,  4],\n",
       "       [ 0,  2, 13]])"
      ]
     },
     "execution_count": 31,
     "metadata": {},
     "output_type": "execute_result"
    }
   ],
   "source": [
    "cm"
   ]
  },
  {
   "cell_type": "code",
   "execution_count": 32,
   "metadata": {
    "id": "_YJBoQUNx8lq"
   },
   "outputs": [],
   "source": [
    "cm2 = confusion_matrix(test_label, prediction2)"
   ]
  },
  {
   "cell_type": "code",
   "execution_count": 33,
   "metadata": {
    "colab": {
     "base_uri": "https://localhost:8080/"
    },
    "id": "vU7BxjEryIxy",
    "outputId": "783e5818-48b6-4fe9-a397-c0611dd2f2ca"
   },
   "outputs": [
    {
     "data": {
      "text/plain": [
       "array([[10,  0,  0],\n",
       "       [ 0, 12,  3],\n",
       "       [ 0,  3, 12]])"
      ]
     },
     "execution_count": 33,
     "metadata": {},
     "output_type": "execute_result"
    }
   ],
   "source": [
    "cm2"
   ]
  },
  {
   "cell_type": "code",
   "execution_count": 36,
   "metadata": {
    "id": "-b-xXt2ayKEU"
   },
   "outputs": [],
   "source": [
    "from sklearn.metrics import classification_report"
   ]
  },
  {
   "cell_type": "code",
   "execution_count": 37,
   "metadata": {
    "id": "PBBDCHQO4lQu"
   },
   "outputs": [],
   "source": [
    "classifi_report=classification_report(test_label,prediction1)"
   ]
  },
  {
   "cell_type": "code",
   "execution_count": 39,
   "metadata": {
    "colab": {
     "base_uri": "https://localhost:8080/",
     "height": 87
    },
    "id": "hvlDPYfG5aun",
    "outputId": "9af22974-d02e-4e93-81f1-bb6b9e0c9ff3"
   },
   "outputs": [
    {
     "data": {
      "application/vnd.google.colaboratory.intrinsic+json": {
       "type": "string"
      },
      "text/plain": [
       "'              precision    recall  f1-score   support\\n\\n           0       1.00      1.00      1.00        10\\n           1       0.85      0.73      0.79        15\\n           2       0.76      0.87      0.81        15\\n\\n    accuracy                           0.85        40\\n   macro avg       0.87      0.87      0.87        40\\nweighted avg       0.85      0.85      0.85        40\\n'"
      ]
     },
     "execution_count": 39,
     "metadata": {},
     "output_type": "execute_result"
    }
   ],
   "source": [
    "classifi_report"
   ]
  },
  {
   "cell_type": "code",
   "execution_count": 40,
   "metadata": {
    "id": "3Xp7geAr5etf"
   },
   "outputs": [],
   "source": [
    "classifi_report=classification_report(test_label,prediction2)"
   ]
  },
  {
   "cell_type": "code",
   "execution_count": 41,
   "metadata": {
    "colab": {
     "base_uri": "https://localhost:8080/",
     "height": 87
    },
    "id": "MhSFtKmZ5ocn",
    "outputId": "03c6aa77-4e6a-462d-b25e-2904c67c9479"
   },
   "outputs": [
    {
     "data": {
      "application/vnd.google.colaboratory.intrinsic+json": {
       "type": "string"
      },
      "text/plain": [
       "'              precision    recall  f1-score   support\\n\\n           0       1.00      1.00      1.00        10\\n           1       0.80      0.80      0.80        15\\n           2       0.80      0.80      0.80        15\\n\\n    accuracy                           0.85        40\\n   macro avg       0.87      0.87      0.87        40\\nweighted avg       0.85      0.85      0.85        40\\n'"
      ]
     },
     "execution_count": 41,
     "metadata": {},
     "output_type": "execute_result"
    }
   ],
   "source": [
    "classifi_report"
   ]
  },
  {
   "cell_type": "code",
   "execution_count": null,
   "metadata": {
    "id": "h2NiNM7d5reJ"
   },
   "outputs": [],
   "source": []
  }
 ],
 "metadata": {
  "accelerator": "GPU",
  "colab": {
   "collapsed_sections": [],
   "name": "spoon and knife classification.ipynb",
   "provenance": []
  },
  "kernelspec": {
   "display_name": "Python 3 (ipykernel)",
   "language": "python",
   "name": "python3"
  },
  "language_info": {
   "codemirror_mode": {
    "name": "ipython",
    "version": 3
   },
   "file_extension": ".py",
   "mimetype": "text/x-python",
   "name": "python",
   "nbconvert_exporter": "python",
   "pygments_lexer": "ipython3",
   "version": "3.10.0"
  }
 },
 "nbformat": 4,
 "nbformat_minor": 1
}
