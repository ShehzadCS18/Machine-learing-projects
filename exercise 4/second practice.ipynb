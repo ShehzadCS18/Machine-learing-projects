{
 "cells": [
  {
   "cell_type": "code",
   "execution_count": 43,
   "id": "691b6f3f",
   "metadata": {},
   "outputs": [],
   "source": [
    "import numpy as np\n",
    "import matplotlib.pyplot as plt"
   ]
  },
  {
   "cell_type": "code",
   "execution_count": 44,
   "id": "b0b45133",
   "metadata": {},
   "outputs": [],
   "source": [
    "X=np.array([54,56,78,89,53,37,29,26,39,18])\n",
    "Y=np.array([1,1,1,1,1,0,0,0,0,0])\n"
   ]
  },
  {
   "cell_type": "code",
   "execution_count": 45,
   "id": "77887f22",
   "metadata": {},
   "outputs": [],
   "source": [
    "X=X.reshape([X.shape[0],1])"
   ]
  },
  {
   "cell_type": "code",
   "execution_count": 46,
   "id": "237a2162",
   "metadata": {},
   "outputs": [],
   "source": [
    "ones=np.ones([X.shape[0],1])"
   ]
  },
  {
   "cell_type": "code",
   "execution_count": 47,
   "id": "a3641732",
   "metadata": {},
   "outputs": [],
   "source": [
    "X=np.concatenate((ones,X),axis=1)"
   ]
  },
  {
   "cell_type": "code",
   "execution_count": 48,
   "id": "c6a17d98",
   "metadata": {},
   "outputs": [
    {
     "data": {
      "text/plain": [
       "array([[ 1., 54.],\n",
       "       [ 1., 56.],\n",
       "       [ 1., 78.],\n",
       "       [ 1., 89.],\n",
       "       [ 1., 53.],\n",
       "       [ 1., 37.],\n",
       "       [ 1., 29.],\n",
       "       [ 1., 26.],\n",
       "       [ 1., 39.],\n",
       "       [ 1., 18.]])"
      ]
     },
     "execution_count": 48,
     "metadata": {},
     "output_type": "execute_result"
    }
   ],
   "source": [
    "X"
   ]
  },
  {
   "cell_type": "code",
   "execution_count": null,
   "id": "0e9393c5",
   "metadata": {},
   "outputs": [],
   "source": []
  },
  {
   "cell_type": "code",
   "execution_count": 50,
   "id": "b2f1ce3c",
   "metadata": {},
   "outputs": [
    {
     "data": {
      "text/plain": [
       "array([[ 1.],\n",
       "       [ 1.],\n",
       "       [ 1.],\n",
       "       [ 1.],\n",
       "       [ 1.],\n",
       "       [ 1.],\n",
       "       [ 1.],\n",
       "       [ 1.],\n",
       "       [ 1.],\n",
       "       [ 1.],\n",
       "       [54.],\n",
       "       [56.],\n",
       "       [78.],\n",
       "       [89.],\n",
       "       [53.],\n",
       "       [37.],\n",
       "       [29.],\n",
       "       [26.],\n",
       "       [39.],\n",
       "       [18.]])"
      ]
     },
     "execution_count": 50,
     "metadata": {},
     "output_type": "execute_result"
    }
   ],
   "source": [
    "X2"
   ]
  },
  {
   "cell_type": "code",
   "execution_count": 51,
   "id": "075fad56",
   "metadata": {},
   "outputs": [],
   "source": [
    "theta=np.zeros(X.shape[1])"
   ]
  },
  {
   "cell_type": "code",
   "execution_count": 52,
   "id": "90d6b40f",
   "metadata": {},
   "outputs": [
    {
     "data": {
      "text/plain": [
       "array([0., 0.])"
      ]
     },
     "execution_count": 52,
     "metadata": {},
     "output_type": "execute_result"
    }
   ],
   "source": [
    "theta"
   ]
  },
  {
   "cell_type": "code",
   "execution_count": 53,
   "id": "9d796e10",
   "metadata": {},
   "outputs": [],
   "source": [
    "def hypothesis(X,thata):\n",
    "    R=1/(1+np.exp(-(X.dot(theta.T))))\n",
    "    return R"
   ]
  },
  {
   "cell_type": "code",
   "execution_count": 54,
   "id": "fdafa87b",
   "metadata": {},
   "outputs": [
    {
     "data": {
      "text/plain": [
       "array([0.5, 0.5, 0.5, 0.5, 0.5, 0.5, 0.5, 0.5, 0.5, 0.5])"
      ]
     },
     "execution_count": 54,
     "metadata": {},
     "output_type": "execute_result"
    }
   ],
   "source": [
    "hypothesis(X,theta)"
   ]
  },
  {
   "cell_type": "code",
   "execution_count": 55,
   "id": "ff98e71c",
   "metadata": {},
   "outputs": [],
   "source": [
    "def loss(m,X,Y,hyp):\n",
    "    Result=((-1/m)*np.sum((Y*np.log(hyp))+(1-Y)*np.log(1-hyp)))\n",
    "    return Result"
   ]
  },
  {
   "cell_type": "code",
   "execution_count": 56,
   "id": "8107396d",
   "metadata": {},
   "outputs": [
    {
     "data": {
      "text/plain": [
       "0.6931471805599454"
      ]
     },
     "execution_count": 56,
     "metadata": {},
     "output_type": "execute_result"
    }
   ],
   "source": [
    "loss(X.shape[0],X,Y,hypothesis(X,theta))"
   ]
  },
  {
   "cell_type": "code",
   "execution_count": 57,
   "id": "de2ea4a8",
   "metadata": {},
   "outputs": [],
   "source": [
    "def gradient(m,X,Y,hyp):\n",
    "    result=((1/m)*np.dot(X.T,(hyp-Y)))\n",
    "    return result"
   ]
  },
  {
   "cell_type": "code",
   "execution_count": 58,
   "id": "07623208",
   "metadata": {},
   "outputs": [
    {
     "data": {
      "text/plain": [
       "array([ 0.  , -9.05])"
      ]
     },
     "execution_count": 58,
     "metadata": {},
     "output_type": "execute_result"
    }
   ],
   "source": [
    "gradient(X.shape[0],X,Y,hypothesis(X,theta))"
   ]
  },
  {
   "cell_type": "code",
   "execution_count": 61,
   "id": "6e0033ca",
   "metadata": {},
   "outputs": [
    {
     "name": "stdout",
     "output_type": "stream",
     "text": [
      "epoch=0,loss=1.399\n",
      "epoch=1,loss=1.380\n",
      "epoch=2,loss=1.361\n",
      "epoch=3,loss=1.342\n",
      "epoch=4,loss=1.324\n",
      "epoch=5,loss=1.305\n",
      "epoch=6,loss=1.287\n",
      "epoch=7,loss=1.268\n",
      "epoch=8,loss=1.250\n",
      "epoch=9,loss=1.232\n"
     ]
    }
   ],
   "source": [
    "#training loop\n",
    "los=[]\n",
    "step=[]\n",
    "lr=0.0001\n",
    "for i in range(10):\n",
    "    step.append(i)\n",
    "    H=hypothesis(X,theta)\n",
    "    l=loss(X.shape[0],X,Y,hypothesis(X,theta))\n",
    "    los.append(l)\n",
    "    d=gradient(X.shape[0],X,Y,hypothesis(X,theta))\n",
    "    theta=theta-lr*d\n",
    "    print(f'epoch={i},loss={l:.3f}')\n",
    "\n"
   ]
  },
  {
   "cell_type": "code",
   "execution_count": null,
   "id": "250bb501",
   "metadata": {},
   "outputs": [],
   "source": []
  },
  {
   "cell_type": "code",
   "execution_count": null,
   "id": "faa2bc3a",
   "metadata": {},
   "outputs": [],
   "source": []
  }
 ],
 "metadata": {
  "kernelspec": {
   "display_name": "Python 3 (ipykernel)",
   "language": "python",
   "name": "python3"
  },
  "language_info": {
   "codemirror_mode": {
    "name": "ipython",
    "version": 3
   },
   "file_extension": ".py",
   "mimetype": "text/x-python",
   "name": "python",
   "nbconvert_exporter": "python",
   "pygments_lexer": "ipython3",
   "version": "3.10.0"
  }
 },
 "nbformat": 4,
 "nbformat_minor": 5
}
