{
 "cells": [
  {
   "cell_type": "code",
   "execution_count": 28,
   "id": "bb89ff41",
   "metadata": {},
   "outputs": [],
   "source": [
    "import numpy as np\n",
    "import matplotlib.pyplot as plt"
   ]
  },
  {
   "cell_type": "code",
   "execution_count": 29,
   "id": "c0a2f91f",
   "metadata": {},
   "outputs": [],
   "source": [
    "X=np.loadtxt('ex4x.dat')"
   ]
  },
  {
   "cell_type": "code",
   "execution_count": 30,
   "id": "f25b2757",
   "metadata": {
    "collapsed": true
   },
   "outputs": [
    {
     "data": {
      "text/plain": [
       "array([[55.5, 69.5],\n",
       "       [41. , 81.5],\n",
       "       [53.5, 86. ],\n",
       "       [46. , 84. ],\n",
       "       [41. , 73.5],\n",
       "       [51.5, 69. ],\n",
       "       [51. , 62.5],\n",
       "       [42. , 75. ],\n",
       "       [53.5, 83. ],\n",
       "       [57.5, 71. ],\n",
       "       [42.5, 72.5],\n",
       "       [41. , 80. ],\n",
       "       [46. , 82. ],\n",
       "       [46. , 60.5],\n",
       "       [49.5, 76. ],\n",
       "       [41. , 76. ],\n",
       "       [48.5, 72.5],\n",
       "       [51.5, 82.5],\n",
       "       [44.5, 70.5],\n",
       "       [44. , 66. ],\n",
       "       [33. , 76.5],\n",
       "       [33.5, 78.5],\n",
       "       [31.5, 72. ],\n",
       "       [33. , 81.5],\n",
       "       [42. , 59.5],\n",
       "       [30. , 64. ],\n",
       "       [61. , 45. ],\n",
       "       [49. , 79. ],\n",
       "       [26.5, 64.5],\n",
       "       [34. , 71.5],\n",
       "       [42. , 83.5],\n",
       "       [29.5, 74.5],\n",
       "       [39.5, 70. ],\n",
       "       [51.5, 66. ],\n",
       "       [41.5, 71.5],\n",
       "       [42.5, 79.5],\n",
       "       [35. , 59.5],\n",
       "       [38.5, 73.5],\n",
       "       [32. , 81.5],\n",
       "       [46. , 60.5],\n",
       "       [36.5, 53. ],\n",
       "       [36.5, 53.5],\n",
       "       [24. , 60.5],\n",
       "       [19. , 57.5],\n",
       "       [34.5, 60. ],\n",
       "       [37.5, 64.5],\n",
       "       [35.5, 51. ],\n",
       "       [37. , 50.5],\n",
       "       [21.5, 42. ],\n",
       "       [35.5, 58.5],\n",
       "       [26.5, 68.5],\n",
       "       [26.5, 55.5],\n",
       "       [18.5, 67. ],\n",
       "       [40. , 67. ],\n",
       "       [32.5, 71.5],\n",
       "       [39. , 71.5],\n",
       "       [43. , 55.5],\n",
       "       [22. , 54. ],\n",
       "       [36. , 62.5],\n",
       "       [31. , 55.5],\n",
       "       [38.5, 76. ],\n",
       "       [40. , 75. ],\n",
       "       [37.5, 63. ],\n",
       "       [24.5, 58. ],\n",
       "       [30. , 67. ],\n",
       "       [33. , 56. ],\n",
       "       [56.5, 61. ],\n",
       "       [41. , 57. ],\n",
       "       [49.5, 63. ],\n",
       "       [34.5, 72.5],\n",
       "       [32.5, 69. ],\n",
       "       [36. , 73. ],\n",
       "       [27. , 53.5],\n",
       "       [41. , 63.5],\n",
       "       [29.5, 52.5],\n",
       "       [20. , 65.5],\n",
       "       [38. , 65. ],\n",
       "       [18.5, 74.5],\n",
       "       [16. , 72.5],\n",
       "       [33.5, 68. ]])"
      ]
     },
     "execution_count": 30,
     "metadata": {},
     "output_type": "execute_result"
    }
   ],
   "source": [
    "X"
   ]
  },
  {
   "cell_type": "code",
   "execution_count": 31,
   "id": "b6d76226",
   "metadata": {},
   "outputs": [],
   "source": [
    "Y=np.loadtxt('ex4y.dat')"
   ]
  },
  {
   "cell_type": "code",
   "execution_count": 32,
   "id": "bd4b3e70",
   "metadata": {
    "collapsed": true
   },
   "outputs": [
    {
     "data": {
      "text/plain": [
       "array([1., 1., 1., 1., 1., 1., 1., 1., 1., 1., 1., 1., 1., 1., 1., 1., 1.,\n",
       "       1., 1., 1., 1., 1., 1., 1., 1., 1., 1., 1., 1., 1., 1., 1., 1., 1.,\n",
       "       1., 1., 1., 1., 1., 1., 0., 0., 0., 0., 0., 0., 0., 0., 0., 0., 0.,\n",
       "       0., 0., 0., 0., 0., 0., 0., 0., 0., 0., 0., 0., 0., 0., 0., 0., 0.,\n",
       "       0., 0., 0., 0., 0., 0., 0., 0., 0., 0., 0., 0.])"
      ]
     },
     "execution_count": 32,
     "metadata": {},
     "output_type": "execute_result"
    }
   ],
   "source": [
    "Y"
   ]
  },
  {
   "cell_type": "code",
   "execution_count": 33,
   "id": "c0ad9afe",
   "metadata": {},
   "outputs": [
    {
     "data": {
      "text/plain": [
       "(80, 2)"
      ]
     },
     "execution_count": 33,
     "metadata": {},
     "output_type": "execute_result"
    }
   ],
   "source": [
    "X.shape"
   ]
  },
  {
   "cell_type": "code",
   "execution_count": 34,
   "id": "6f6e061b",
   "metadata": {},
   "outputs": [],
   "source": [
    "x0=np.ones([X.shape[0],1])"
   ]
  },
  {
   "cell_type": "code",
   "execution_count": 35,
   "id": "c973a14e",
   "metadata": {
    "collapsed": true
   },
   "outputs": [
    {
     "data": {
      "text/plain": [
       "array([[1.],\n",
       "       [1.],\n",
       "       [1.],\n",
       "       [1.],\n",
       "       [1.],\n",
       "       [1.],\n",
       "       [1.],\n",
       "       [1.],\n",
       "       [1.],\n",
       "       [1.],\n",
       "       [1.],\n",
       "       [1.],\n",
       "       [1.],\n",
       "       [1.],\n",
       "       [1.],\n",
       "       [1.],\n",
       "       [1.],\n",
       "       [1.],\n",
       "       [1.],\n",
       "       [1.],\n",
       "       [1.],\n",
       "       [1.],\n",
       "       [1.],\n",
       "       [1.],\n",
       "       [1.],\n",
       "       [1.],\n",
       "       [1.],\n",
       "       [1.],\n",
       "       [1.],\n",
       "       [1.],\n",
       "       [1.],\n",
       "       [1.],\n",
       "       [1.],\n",
       "       [1.],\n",
       "       [1.],\n",
       "       [1.],\n",
       "       [1.],\n",
       "       [1.],\n",
       "       [1.],\n",
       "       [1.],\n",
       "       [1.],\n",
       "       [1.],\n",
       "       [1.],\n",
       "       [1.],\n",
       "       [1.],\n",
       "       [1.],\n",
       "       [1.],\n",
       "       [1.],\n",
       "       [1.],\n",
       "       [1.],\n",
       "       [1.],\n",
       "       [1.],\n",
       "       [1.],\n",
       "       [1.],\n",
       "       [1.],\n",
       "       [1.],\n",
       "       [1.],\n",
       "       [1.],\n",
       "       [1.],\n",
       "       [1.],\n",
       "       [1.],\n",
       "       [1.],\n",
       "       [1.],\n",
       "       [1.],\n",
       "       [1.],\n",
       "       [1.],\n",
       "       [1.],\n",
       "       [1.],\n",
       "       [1.],\n",
       "       [1.],\n",
       "       [1.],\n",
       "       [1.],\n",
       "       [1.],\n",
       "       [1.],\n",
       "       [1.],\n",
       "       [1.],\n",
       "       [1.],\n",
       "       [1.],\n",
       "       [1.],\n",
       "       [1.]])"
      ]
     },
     "execution_count": 35,
     "metadata": {},
     "output_type": "execute_result"
    }
   ],
   "source": [
    "x0"
   ]
  },
  {
   "cell_type": "code",
   "execution_count": 36,
   "id": "811deae0",
   "metadata": {},
   "outputs": [
    {
     "data": {
      "text/plain": [
       "(80, 1)"
      ]
     },
     "execution_count": 36,
     "metadata": {},
     "output_type": "execute_result"
    }
   ],
   "source": [
    "x0.shape"
   ]
  },
  {
   "cell_type": "code",
   "execution_count": 37,
   "id": "1d34a1af",
   "metadata": {},
   "outputs": [],
   "source": [
    "X=np.concatenate((x0,X),axis=1)"
   ]
  },
  {
   "cell_type": "code",
   "execution_count": 38,
   "id": "bdba8971",
   "metadata": {
    "collapsed": true
   },
   "outputs": [
    {
     "data": {
      "text/plain": [
       "array([[ 1. , 55.5, 69.5],\n",
       "       [ 1. , 41. , 81.5],\n",
       "       [ 1. , 53.5, 86. ],\n",
       "       [ 1. , 46. , 84. ],\n",
       "       [ 1. , 41. , 73.5],\n",
       "       [ 1. , 51.5, 69. ],\n",
       "       [ 1. , 51. , 62.5],\n",
       "       [ 1. , 42. , 75. ],\n",
       "       [ 1. , 53.5, 83. ],\n",
       "       [ 1. , 57.5, 71. ],\n",
       "       [ 1. , 42.5, 72.5],\n",
       "       [ 1. , 41. , 80. ],\n",
       "       [ 1. , 46. , 82. ],\n",
       "       [ 1. , 46. , 60.5],\n",
       "       [ 1. , 49.5, 76. ],\n",
       "       [ 1. , 41. , 76. ],\n",
       "       [ 1. , 48.5, 72.5],\n",
       "       [ 1. , 51.5, 82.5],\n",
       "       [ 1. , 44.5, 70.5],\n",
       "       [ 1. , 44. , 66. ],\n",
       "       [ 1. , 33. , 76.5],\n",
       "       [ 1. , 33.5, 78.5],\n",
       "       [ 1. , 31.5, 72. ],\n",
       "       [ 1. , 33. , 81.5],\n",
       "       [ 1. , 42. , 59.5],\n",
       "       [ 1. , 30. , 64. ],\n",
       "       [ 1. , 61. , 45. ],\n",
       "       [ 1. , 49. , 79. ],\n",
       "       [ 1. , 26.5, 64.5],\n",
       "       [ 1. , 34. , 71.5],\n",
       "       [ 1. , 42. , 83.5],\n",
       "       [ 1. , 29.5, 74.5],\n",
       "       [ 1. , 39.5, 70. ],\n",
       "       [ 1. , 51.5, 66. ],\n",
       "       [ 1. , 41.5, 71.5],\n",
       "       [ 1. , 42.5, 79.5],\n",
       "       [ 1. , 35. , 59.5],\n",
       "       [ 1. , 38.5, 73.5],\n",
       "       [ 1. , 32. , 81.5],\n",
       "       [ 1. , 46. , 60.5],\n",
       "       [ 1. , 36.5, 53. ],\n",
       "       [ 1. , 36.5, 53.5],\n",
       "       [ 1. , 24. , 60.5],\n",
       "       [ 1. , 19. , 57.5],\n",
       "       [ 1. , 34.5, 60. ],\n",
       "       [ 1. , 37.5, 64.5],\n",
       "       [ 1. , 35.5, 51. ],\n",
       "       [ 1. , 37. , 50.5],\n",
       "       [ 1. , 21.5, 42. ],\n",
       "       [ 1. , 35.5, 58.5],\n",
       "       [ 1. , 26.5, 68.5],\n",
       "       [ 1. , 26.5, 55.5],\n",
       "       [ 1. , 18.5, 67. ],\n",
       "       [ 1. , 40. , 67. ],\n",
       "       [ 1. , 32.5, 71.5],\n",
       "       [ 1. , 39. , 71.5],\n",
       "       [ 1. , 43. , 55.5],\n",
       "       [ 1. , 22. , 54. ],\n",
       "       [ 1. , 36. , 62.5],\n",
       "       [ 1. , 31. , 55.5],\n",
       "       [ 1. , 38.5, 76. ],\n",
       "       [ 1. , 40. , 75. ],\n",
       "       [ 1. , 37.5, 63. ],\n",
       "       [ 1. , 24.5, 58. ],\n",
       "       [ 1. , 30. , 67. ],\n",
       "       [ 1. , 33. , 56. ],\n",
       "       [ 1. , 56.5, 61. ],\n",
       "       [ 1. , 41. , 57. ],\n",
       "       [ 1. , 49.5, 63. ],\n",
       "       [ 1. , 34.5, 72.5],\n",
       "       [ 1. , 32.5, 69. ],\n",
       "       [ 1. , 36. , 73. ],\n",
       "       [ 1. , 27. , 53.5],\n",
       "       [ 1. , 41. , 63.5],\n",
       "       [ 1. , 29.5, 52.5],\n",
       "       [ 1. , 20. , 65.5],\n",
       "       [ 1. , 38. , 65. ],\n",
       "       [ 1. , 18.5, 74.5],\n",
       "       [ 1. , 16. , 72.5],\n",
       "       [ 1. , 33.5, 68. ]])"
      ]
     },
     "execution_count": 38,
     "metadata": {},
     "output_type": "execute_result"
    }
   ],
   "source": [
    "X"
   ]
  },
  {
   "cell_type": "code",
   "execution_count": 39,
   "id": "5f4f391b",
   "metadata": {},
   "outputs": [],
   "source": [
    "theta=np.zeros(X.shape[1])"
   ]
  },
  {
   "cell_type": "code",
   "execution_count": 40,
   "id": "0a33562d",
   "metadata": {},
   "outputs": [
    {
     "data": {
      "text/plain": [
       "(3,)"
      ]
     },
     "execution_count": 40,
     "metadata": {},
     "output_type": "execute_result"
    }
   ],
   "source": [
    "theta.shape"
   ]
  },
  {
   "cell_type": "code",
   "execution_count": 41,
   "id": "dd590479",
   "metadata": {},
   "outputs": [
    {
     "data": {
      "text/plain": [
       "array([0., 0., 0.])"
      ]
     },
     "execution_count": 41,
     "metadata": {},
     "output_type": "execute_result"
    }
   ],
   "source": [
    "theta"
   ]
  },
  {
   "cell_type": "code",
   "execution_count": 42,
   "id": "ce883044",
   "metadata": {},
   "outputs": [],
   "source": [
    "def hypothesis(X,theta):\n",
    "    result=1.0/(1.0+ np.exp(-(X.dot(theta.T))))\n",
    "    return result"
   ]
  },
  {
   "cell_type": "code",
   "execution_count": 43,
   "id": "a9406285",
   "metadata": {
    "collapsed": true
   },
   "outputs": [
    {
     "data": {
      "text/plain": [
       "array([0.5, 0.5, 0.5, 0.5, 0.5, 0.5, 0.5, 0.5, 0.5, 0.5, 0.5, 0.5, 0.5,\n",
       "       0.5, 0.5, 0.5, 0.5, 0.5, 0.5, 0.5, 0.5, 0.5, 0.5, 0.5, 0.5, 0.5,\n",
       "       0.5, 0.5, 0.5, 0.5, 0.5, 0.5, 0.5, 0.5, 0.5, 0.5, 0.5, 0.5, 0.5,\n",
       "       0.5, 0.5, 0.5, 0.5, 0.5, 0.5, 0.5, 0.5, 0.5, 0.5, 0.5, 0.5, 0.5,\n",
       "       0.5, 0.5, 0.5, 0.5, 0.5, 0.5, 0.5, 0.5, 0.5, 0.5, 0.5, 0.5, 0.5,\n",
       "       0.5, 0.5, 0.5, 0.5, 0.5, 0.5, 0.5, 0.5, 0.5, 0.5, 0.5, 0.5, 0.5,\n",
       "       0.5, 0.5])"
      ]
     },
     "execution_count": 43,
     "metadata": {},
     "output_type": "execute_result"
    }
   ],
   "source": [
    "hypothesis(X,theta)"
   ]
  },
  {
   "cell_type": "code",
   "execution_count": 44,
   "id": "e0013efb",
   "metadata": {},
   "outputs": [],
   "source": [
    "def loss(m,Y,hyp):\n",
    "    result=(-1/m)*(np.sum(Y*np.log(hyp)+(1-Y)*np.log(1-hyp)))\n",
    "    return result"
   ]
  },
  {
   "cell_type": "code",
   "execution_count": 45,
   "id": "90315503",
   "metadata": {},
   "outputs": [
    {
     "data": {
      "text/plain": [
       "0.6931471805599454"
      ]
     },
     "execution_count": 45,
     "metadata": {},
     "output_type": "execute_result"
    }
   ],
   "source": [
    "m=X.shape[0]\n",
    "loss(m,Y,hypothesis(X,theta))\n"
   ]
  },
  {
   "cell_type": "code",
   "execution_count": 46,
   "id": "9d471708",
   "metadata": {},
   "outputs": [],
   "source": [
    "def gradient(m,x,y,hyp):\n",
    "    dw = (1/m)*np.dot(x.T, (hyp - y))\n",
    "    return dw"
   ]
  },
  {
   "cell_type": "code",
   "execution_count": 47,
   "id": "56387787",
   "metadata": {},
   "outputs": [
    {
     "data": {
      "text/plain": [
       "array([ 0.      , -2.55625 , -2.628125])"
      ]
     },
     "execution_count": 47,
     "metadata": {},
     "output_type": "execute_result"
    }
   ],
   "source": [
    "gradient(m,X,Y,hypothesis(X,theta))"
   ]
  },
  {
   "cell_type": "code",
   "execution_count": 48,
   "id": "1b9fb317",
   "metadata": {},
   "outputs": [
    {
     "name": "stdout",
     "output_type": "stream",
     "text": [
      "step=0,loss=0.6931\n",
      "step=1,loss=0.6892\n",
      "step=2,loss=0.6876\n",
      "step=3,loss=0.6866\n",
      "step=4,loss=0.6858\n",
      "step=5,loss=0.6850\n",
      "step=6,loss=0.6843\n",
      "step=7,loss=0.6836\n",
      "step=8,loss=0.6829\n",
      "step=9,loss=0.6823\n",
      "step=10,loss=0.6817\n",
      "step=11,loss=0.6811\n",
      "step=12,loss=0.6805\n",
      "step=13,loss=0.6800\n",
      "step=14,loss=0.6794\n",
      "step=15,loss=0.6789\n",
      "step=16,loss=0.6784\n",
      "step=17,loss=0.6780\n",
      "step=18,loss=0.6775\n",
      "step=19,loss=0.6771\n",
      "step=20,loss=0.6766\n",
      "step=21,loss=0.6762\n",
      "step=22,loss=0.6758\n",
      "step=23,loss=0.6755\n",
      "step=24,loss=0.6751\n",
      "step=25,loss=0.6747\n",
      "step=26,loss=0.6744\n",
      "step=27,loss=0.6741\n",
      "step=28,loss=0.6738\n",
      "step=29,loss=0.6735\n",
      "step=30,loss=0.6732\n",
      "step=31,loss=0.6729\n",
      "step=32,loss=0.6726\n",
      "step=33,loss=0.6724\n",
      "step=34,loss=0.6721\n",
      "step=35,loss=0.6719\n",
      "step=36,loss=0.6716\n",
      "step=37,loss=0.6714\n",
      "step=38,loss=0.6712\n",
      "step=39,loss=0.6710\n",
      "step=40,loss=0.6708\n",
      "step=41,loss=0.6706\n",
      "step=42,loss=0.6704\n",
      "step=43,loss=0.6702\n",
      "step=44,loss=0.6700\n",
      "step=45,loss=0.6698\n",
      "step=46,loss=0.6697\n",
      "step=47,loss=0.6695\n",
      "step=48,loss=0.6694\n",
      "step=49,loss=0.6692\n",
      "step=50,loss=0.6691\n",
      "step=51,loss=0.6689\n",
      "step=52,loss=0.6688\n",
      "step=53,loss=0.6687\n",
      "step=54,loss=0.6686\n",
      "step=55,loss=0.6684\n",
      "step=56,loss=0.6683\n",
      "step=57,loss=0.6682\n",
      "step=58,loss=0.6681\n",
      "step=59,loss=0.6680\n",
      "step=60,loss=0.6679\n",
      "step=61,loss=0.6678\n",
      "step=62,loss=0.6677\n",
      "step=63,loss=0.6676\n",
      "step=64,loss=0.6675\n",
      "step=65,loss=0.6674\n",
      "step=66,loss=0.6674\n",
      "step=67,loss=0.6673\n",
      "step=68,loss=0.6672\n",
      "step=69,loss=0.6671\n",
      "step=70,loss=0.6670\n",
      "step=71,loss=0.6670\n",
      "step=72,loss=0.6669\n",
      "step=73,loss=0.6668\n",
      "step=74,loss=0.6668\n",
      "step=75,loss=0.6667\n",
      "step=76,loss=0.6667\n",
      "step=77,loss=0.6666\n",
      "step=78,loss=0.6665\n",
      "step=79,loss=0.6665\n",
      "step=80,loss=0.6664\n",
      "step=81,loss=0.6664\n",
      "step=82,loss=0.6663\n",
      "step=83,loss=0.6663\n",
      "step=84,loss=0.6663\n",
      "step=85,loss=0.6662\n",
      "step=86,loss=0.6662\n",
      "step=87,loss=0.6661\n",
      "step=88,loss=0.6661\n",
      "step=89,loss=0.6660\n",
      "step=90,loss=0.6660\n",
      "step=91,loss=0.6660\n",
      "step=92,loss=0.6659\n",
      "step=93,loss=0.6659\n",
      "step=94,loss=0.6659\n",
      "step=95,loss=0.6658\n",
      "step=96,loss=0.6658\n",
      "step=97,loss=0.6658\n",
      "step=98,loss=0.6657\n",
      "step=99,loss=0.6657\n"
     ]
    }
   ],
   "source": [
    "#traing loop\n",
    "lr=0.001\n",
    "los=[]\n",
    "for i in range(100):\n",
    "    H=hypothesis(X,theta)\n",
    "    l=loss(m,Y,H)\n",
    "    los.append(l)\n",
    "    d=gradient(m,X,Y,H)\n",
    "    theta=theta-lr*d\n",
    "    print(f'step={i},loss={l:.4f}')\n",
    "    "
   ]
  },
  {
   "cell_type": "code",
   "execution_count": 22,
   "id": "89176ca6",
   "metadata": {},
   "outputs": [
    {
     "data": {
      "image/png": "[encoded data removed]",
      "text/plain": [
       "<Figure size 432x288 with 1 Axes>"
      ]
     },
     "metadata": {
      "needs_background": "light"
     },
     "output_type": "display_data"
    }
   ],
   "source": [
    "plt.plot(los,'r')\n",
    "plt.show()"
   ]
  },
  {
   "cell_type": "code",
   "execution_count": 25,
   "id": "2815e4ad",
   "metadata": {},
   "outputs": [
    {
     "name": "stdout",
     "output_type": "stream",
     "text": [
      "step=0,loss=9.9297\n",
      "step=1,loss=2.3293\n",
      "step=2,loss=8.1555\n",
      "step=3,loss=4.1489\n",
      "step=4,loss=9.8412\n",
      "step=5,loss=2.4078\n",
      "step=6,loss=8.1716\n",
      "step=7,loss=4.1148\n",
      "step=8,loss=9.7831\n",
      "step=9,loss=2.4599\n",
      "step=10,loss=8.1298\n",
      "step=11,loss=4.1472\n",
      "step=12,loss=9.7134\n",
      "step=13,loss=2.5227\n",
      "step=14,loss=8.1092\n",
      "step=15,loss=4.1558\n",
      "step=16,loss=9.6458\n",
      "step=17,loss=2.5831\n",
      "step=18,loss=8.0830\n",
      "step=19,loss=4.1710\n",
      "step=20,loss=9.5779\n",
      "step=21,loss=2.6447\n",
      "step=22,loss=8.0582\n",
      "step=23,loss=4.1850\n",
      "step=24,loss=9.5088\n",
      "step=25,loss=2.7069\n",
      "step=26,loss=8.0336\n",
      "step=27,loss=4.1992\n",
      "step=28,loss=9.4390\n",
      "step=29,loss=2.7698\n",
      "step=30,loss=8.0092\n",
      "step=31,loss=4.2133\n",
      "step=32,loss=9.3676\n",
      "step=33,loss=2.8336\n",
      "step=34,loss=7.9853\n",
      "step=35,loss=4.2271\n",
      "step=36,loss=nan\n",
      "step=37,loss=2.8984\n",
      "step=38,loss=7.9619\n",
      "step=39,loss=4.2405\n",
      "step=40,loss=nan\n",
      "step=41,loss=2.9642\n",
      "step=42,loss=7.9392\n",
      "step=43,loss=4.2534\n",
      "step=44,loss=nan\n",
      "step=45,loss=3.0313\n",
      "step=46,loss=7.9173\n",
      "step=47,loss=4.2654\n",
      "step=48,loss=nan\n",
      "step=49,loss=3.0998\n",
      "step=50,loss=7.8964\n",
      "step=51,loss=4.2765\n",
      "step=52,loss=nan\n",
      "step=53,loss=3.1698\n",
      "step=54,loss=7.8766\n",
      "step=55,loss=4.2865\n",
      "step=56,loss=nan\n",
      "step=57,loss=3.2414\n",
      "step=58,loss=7.8580\n",
      "step=59,loss=4.2951\n",
      "step=60,loss=nan\n",
      "step=61,loss=3.3149\n",
      "step=62,loss=7.8410\n",
      "step=63,loss=4.3022\n",
      "step=64,loss=nan\n",
      "step=65,loss=3.3903\n",
      "step=66,loss=7.8254\n",
      "step=67,loss=4.3076\n",
      "step=68,loss=nan\n",
      "step=69,loss=3.4677\n",
      "step=70,loss=7.8115\n",
      "step=71,loss=4.3111\n",
      "step=72,loss=nan\n",
      "step=73,loss=3.5471\n",
      "step=74,loss=7.7994\n",
      "step=75,loss=4.3127\n",
      "step=76,loss=nan\n",
      "step=77,loss=3.6284\n",
      "step=78,loss=nan\n",
      "step=79,loss=4.3125\n",
      "step=80,loss=nan\n",
      "step=81,loss=3.7112\n",
      "step=82,loss=nan\n",
      "step=83,loss=4.3107\n",
      "step=84,loss=nan\n",
      "step=85,loss=3.7950\n",
      "step=86,loss=nan\n",
      "step=87,loss=4.3078\n",
      "step=88,loss=nan\n",
      "step=89,loss=3.8786\n",
      "step=90,loss=nan\n",
      "step=91,loss=4.3047\n",
      "step=92,loss=nan\n",
      "step=93,loss=3.9606\n",
      "step=94,loss=nan\n",
      "step=95,loss=4.3023\n",
      "step=96,loss=nan\n",
      "step=97,loss=4.0389\n",
      "step=98,loss=nan\n",
      "step=99,loss=4.3020\n"
     ]
    },
    {
     "name": "stderr",
     "output_type": "stream",
     "text": [
      "C:\\Users\\shehz\\AppData\\Local\\Temp\\ipykernel_8292\\3506676676.py:2: RuntimeWarning: divide by zero encountered in log\n",
      "  result=(-1/m)*(np.sum(Y*np.log(hyp)+(1-Y)*np.log(1-hyp)))\n",
      "C:\\Users\\shehz\\AppData\\Local\\Temp\\ipykernel_8292\\3506676676.py:2: RuntimeWarning: invalid value encountered in multiply\n",
      "  result=(-1/m)*(np.sum(Y*np.log(hyp)+(1-Y)*np.log(1-hyp)))\n"
     ]
    }
   ],
   "source": [
    "#traing loop\n",
    "lr=0.01\n",
    "los2=[]\n",
    "for i in range(100):\n",
    "    H=hypothesis(X,theta)\n",
    "    l=loss(m,Y,H)\n",
    "    los2.append(l)\n",
    "    d=gradient(m,X,Y,H)\n",
    "    theta=theta-lr*d\n",
    "    print(f'step={i},loss={l:.4f}')"
   ]
  },
  {
   "cell_type": "code",
   "execution_count": 26,
   "id": "1994cf5b",
   "metadata": {},
   "outputs": [
    {
     "data": {
      "image/png": "[encoded data removed]",
      "text/plain": [
       "<Figure size 432x288 with 1 Axes>"
      ]
     },
     "metadata": {
      "needs_background": "light"
     },
     "output_type": "display_data"
    }
   ],
   "source": [
    "plt.plot(los2,'r')\n",
    "plt.show()"
   ]
  },
  {
   "cell_type": "code",
   "execution_count": 49,
   "id": "19b1664f",
   "metadata": {},
   "outputs": [],
   "source": [
    "v=X[10]"
   ]
  },
  {
   "cell_type": "code",
   "execution_count": 50,
   "id": "9f78b30f",
   "metadata": {},
   "outputs": [
    {
     "data": {
      "text/plain": [
       "array([ 1. , 42.5, 72.5])"
      ]
     },
     "execution_count": 50,
     "metadata": {},
     "output_type": "execute_result"
    }
   ],
   "source": [
    "v"
   ]
  },
  {
   "cell_type": "code",
   "execution_count": 51,
   "id": "d680da57",
   "metadata": {},
   "outputs": [],
   "source": [
    "v_output=Y[10]"
   ]
  },
  {
   "cell_type": "code",
   "execution_count": 52,
   "id": "fe279733",
   "metadata": {},
   "outputs": [
    {
     "data": {
      "text/plain": [
       "1.0"
      ]
     },
     "execution_count": 52,
     "metadata": {},
     "output_type": "execute_result"
    }
   ],
   "source": [
    "v_output"
   ]
  },
  {
   "cell_type": "code",
   "execution_count": 55,
   "id": "8bdd5845",
   "metadata": {},
   "outputs": [],
   "source": [
    "prediction=hypothesis(v,theta)"
   ]
  },
  {
   "cell_type": "code",
   "execution_count": 56,
   "id": "16c8d5a2",
   "metadata": {},
   "outputs": [
    {
     "name": "stdout",
     "output_type": "stream",
     "text": [
      "the output os 1\n"
     ]
    }
   ],
   "source": [
    "if prediction>=0.5:\n",
    "    print(\"the output os 1\")\n",
    "else:\n",
    "    print(\"the out put is 0\")"
   ]
  },
  {
   "cell_type": "code",
   "execution_count": null,
   "id": "4ae10904",
   "metadata": {},
   "outputs": [],
   "source": []
  }
 ],
 "metadata": {
  "kernelspec": {
   "display_name": "Python 3 (ipykernel)",
   "language": "python",
   "name": "python3"
  },
  "language_info": {
   "codemirror_mode": {
    "name": "ipython",
    "version": 3
   },
   "file_extension": ".py",
   "mimetype": "text/x-python",
   "name": "python",
   "nbconvert_exporter": "python",
   "pygments_lexer": "ipython3",
   "version": "3.10.0"
  }
 },
 "nbformat": 4,
 "nbformat_minor": 5
}
