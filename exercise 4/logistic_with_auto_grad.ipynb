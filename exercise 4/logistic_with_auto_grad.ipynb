{
 "cells": [
  {
   "cell_type": "code",
   "execution_count": 2,
   "id": "131f887e",
   "metadata": {},
   "outputs": [],
   "source": [
    "import numpy as np\n",
    "import matplotlib.pyplot as plt\n",
    "import pandas as pd\n",
    "import torch.nn as nn\n",
    "import torch"
   ]
  },
  {
   "cell_type": "code",
   "execution_count": 3,
   "id": "fb7027df",
   "metadata": {},
   "outputs": [],
   "source": [
    "x=np.loadtxt('ex4x.dat')\n",
    "y=np.loadtxt('ex4y.dat')"
   ]
  },
  {
   "cell_type": "code",
   "execution_count": 4,
   "id": "d8996f70",
   "metadata": {},
   "outputs": [],
   "source": [
    "ones=np.ones([x.shape[0],1])\n",
    "x=np.concatenate((ones,x),axis=1)"
   ]
  },
  {
   "cell_type": "code",
   "execution_count": 5,
   "id": "4fed304d",
   "metadata": {},
   "outputs": [],
   "source": [
    "X=torch.from_numpy(x.astype(np.float32))\n",
    "Y=torch.from_numpy(y.astype(np.float32))"
   ]
  },
  {
   "cell_type": "code",
   "execution_count": 6,
   "id": "328ae5df",
   "metadata": {},
   "outputs": [
    {
     "data": {
      "text/plain": [
       "tensor([[ 1.0000, 55.5000, 69.5000],\n",
       "        [ 1.0000, 41.0000, 81.5000],\n",
       "        [ 1.0000, 53.5000, 86.0000],\n",
       "        [ 1.0000, 46.0000, 84.0000],\n",
       "        [ 1.0000, 41.0000, 73.5000],\n",
       "        [ 1.0000, 51.5000, 69.0000],\n",
       "        [ 1.0000, 51.0000, 62.5000],\n",
       "        [ 1.0000, 42.0000, 75.0000],\n",
       "        [ 1.0000, 53.5000, 83.0000],\n",
       "        [ 1.0000, 57.5000, 71.0000],\n",
       "        [ 1.0000, 42.5000, 72.5000],\n",
       "        [ 1.0000, 41.0000, 80.0000],\n",
       "        [ 1.0000, 46.0000, 82.0000],\n",
       "        [ 1.0000, 46.0000, 60.5000],\n",
       "        [ 1.0000, 49.5000, 76.0000],\n",
       "        [ 1.0000, 41.0000, 76.0000],\n",
       "        [ 1.0000, 48.5000, 72.5000],\n",
       "        [ 1.0000, 51.5000, 82.5000],\n",
       "        [ 1.0000, 44.5000, 70.5000],\n",
       "        [ 1.0000, 44.0000, 66.0000],\n",
       "        [ 1.0000, 33.0000, 76.5000],\n",
       "        [ 1.0000, 33.5000, 78.5000],\n",
       "        [ 1.0000, 31.5000, 72.0000],\n",
       "        [ 1.0000, 33.0000, 81.5000],\n",
       "        [ 1.0000, 42.0000, 59.5000],\n",
       "        [ 1.0000, 30.0000, 64.0000],\n",
       "        [ 1.0000, 61.0000, 45.0000],\n",
       "        [ 1.0000, 49.0000, 79.0000],\n",
       "        [ 1.0000, 26.5000, 64.5000],\n",
       "        [ 1.0000, 34.0000, 71.5000],\n",
       "        [ 1.0000, 42.0000, 83.5000],\n",
       "        [ 1.0000, 29.5000, 74.5000],\n",
       "        [ 1.0000, 39.5000, 70.0000],\n",
       "        [ 1.0000, 51.5000, 66.0000],\n",
       "        [ 1.0000, 41.5000, 71.5000],\n",
       "        [ 1.0000, 42.5000, 79.5000],\n",
       "        [ 1.0000, 35.0000, 59.5000],\n",
       "        [ 1.0000, 38.5000, 73.5000],\n",
       "        [ 1.0000, 32.0000, 81.5000],\n",
       "        [ 1.0000, 46.0000, 60.5000],\n",
       "        [ 1.0000, 36.5000, 53.0000],\n",
       "        [ 1.0000, 36.5000, 53.5000],\n",
       "        [ 1.0000, 24.0000, 60.5000],\n",
       "        [ 1.0000, 19.0000, 57.5000],\n",
       "        [ 1.0000, 34.5000, 60.0000],\n",
       "        [ 1.0000, 37.5000, 64.5000],\n",
       "        [ 1.0000, 35.5000, 51.0000],\n",
       "        [ 1.0000, 37.0000, 50.5000],\n",
       "        [ 1.0000, 21.5000, 42.0000],\n",
       "        [ 1.0000, 35.5000, 58.5000],\n",
       "        [ 1.0000, 26.5000, 68.5000],\n",
       "        [ 1.0000, 26.5000, 55.5000],\n",
       "        [ 1.0000, 18.5000, 67.0000],\n",
       "        [ 1.0000, 40.0000, 67.0000],\n",
       "        [ 1.0000, 32.5000, 71.5000],\n",
       "        [ 1.0000, 39.0000, 71.5000],\n",
       "        [ 1.0000, 43.0000, 55.5000],\n",
       "        [ 1.0000, 22.0000, 54.0000],\n",
       "        [ 1.0000, 36.0000, 62.5000],\n",
       "        [ 1.0000, 31.0000, 55.5000],\n",
       "        [ 1.0000, 38.5000, 76.0000],\n",
       "        [ 1.0000, 40.0000, 75.0000],\n",
       "        [ 1.0000, 37.5000, 63.0000],\n",
       "        [ 1.0000, 24.5000, 58.0000],\n",
       "        [ 1.0000, 30.0000, 67.0000],\n",
       "        [ 1.0000, 33.0000, 56.0000],\n",
       "        [ 1.0000, 56.5000, 61.0000],\n",
       "        [ 1.0000, 41.0000, 57.0000],\n",
       "        [ 1.0000, 49.5000, 63.0000],\n",
       "        [ 1.0000, 34.5000, 72.5000],\n",
       "        [ 1.0000, 32.5000, 69.0000],\n",
       "        [ 1.0000, 36.0000, 73.0000],\n",
       "        [ 1.0000, 27.0000, 53.5000],\n",
       "        [ 1.0000, 41.0000, 63.5000],\n",
       "        [ 1.0000, 29.5000, 52.5000],\n",
       "        [ 1.0000, 20.0000, 65.5000],\n",
       "        [ 1.0000, 38.0000, 65.0000],\n",
       "        [ 1.0000, 18.5000, 74.5000],\n",
       "        [ 1.0000, 16.0000, 72.5000],\n",
       "        [ 1.0000, 33.5000, 68.0000]])"
      ]
     },
     "execution_count": 6,
     "metadata": {},
     "output_type": "execute_result"
    }
   ],
   "source": [
    "X"
   ]
  },
  {
   "cell_type": "code",
   "execution_count": 7,
   "id": "516c75d7",
   "metadata": {},
   "outputs": [
    {
     "data": {
      "text/plain": [
       "tensor([1., 1., 1., 1., 1., 1., 1., 1., 1., 1., 1., 1., 1., 1., 1., 1., 1., 1.,\n",
       "        1., 1., 1., 1., 1., 1., 1., 1., 1., 1., 1., 1., 1., 1., 1., 1., 1., 1.,\n",
       "        1., 1., 1., 1., 0., 0., 0., 0., 0., 0., 0., 0., 0., 0., 0., 0., 0., 0.,\n",
       "        0., 0., 0., 0., 0., 0., 0., 0., 0., 0., 0., 0., 0., 0., 0., 0., 0., 0.,\n",
       "        0., 0., 0., 0., 0., 0., 0., 0.])"
      ]
     },
     "execution_count": 7,
     "metadata": {},
     "output_type": "execute_result"
    }
   ],
   "source": [
    "Y"
   ]
  },
  {
   "cell_type": "code",
   "execution_count": 8,
   "id": "b6e5d460",
   "metadata": {},
   "outputs": [],
   "source": [
    "Y=Y.view(Y.shape[0],1)"
   ]
  },
  {
   "cell_type": "code",
   "execution_count": 9,
   "id": "3f9f58ba",
   "metadata": {},
   "outputs": [
    {
     "data": {
      "text/plain": [
       "torch.Size([80, 1])"
      ]
     },
     "execution_count": 9,
     "metadata": {},
     "output_type": "execute_result"
    }
   ],
   "source": [
    "Y.shape"
   ]
  },
  {
   "cell_type": "code",
   "execution_count": 11,
   "id": "23593e54",
   "metadata": {},
   "outputs": [],
   "source": [
    "n_samples,n_features=X.shape"
   ]
  },
  {
   "cell_type": "code",
   "execution_count": null,
   "id": "a7b69f7b",
   "metadata": {},
   "outputs": [],
   "source": []
  },
  {
   "cell_type": "code",
   "execution_count": 14,
   "id": "3629d44f",
   "metadata": {},
   "outputs": [],
   "source": [
    "class Model(nn.Module):\n",
    " \n",
    "    def __init__(self,n_features): #initializing\n",
    "        super(Model, self).__init__()\n",
    "        self.linear = nn.Linear(n_features, 1)  # hidden layer\n",
    " \n",
    " \n",
    "    def forward(self, x):\n",
    "        y_pred = torch.sigmoid(self.linear(x))\n",
    "        return y_pred"
   ]
  },
  {
   "cell_type": "code",
   "execution_count": 15,
   "id": "5ce0dae4",
   "metadata": {},
   "outputs": [],
   "source": [
    "M=Model(n_features)"
   ]
  },
  {
   "cell_type": "code",
   "execution_count": 19,
   "id": "df40ab80",
   "metadata": {},
   "outputs": [],
   "source": [
    "learining_rate=0.001\n",
    "loss=nn.BCELoss()\n",
    "optimizer=torch.optim.SGD(M.parameters(),lr=learining_rate)"
   ]
  },
  {
   "cell_type": "code",
   "execution_count": 20,
   "id": "1b6f057e",
   "metadata": {},
   "outputs": [
    {
     "name": "stdout",
     "output_type": "stream",
     "text": [
      "epoch:0, loss:24.077\n",
      "epoch:5, loss:5.218\n",
      "epoch:10, loss:3.000\n",
      "epoch:15, loss:1.904\n",
      "epoch:20, loss:1.875\n",
      "epoch:25, loss:1.853\n",
      "epoch:30, loss:1.827\n",
      "epoch:35, loss:1.801\n",
      "epoch:40, loss:1.780\n",
      "epoch:45, loss:1.754\n",
      "epoch:50, loss:1.731\n",
      "epoch:55, loss:1.706\n",
      "epoch:60, loss:1.683\n",
      "epoch:65, loss:1.660\n",
      "epoch:70, loss:1.635\n",
      "epoch:75, loss:1.612\n",
      "epoch:80, loss:1.589\n",
      "epoch:85, loss:1.566\n",
      "epoch:90, loss:1.542\n",
      "epoch:95, loss:1.519\n"
     ]
    }
   ],
   "source": [
    "los=[]\n",
    "for epoch in range(100):\n",
    "    y_pred=M(X)\n",
    "    l=loss(y_pred,Y)\n",
    "    los.append(l)\n",
    "    l.backward()\n",
    "    optimizer.step()\n",
    "    optimizer.zero_grad()\n",
    "    if epoch %5==0:\n",
    "        print(f'epoch:{epoch}, loss:{l.item():.3f}')"
   ]
  },
  {
   "cell_type": "code",
   "execution_count": 21,
   "id": "b4a72ce1",
   "metadata": {},
   "outputs": [
    {
     "data": {
      "image/png": "[encoded data removed]",
      "text/plain": [
       "<Figure size 432x288 with 1 Axes>"
      ]
     },
     "metadata": {
      "needs_background": "light"
     },
     "output_type": "display_data"
    }
   ],
   "source": [
    "with torch.no_grad():\n",
    "    plt.plot(los,'r')\n",
    "    plt.show()"
   ]
  },
  {
   "cell_type": "code",
   "execution_count": null,
   "id": "de0aa059",
   "metadata": {},
   "outputs": [],
   "source": []
  }
 ],
 "metadata": {
  "kernelspec": {
   "display_name": "Python 3 (ipykernel)",
   "language": "python",
   "name": "python3"
  },
  "language_info": {
   "codemirror_mode": {
    "name": "ipython",
    "version": 3
   },
   "file_extension": ".py",
   "mimetype": "text/x-python",
   "name": "python",
   "nbconvert_exporter": "python",
   "pygments_lexer": "ipython3",
   "version": "3.10.0"
  }
 },
 "nbformat": 4,
 "nbformat_minor": 5
}
