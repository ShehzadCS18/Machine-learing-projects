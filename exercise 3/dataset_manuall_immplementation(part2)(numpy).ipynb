{
 "cells": [
  {
   "cell_type": "code",
   "execution_count": 70,
   "metadata": {},
   "outputs": [],
   "source": [
    "import numpy as np\n",
    "import pandas as pd\n",
    "import matplotlib.pyplot as plt\n",
    "from sklearn.preprocessing import StandardScaler"
   ]
  },
  {
   "cell_type": "code",
   "execution_count": 71,
   "metadata": {},
   "outputs": [],
   "source": [
    "X=np.loadtxt('ex3x.dat')\n",
    "Y=np.loadtxt('ex3y.dat')"
   ]
  },
  {
   "cell_type": "code",
   "execution_count": 72,
   "metadata": {},
   "outputs": [
    {
     "data": {
      "text/plain": [
       "(47, 2)"
      ]
     },
     "execution_count": 72,
     "metadata": {},
     "output_type": "execute_result"
    }
   ],
   "source": [
    "X.shape"
   ]
  },
  {
   "cell_type": "code",
   "execution_count": 74,
   "metadata": {
    "collapsed": true
   },
   "outputs": [
    {
     "data": {
      "text/plain": [
       "array([[2.104e+03, 3.000e+00],\n",
       "       [1.600e+03, 3.000e+00],\n",
       "       [2.400e+03, 3.000e+00],\n",
       "       [1.416e+03, 2.000e+00],\n",
       "       [3.000e+03, 4.000e+00],\n",
       "       [1.985e+03, 4.000e+00],\n",
       "       [1.534e+03, 3.000e+00],\n",
       "       [1.427e+03, 3.000e+00],\n",
       "       [1.380e+03, 3.000e+00],\n",
       "       [1.494e+03, 3.000e+00],\n",
       "       [1.940e+03, 4.000e+00],\n",
       "       [2.000e+03, 3.000e+00],\n",
       "       [1.890e+03, 3.000e+00],\n",
       "       [4.478e+03, 5.000e+00],\n",
       "       [1.268e+03, 3.000e+00],\n",
       "       [2.300e+03, 4.000e+00],\n",
       "       [1.320e+03, 2.000e+00],\n",
       "       [1.236e+03, 3.000e+00],\n",
       "       [2.609e+03, 4.000e+00],\n",
       "       [3.031e+03, 4.000e+00],\n",
       "       [1.767e+03, 3.000e+00],\n",
       "       [1.888e+03, 2.000e+00],\n",
       "       [1.604e+03, 3.000e+00],\n",
       "       [1.962e+03, 4.000e+00],\n",
       "       [3.890e+03, 3.000e+00],\n",
       "       [1.100e+03, 3.000e+00],\n",
       "       [1.458e+03, 3.000e+00],\n",
       "       [2.526e+03, 3.000e+00],\n",
       "       [2.200e+03, 3.000e+00],\n",
       "       [2.637e+03, 3.000e+00],\n",
       "       [1.839e+03, 2.000e+00],\n",
       "       [1.000e+03, 1.000e+00],\n",
       "       [2.040e+03, 4.000e+00],\n",
       "       [3.137e+03, 3.000e+00],\n",
       "       [1.811e+03, 4.000e+00],\n",
       "       [1.437e+03, 3.000e+00],\n",
       "       [1.239e+03, 3.000e+00],\n",
       "       [2.132e+03, 4.000e+00],\n",
       "       [4.215e+03, 4.000e+00],\n",
       "       [2.162e+03, 4.000e+00],\n",
       "       [1.664e+03, 2.000e+00],\n",
       "       [2.238e+03, 3.000e+00],\n",
       "       [2.567e+03, 4.000e+00],\n",
       "       [1.200e+03, 3.000e+00],\n",
       "       [8.520e+02, 2.000e+00],\n",
       "       [1.852e+03, 4.000e+00],\n",
       "       [1.203e+03, 3.000e+00]])"
      ]
     },
     "execution_count": 74,
     "metadata": {},
     "output_type": "execute_result"
    }
   ],
   "source": [
    "X"
   ]
  },
  {
   "cell_type": "code",
   "execution_count": 75,
   "metadata": {},
   "outputs": [],
   "source": [
    "ones=np.ones([X.shape[0],1])"
   ]
  },
  {
   "cell_type": "code",
   "execution_count": 76,
   "metadata": {},
   "outputs": [
    {
     "data": {
      "text/plain": [
       "(47, 1)"
      ]
     },
     "execution_count": 76,
     "metadata": {},
     "output_type": "execute_result"
    }
   ],
   "source": [
    "ones.shape"
   ]
  },
  {
   "cell_type": "code",
   "execution_count": 77,
   "metadata": {},
   "outputs": [],
   "source": [
    "X=np.concatenate((ones,X),axis=1)"
   ]
  },
  {
   "cell_type": "code",
   "execution_count": 78,
   "metadata": {},
   "outputs": [
    {
     "data": {
      "text/plain": [
       "(47, 3)"
      ]
     },
     "execution_count": 78,
     "metadata": {},
     "output_type": "execute_result"
    }
   ],
   "source": [
    "X.shape"
   ]
  },
  {
   "cell_type": "code",
   "execution_count": 79,
   "metadata": {
    "collapsed": true
   },
   "outputs": [
    {
     "data": {
      "text/plain": [
       "array([[1.000e+00, 2.104e+03, 3.000e+00],\n",
       "       [1.000e+00, 1.600e+03, 3.000e+00],\n",
       "       [1.000e+00, 2.400e+03, 3.000e+00],\n",
       "       [1.000e+00, 1.416e+03, 2.000e+00],\n",
       "       [1.000e+00, 3.000e+03, 4.000e+00],\n",
       "       [1.000e+00, 1.985e+03, 4.000e+00],\n",
       "       [1.000e+00, 1.534e+03, 3.000e+00],\n",
       "       [1.000e+00, 1.427e+03, 3.000e+00],\n",
       "       [1.000e+00, 1.380e+03, 3.000e+00],\n",
       "       [1.000e+00, 1.494e+03, 3.000e+00],\n",
       "       [1.000e+00, 1.940e+03, 4.000e+00],\n",
       "       [1.000e+00, 2.000e+03, 3.000e+00],\n",
       "       [1.000e+00, 1.890e+03, 3.000e+00],\n",
       "       [1.000e+00, 4.478e+03, 5.000e+00],\n",
       "       [1.000e+00, 1.268e+03, 3.000e+00],\n",
       "       [1.000e+00, 2.300e+03, 4.000e+00],\n",
       "       [1.000e+00, 1.320e+03, 2.000e+00],\n",
       "       [1.000e+00, 1.236e+03, 3.000e+00],\n",
       "       [1.000e+00, 2.609e+03, 4.000e+00],\n",
       "       [1.000e+00, 3.031e+03, 4.000e+00],\n",
       "       [1.000e+00, 1.767e+03, 3.000e+00],\n",
       "       [1.000e+00, 1.888e+03, 2.000e+00],\n",
       "       [1.000e+00, 1.604e+03, 3.000e+00],\n",
       "       [1.000e+00, 1.962e+03, 4.000e+00],\n",
       "       [1.000e+00, 3.890e+03, 3.000e+00],\n",
       "       [1.000e+00, 1.100e+03, 3.000e+00],\n",
       "       [1.000e+00, 1.458e+03, 3.000e+00],\n",
       "       [1.000e+00, 2.526e+03, 3.000e+00],\n",
       "       [1.000e+00, 2.200e+03, 3.000e+00],\n",
       "       [1.000e+00, 2.637e+03, 3.000e+00],\n",
       "       [1.000e+00, 1.839e+03, 2.000e+00],\n",
       "       [1.000e+00, 1.000e+03, 1.000e+00],\n",
       "       [1.000e+00, 2.040e+03, 4.000e+00],\n",
       "       [1.000e+00, 3.137e+03, 3.000e+00],\n",
       "       [1.000e+00, 1.811e+03, 4.000e+00],\n",
       "       [1.000e+00, 1.437e+03, 3.000e+00],\n",
       "       [1.000e+00, 1.239e+03, 3.000e+00],\n",
       "       [1.000e+00, 2.132e+03, 4.000e+00],\n",
       "       [1.000e+00, 4.215e+03, 4.000e+00],\n",
       "       [1.000e+00, 2.162e+03, 4.000e+00],\n",
       "       [1.000e+00, 1.664e+03, 2.000e+00],\n",
       "       [1.000e+00, 2.238e+03, 3.000e+00],\n",
       "       [1.000e+00, 2.567e+03, 4.000e+00],\n",
       "       [1.000e+00, 1.200e+03, 3.000e+00],\n",
       "       [1.000e+00, 8.520e+02, 2.000e+00],\n",
       "       [1.000e+00, 1.852e+03, 4.000e+00],\n",
       "       [1.000e+00, 1.203e+03, 3.000e+00]])"
      ]
     },
     "execution_count": 79,
     "metadata": {},
     "output_type": "execute_result"
    }
   ],
   "source": [
    "X"
   ]
  },
  {
   "cell_type": "code",
   "execution_count": 80,
   "metadata": {},
   "outputs": [],
   "source": [
    "scalar=StandardScaler()\n",
    "X3=scalar.fit_transform(X)"
   ]
  },
  {
   "cell_type": "code",
   "execution_count": 81,
   "metadata": {},
   "outputs": [],
   "source": [
    "def prediction(x):\n",
    "    return np.dot(x,w)"
   ]
  },
  {
   "cell_type": "code",
   "execution_count": 82,
   "metadata": {},
   "outputs": [],
   "source": [
    "def loss(m,y,y_predicted):\n",
    "    return(1/(2*m))*np.sum(np.square(y_pred-y))"
   ]
  },
  {
   "cell_type": "code",
   "execution_count": 83,
   "metadata": {},
   "outputs": [],
   "source": [
    "def gradient(m,x,y,y_predicted):\n",
    "    return(1/m)*np.dot(x.T,y_pred-y)"
   ]
  },
  {
   "cell_type": "code",
   "execution_count": 84,
   "metadata": {},
   "outputs": [],
   "source": [
    "#now i have to initalize a learning rate and to specify the number of iteration \n"
   ]
  },
  {
   "cell_type": "code",
   "execution_count": 85,
   "metadata": {},
   "outputs": [],
   "source": [
    "w=np.zeros((X3.shape[1]))\n",
    "m=Y.size\n",
    "los=[]\n",
    "lr=0.01\n",
    "iterations=300\n",
    "for epoch in range(iterations):\n",
    "    y_pred=prediction(X3)\n",
    "    l=loss(m,Y,y_pred)\n",
    "    los.append(l)\n",
    "    d=gradient(m,X3,Y,y_pred)\n",
    "    w=w-np.dot(lr,d)\n",
    "   \n"
   ]
  },
  {
   "cell_type": "code",
   "execution_count": 86,
   "metadata": {},
   "outputs": [
    {
     "data": {
      "image/png": "[encoded data removed]",
      "text/plain": [
       "<Figure size 432x288 with 1 Axes>"
      ]
     },
     "metadata": {
      "needs_background": "light"
     },
     "output_type": "display_data"
    }
   ],
   "source": [
    "plt.plot(los,'b')\n",
    "plt.show()"
   ]
  },
  {
   "cell_type": "code",
   "execution_count": null,
   "metadata": {},
   "outputs": [],
   "source": []
  },
  {
   "cell_type": "code",
   "execution_count": null,
   "metadata": {},
   "outputs": [],
   "source": []
  }
 ],
 "metadata": {
  "kernelspec": {
   "display_name": "Python 3",
   "language": "python",
   "name": "python3"
  },
  "language_info": {
   "codemirror_mode": {
    "name": "ipython",
    "version": 3
   },
   "file_extension": ".py",
   "mimetype": "text/x-python",
   "name": "python",
   "nbconvert_exporter": "python",
   "pygments_lexer": "ipython3",
   "version": "3.7.6"
  }
 },
 "nbformat": 4,
 "nbformat_minor": 5
}
