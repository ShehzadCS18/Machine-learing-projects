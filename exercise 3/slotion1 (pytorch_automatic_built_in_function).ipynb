{
 "cells": [
  {
   "cell_type": "code",
   "execution_count": 1,
   "id": "89d09997",
   "metadata": {},
   "outputs": [],
   "source": [
    "import torch\n",
    "import torch.nn as nn\n",
    "import numpy as np\n",
    "import matplotlib.pyplot as plt\n",
    "from sklearn.model_selection import train_test_split\n",
    "from sklearn.preprocessing import StandardScaler\n",
    "import pandas as pd"
   ]
  },
  {
   "cell_type": "code",
   "execution_count": 2,
   "id": "1da530a7",
   "metadata": {},
   "outputs": [],
   "source": [
    "x=np.loadtxt('ex3x.dat')\n",
    "y=np.loadtxt('ex3y.dat')"
   ]
  },
  {
   "cell_type": "code",
   "execution_count": 4,
   "id": "fd57adc1",
   "metadata": {},
   "outputs": [],
   "source": [
    "ones=np.ones([x.shape[0],1])"
   ]
  },
  {
   "cell_type": "code",
   "execution_count": 5,
   "id": "4e307094",
   "metadata": {},
   "outputs": [],
   "source": [
    "x=np.concatenate((ones,x),axis=1)"
   ]
  },
  {
   "cell_type": "code",
   "execution_count": 6,
   "id": "1fa1478e",
   "metadata": {},
   "outputs": [],
   "source": [
    "scalar=StandardScaler()"
   ]
  },
  {
   "cell_type": "code",
   "execution_count": 7,
   "id": "0ec664ff",
   "metadata": {},
   "outputs": [],
   "source": [
    "x3=scalar.fit_transform(x)"
   ]
  },
  {
   "cell_type": "code",
   "execution_count": null,
   "id": "78f5dbf4",
   "metadata": {},
   "outputs": [],
   "source": []
  },
  {
   "cell_type": "code",
   "execution_count": 10,
   "id": "fab1be35",
   "metadata": {},
   "outputs": [
    {
     "name": "stdout",
     "output_type": "stream",
     "text": [
      "(47, 3)\n"
     ]
    }
   ],
   "source": [
    "print(x3.shape)\n"
   ]
  },
  {
   "cell_type": "code",
   "execution_count": 11,
   "id": "e64916c5",
   "metadata": {},
   "outputs": [
    {
     "name": "stdout",
     "output_type": "stream",
     "text": [
      "(47,)\n"
     ]
    }
   ],
   "source": [
    "print(y.shape)"
   ]
  },
  {
   "cell_type": "code",
   "execution_count": 12,
   "id": "0435fdc6",
   "metadata": {},
   "outputs": [
    {
     "data": {
      "text/plain": [
       "array([399900., 329900., 369000., 232000., 539900., 299900., 314900.,\n",
       "       198999., 212000., 242500., 239999., 347000., 329999., 699900.,\n",
       "       259900., 449900., 299900., 199900., 499998., 599000., 252900.,\n",
       "       255000., 242900., 259900., 573900., 249900., 464500., 469000.,\n",
       "       475000., 299900., 349900., 169900., 314900., 579900., 285900.,\n",
       "       249900., 229900., 345000., 549000., 287000., 368500., 329900.,\n",
       "       314000., 299000., 179900., 299900., 239500.])"
      ]
     },
     "execution_count": 12,
     "metadata": {},
     "output_type": "execute_result"
    }
   ],
   "source": [
    "y"
   ]
  },
  {
   "cell_type": "code",
   "execution_count": 13,
   "id": "b370d4c7",
   "metadata": {
    "collapsed": true
   },
   "outputs": [
    {
     "data": {
      "text/plain": [
       "tensor([[[399900.]],\n",
       "\n",
       "        [[329900.]],\n",
       "\n",
       "        [[369000.]],\n",
       "\n",
       "        [[232000.]],\n",
       "\n",
       "        [[539900.]],\n",
       "\n",
       "        [[299900.]],\n",
       "\n",
       "        [[314900.]],\n",
       "\n",
       "        [[198999.]],\n",
       "\n",
       "        [[212000.]],\n",
       "\n",
       "        [[242500.]],\n",
       "\n",
       "        [[239999.]],\n",
       "\n",
       "        [[347000.]],\n",
       "\n",
       "        [[329999.]],\n",
       "\n",
       "        [[699900.]],\n",
       "\n",
       "        [[259900.]],\n",
       "\n",
       "        [[449900.]],\n",
       "\n",
       "        [[299900.]],\n",
       "\n",
       "        [[199900.]],\n",
       "\n",
       "        [[499998.]],\n",
       "\n",
       "        [[599000.]],\n",
       "\n",
       "        [[252900.]],\n",
       "\n",
       "        [[255000.]],\n",
       "\n",
       "        [[242900.]],\n",
       "\n",
       "        [[259900.]],\n",
       "\n",
       "        [[573900.]],\n",
       "\n",
       "        [[249900.]],\n",
       "\n",
       "        [[464500.]],\n",
       "\n",
       "        [[469000.]],\n",
       "\n",
       "        [[475000.]],\n",
       "\n",
       "        [[299900.]],\n",
       "\n",
       "        [[349900.]],\n",
       "\n",
       "        [[169900.]],\n",
       "\n",
       "        [[314900.]],\n",
       "\n",
       "        [[579900.]],\n",
       "\n",
       "        [[285900.]],\n",
       "\n",
       "        [[249900.]],\n",
       "\n",
       "        [[229900.]],\n",
       "\n",
       "        [[345000.]],\n",
       "\n",
       "        [[549000.]],\n",
       "\n",
       "        [[287000.]],\n",
       "\n",
       "        [[368500.]],\n",
       "\n",
       "        [[329900.]],\n",
       "\n",
       "        [[314000.]],\n",
       "\n",
       "        [[299000.]],\n",
       "\n",
       "        [[179900.]],\n",
       "\n",
       "        [[299900.]],\n",
       "\n",
       "        [[239500.]]])"
      ]
     },
     "execution_count": 13,
     "metadata": {},
     "output_type": "execute_result"
    }
   ],
   "source": [
    "X_train=torch.from_numpy(x3.astype(np.float32))\n",
    "\n",
    "\n",
    "Y_train=torch.from_numpy(y.astype(np.float32))\n",
    "\n",
    "Y_train=Y_train.view(Y_train.shape[0],1)\n",
    "\n",
    "X_train.unsqueeze_(1)\n",
    "Y_train.unsqueeze_(1)"
   ]
  },
  {
   "cell_type": "code",
   "execution_count": 14,
   "id": "dec7e6c4",
   "metadata": {},
   "outputs": [
    {
     "name": "stdout",
     "output_type": "stream",
     "text": [
      "3\n"
     ]
    }
   ],
   "source": [
    "#input_size=X_train.shape\n",
    "output_size=1\n",
    "input_size=3\n",
    "print(input_size)"
   ]
  },
  {
   "cell_type": "code",
   "execution_count": 15,
   "id": "4f7b3543",
   "metadata": {},
   "outputs": [],
   "source": [
    "#model creation\n",
    "model=nn.Linear(input_size,output_size)"
   ]
  },
  {
   "cell_type": "code",
   "execution_count": 16,
   "id": "dcc00bd9",
   "metadata": {},
   "outputs": [],
   "source": [
    "#loss function\n",
    "loss=nn.MSELoss()"
   ]
  },
  {
   "cell_type": "code",
   "execution_count": 17,
   "id": "b54b9f6b",
   "metadata": {},
   "outputs": [],
   "source": [
    "optimizer=torch.optim.SGD(model.parameters(),lr=0.01)"
   ]
  },
  {
   "cell_type": "code",
   "execution_count": 18,
   "id": "4f071889",
   "metadata": {},
   "outputs": [],
   "source": [
    "#now traing loop\n",
    "los=[]\n",
    "iterations=300\n",
    "for epoch in range(iterations):\n",
    "    y_pred=model(X_train)\n",
    "    l=loss(Y_train,y_pred)\n",
    "    los.append(l)\n",
    "    l.backward()\n",
    "    optimizer.step()\n",
    "    optimizer.zero_grad()\n",
    "    \n",
    "       "
   ]
  },
  {
   "cell_type": "code",
   "execution_count": 19,
   "id": "78c125f5",
   "metadata": {},
   "outputs": [
    {
     "data": {
      "image/png": "[encoded data removed]",
      "text/plain": [
       "<Figure size 432x288 with 1 Axes>"
      ]
     },
     "metadata": {
      "needs_background": "light"
     },
     "output_type": "display_data"
    }
   ],
   "source": [
    "with torch.no_grad():\n",
    "    plt.plot(los,'r.')\n",
    "    plt.plot(los,'g')\n",
    "    plt.show()"
   ]
  },
  {
   "cell_type": "code",
   "execution_count": 20,
   "id": "534cb953",
   "metadata": {},
   "outputs": [],
   "source": [
    "#Normal equation\n",
    "# w=(x.t*x)-1(x.t*y)\n",
    "x_trans=x.T\n"
   ]
  },
  {
   "cell_type": "code",
   "execution_count": 21,
   "id": "74a9c8ab",
   "metadata": {},
   "outputs": [],
   "source": [
    "A=np.dot(x_trans,x)\n",
    "B=np.dot(x_trans,y)\n",
    "inverse=np.linalg.inv(A)\n",
    "wieghts=np.dot(inverse,B)\n"
   ]
  },
  {
   "cell_type": "code",
   "execution_count": 22,
   "id": "5354a170",
   "metadata": {},
   "outputs": [],
   "source": [
    "p=np.array([[1,1650,3]])"
   ]
  },
  {
   "cell_type": "code",
   "execution_count": 23,
   "id": "0150b571",
   "metadata": {},
   "outputs": [
    {
     "data": {
      "text/plain": [
       "array([[   1, 1650,    3]])"
      ]
     },
     "execution_count": 23,
     "metadata": {},
     "output_type": "execute_result"
    }
   ],
   "source": [
    "p"
   ]
  },
  {
   "cell_type": "code",
   "execution_count": 24,
   "id": "00dd8fd9",
   "metadata": {},
   "outputs": [],
   "source": [
    "pred=np.dot(p,wieghts)"
   ]
  },
  {
   "cell_type": "code",
   "execution_count": 25,
   "id": "0a1deb2b",
   "metadata": {},
   "outputs": [
    {
     "name": "stdout",
     "output_type": "stream",
     "text": [
      "[293081.4643349]\n"
     ]
    }
   ],
   "source": [
    "print(pred)"
   ]
  },
  {
   "cell_type": "code",
   "execution_count": 26,
   "id": "067150dd",
   "metadata": {},
   "outputs": [],
   "source": [
    "p=scalar.fit_transform(p)\n",
    "p2=torch.tensor(p,dtype=torch.float32)\n",
    "pred2=model(p2)"
   ]
  },
  {
   "cell_type": "code",
   "execution_count": 27,
   "id": "061b1834",
   "metadata": {},
   "outputs": [
    {
     "data": {
      "text/plain": [
       "tensor([[339618.6562]], grad_fn=<AddmmBackward0>)"
      ]
     },
     "execution_count": 27,
     "metadata": {},
     "output_type": "execute_result"
    }
   ],
   "source": [
    "pred2"
   ]
  },
  {
   "cell_type": "code",
   "execution_count": null,
   "id": "203cc44b",
   "metadata": {},
   "outputs": [],
   "source": []
  }
 ],
 "metadata": {
  "kernelspec": {
   "display_name": "Python 3 (ipykernel)",
   "language": "python",
   "name": "python3"
  },
  "language_info": {
   "codemirror_mode": {
    "name": "ipython",
    "version": 3
   },
   "file_extension": ".py",
   "mimetype": "text/x-python",
   "name": "python",
   "nbconvert_exporter": "python",
   "pygments_lexer": "ipython3",
   "version": "3.10.0"
  }
 },
 "nbformat": 4,
 "nbformat_minor": 5
}
