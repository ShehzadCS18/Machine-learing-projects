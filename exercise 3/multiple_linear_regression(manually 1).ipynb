{
 "cells": [
  {
   "cell_type": "code",
   "execution_count": 1,
   "id": "68b3e9ec",
   "metadata": {},
   "outputs": [],
   "source": [
    "import numpy as np\n",
    "import pandas as pd\n",
    "import matplotlib.pyplot as plt"
   ]
  },
  {
   "cell_type": "code",
   "execution_count": 2,
   "id": "751b2f81",
   "metadata": {},
   "outputs": [],
   "source": [
    "X=np.array([[1,3],\n",
    "            [2,5],\n",
    "            [3,6],\n",
    "            [4,8],\n",
    "            [5,9]],dtype=np.float32)\n",
    "Y=np.array([2,3,4,5,6],dtype=np.float32)"
   ]
  },
  {
   "cell_type": "code",
   "execution_count": 4,
   "id": "da9c63d9",
   "metadata": {},
   "outputs": [
    {
     "data": {
      "text/plain": [
       "(5, 2)"
      ]
     },
     "execution_count": 4,
     "metadata": {},
     "output_type": "execute_result"
    }
   ],
   "source": [
    "X.shape"
   ]
  },
  {
   "cell_type": "code",
   "execution_count": 5,
   "id": "cb98a0da",
   "metadata": {},
   "outputs": [],
   "source": [
    "def prediction(x):\n",
    "    return np.dot(x,w)"
   ]
  },
  {
   "cell_type": "code",
   "execution_count": 6,
   "id": "bfaa6b73",
   "metadata": {},
   "outputs": [],
   "source": [
    "def loss(m,y,y_predicted):\n",
    "    return((1/(2*m))*np.sum(np.square(y_predicted-y)))"
   ]
  },
  {
   "cell_type": "code",
   "execution_count": 7,
   "id": "e6fdabd3",
   "metadata": {},
   "outputs": [],
   "source": [
    "def gradient(m,x,y,y_predicted):\n",
    "    return((1/m)*np.dot(x.T,y_pred-y))"
   ]
  },
  {
   "cell_type": "code",
   "execution_count": 8,
   "id": "e77cc344",
   "metadata": {},
   "outputs": [
    {
     "name": "stdout",
     "output_type": "stream",
     "text": [
      "epoch1:loss=45.000\n",
      "epoch2:loss=13.803\n",
      "epoch3:loss=7.159\n",
      "epoch4:loss=5.738\n",
      "epoch5:loss=5.427\n",
      "epoch6:loss=5.352\n",
      "epoch7:loss=5.328\n",
      "epoch8:loss=5.314\n",
      "epoch9:loss=5.303\n",
      "epoch10:loss=5.292\n"
     ]
    }
   ],
   "source": [
    "#now trainig loop\n",
    "w=np.zeros((X.shape[1],1))\n",
    "m=Y.size\n",
    "los=[]\n",
    "lr=0.01\n",
    "iterations=10\n",
    "for epoch in range(iterations):\n",
    "    y_pred=prediction(X)\n",
    "    l=loss(m,Y,y_pred)\n",
    "    los.append(l)\n",
    "    d=gradient(m,X,Y,y_pred)\n",
    "    w=w-lr*d\n",
    "    if epoch % 1==0:\n",
    "        print(f'epoch{epoch+1}:loss={l:.3f}')"
   ]
  },
  {
   "cell_type": "code",
   "execution_count": 50,
   "id": "d48c8526",
   "metadata": {},
   "outputs": [
    {
     "data": {
      "image/png": "[encoded data removed]",
      "text/plain": [
       "<Figure size 432x288 with 1 Axes>"
      ]
     },
     "metadata": {
      "needs_background": "light"
     },
     "output_type": "display_data"
    }
   ],
   "source": [
    "plt.plot(los,'r')\n",
    "plt.title(\"Decrease in loss\")\n",
    "plt.xlabel(\"No of iterations\")\n",
    "plt.ylabel(\"Loss\")\n",
    "plt.show()"
   ]
  },
  {
   "cell_type": "code",
   "execution_count": null,
   "id": "fcd7bfd2",
   "metadata": {},
   "outputs": [],
   "source": []
  },
  {
   "cell_type": "code",
   "execution_count": null,
   "id": "e2cbceb4",
   "metadata": {},
   "outputs": [],
   "source": []
  },
  {
   "cell_type": "code",
   "execution_count": null,
   "id": "e478fcf7",
   "metadata": {},
   "outputs": [],
   "source": []
  },
  {
   "cell_type": "code",
   "execution_count": null,
   "id": "6f0affad",
   "metadata": {},
   "outputs": [],
   "source": []
  },
  {
   "cell_type": "code",
   "execution_count": null,
   "id": "7f231977",
   "metadata": {},
   "outputs": [],
   "source": []
  },
  {
   "cell_type": "code",
   "execution_count": null,
   "id": "46742f07",
   "metadata": {},
   "outputs": [],
   "source": []
  },
  {
   "cell_type": "code",
   "execution_count": null,
   "id": "704cc2f0",
   "metadata": {},
   "outputs": [],
   "source": []
  },
  {
   "cell_type": "code",
   "execution_count": null,
   "id": "416bd299",
   "metadata": {},
   "outputs": [],
   "source": []
  },
  {
   "cell_type": "code",
   "execution_count": 20,
   "id": "e96ea6fc",
   "metadata": {},
   "outputs": [],
   "source": [
    "w2=np.zeros((X.shape[1],1))"
   ]
  },
  {
   "cell_type": "code",
   "execution_count": 23,
   "id": "c076e197",
   "metadata": {},
   "outputs": [
    {
     "data": {
      "text/plain": [
       "array([[0.],\n",
       "       [0.]])"
      ]
     },
     "execution_count": 23,
     "metadata": {},
     "output_type": "execute_result"
    }
   ],
   "source": [
    "w2"
   ]
  },
  {
   "cell_type": "code",
   "execution_count": 31,
   "id": "27b95469",
   "metadata": {},
   "outputs": [
    {
     "name": "stdout",
     "output_type": "stream",
     "text": [
      "(5, 5)\n"
     ]
    }
   ],
   "source": [
    "b=y_pred-Y\n",
    "print(b.shape)"
   ]
  },
  {
   "cell_type": "code",
   "execution_count": 38,
   "id": "ba42db9c",
   "metadata": {},
   "outputs": [],
   "source": [
    "n=X\n"
   ]
  },
  {
   "cell_type": "code",
   "execution_count": 35,
   "id": "a9250d46",
   "metadata": {},
   "outputs": [
    {
     "data": {
      "text/plain": [
       "(5, 2)"
      ]
     },
     "execution_count": 35,
     "metadata": {},
     "output_type": "execute_result"
    }
   ],
   "source": [
    "X.shape"
   ]
  },
  {
   "cell_type": "code",
   "execution_count": 43,
   "id": "822fdd25",
   "metadata": {},
   "outputs": [],
   "source": [
    "k=np.dot(n.T,b)"
   ]
  },
  {
   "cell_type": "code",
   "execution_count": 44,
   "id": "c9661dd8",
   "metadata": {},
   "outputs": [
    {
     "data": {
      "text/plain": [
       "array([[ 0.94210179,  1.41315269,  1.88420358,  2.35525448,  2.82630538],\n",
       "       [-0.54735299, -0.82102949, -1.09470598, -1.36838248, -1.64205898]])"
      ]
     },
     "execution_count": 44,
     "metadata": {},
     "output_type": "execute_result"
    }
   ],
   "source": [
    "k"
   ]
  },
  {
   "cell_type": "code",
   "execution_count": null,
   "id": "0145f840",
   "metadata": {},
   "outputs": [],
   "source": []
  }
 ],
 "metadata": {
  "kernelspec": {
   "display_name": "Python 3 (ipykernel)",
   "language": "python",
   "name": "python3"
  },
  "language_info": {
   "codemirror_mode": {
    "name": "ipython",
    "version": 3
   },
   "file_extension": ".py",
   "mimetype": "text/x-python",
   "name": "python",
   "nbconvert_exporter": "python",
   "pygments_lexer": "ipython3",
   "version": "3.10.0"
  }
 },
 "nbformat": 4,
 "nbformat_minor": 5
}
