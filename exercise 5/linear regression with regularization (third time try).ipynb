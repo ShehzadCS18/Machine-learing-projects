{
 "cells": [
  {
   "cell_type": "code",
   "execution_count": 121,
   "id": "da5116e1",
   "metadata": {},
   "outputs": [],
   "source": [
    "import numpy as np\n",
    "import matplotlib.pyplot as plt"
   ]
  },
  {
   "cell_type": "code",
   "execution_count": 122,
   "id": "ce4705fe",
   "metadata": {},
   "outputs": [],
   "source": [
    "X=np.loadtxt('ex5Linx.dat')\n",
    "Y=np.loadtxt('ex5Liny.dat')"
   ]
  },
  {
   "cell_type": "code",
   "execution_count": 123,
   "id": "097c7566",
   "metadata": {},
   "outputs": [],
   "source": [
    "XX=np.loadtxt('ex5Linx.dat')\n",
    "YY=np.loadtxt('ex5Liny.dat')"
   ]
  },
  {
   "cell_type": "code",
   "execution_count": 124,
   "id": "f09dd1d2",
   "metadata": {},
   "outputs": [
    {
     "data": {
      "image/png": "[encoded data removed]",
      "text/plain": [
       "<Figure size 432x288 with 1 Axes>"
      ]
     },
     "metadata": {
      "needs_background": "light"
     },
     "output_type": "display_data"
    }
   ],
   "source": [
    "plt.plot(XX,YY,'r.')\n",
    "plt.show()"
   ]
  },
  {
   "cell_type": "code",
   "execution_count": 125,
   "id": "6a7ed55e",
   "metadata": {},
   "outputs": [
    {
     "data": {
      "text/plain": [
       "array([-0.99768, -0.69574, -0.40373, -0.10236,  0.22024,  0.47742,\n",
       "        0.82229])"
      ]
     },
     "execution_count": 125,
     "metadata": {},
     "output_type": "execute_result"
    }
   ],
   "source": [
    "X"
   ]
  },
  {
   "cell_type": "code",
   "execution_count": 126,
   "id": "a9caee2f",
   "metadata": {},
   "outputs": [],
   "source": [
    "#now I have to find out the x2, x3, x4. x5\n",
    "X=X.reshape(X.shape[0],1)"
   ]
  },
  {
   "cell_type": "code",
   "execution_count": 127,
   "id": "22d97e39",
   "metadata": {},
   "outputs": [
    {
     "data": {
      "text/plain": [
       "(7, 1)"
      ]
     },
     "execution_count": 127,
     "metadata": {},
     "output_type": "execute_result"
    }
   ],
   "source": [
    "X.shape"
   ]
  },
  {
   "cell_type": "code",
   "execution_count": 128,
   "id": "11e819c3",
   "metadata": {},
   "outputs": [],
   "source": [
    "X2=X**2\n",
    "X3=X**3\n",
    "X4=X**4\n",
    "X5=X**5"
   ]
  },
  {
   "cell_type": "code",
   "execution_count": 129,
   "id": "8bc3b421",
   "metadata": {},
   "outputs": [],
   "source": [
    "#now to concetenate all these  varianbles\n",
    "X=np.concatenate((X,X2,X3,X4,X5),axis=1)"
   ]
  },
  {
   "cell_type": "code",
   "execution_count": 130,
   "id": "ad660deb",
   "metadata": {},
   "outputs": [
    {
     "data": {
      "text/plain": [
       "(7, 5)"
      ]
     },
     "execution_count": 130,
     "metadata": {},
     "output_type": "execute_result"
    }
   ],
   "source": [
    "X.shape"
   ]
  },
  {
   "cell_type": "code",
   "execution_count": 131,
   "id": "e5880e7d",
   "metadata": {},
   "outputs": [],
   "source": [
    "theta=np.zeros(X.shape[1])"
   ]
  },
  {
   "cell_type": "code",
   "execution_count": 132,
   "id": "7c9185a1",
   "metadata": {},
   "outputs": [],
   "source": [
    "theta_zero=0"
   ]
  },
  {
   "cell_type": "code",
   "execution_count": 133,
   "id": "bd171c11",
   "metadata": {},
   "outputs": [],
   "source": [
    "# now to create all the functions \n",
    "#1 hypothesis \n",
    "#2 loss\n",
    "#3 gradient function\n"
   ]
  },
  {
   "cell_type": "code",
   "execution_count": 134,
   "id": "d87e196a",
   "metadata": {},
   "outputs": [],
   "source": [
    "def hypothesis(X,theta,theta_zero):\n",
    "    result=X.dot(theta.T)+theta_zero\n",
    "    return result"
   ]
  },
  {
   "cell_type": "code",
   "execution_count": 135,
   "id": "7ceb7314",
   "metadata": {},
   "outputs": [],
   "source": [
    "def loss(m,Y,hypo,reg,theta):\n",
    "    return ((1/2*m)*np.sum((hypo-Y)**2+ np.sum((reg*(theta)))))"
   ]
  },
  {
   "cell_type": "code",
   "execution_count": 136,
   "id": "d0d63f8a",
   "metadata": {},
   "outputs": [],
   "source": [
    "def gradient_baise(m,Y,hypo):\n",
    "    return ((1/m)*(hypo-Y))"
   ]
  },
  {
   "cell_type": "code",
   "execution_count": 137,
   "id": "607488a6",
   "metadata": {},
   "outputs": [],
   "source": [
    "def gradient_theta(m,X,Y,hypo):\n",
    "    return (1/m)*np.dot(X.T,(hypo-Y))"
   ]
  },
  {
   "cell_type": "code",
   "execution_count": 77,
   "id": "fb028d2e",
   "metadata": {},
   "outputs": [],
   "source": [
    "m=X.shape[0]\n",
    "los=[]\n",
    "reg=0\n",
    "lr=0.1\n",
    "for i in range(100):\n",
    "    H=hypothesis(X,theta,theta_zero)\n",
    "    l=loss(m,Y,H,reg,theta)\n",
    "    los.append(l)\n",
    "    d_baise=gradient_baise(m,Y,H)\n",
    "    d_theta=gradient_theta(m,X,Y,H)\n",
    "    theta_zero=theta_zero-lr*d_baise\n",
    "    theta=theta*(1-(lr*(reg/m)))-lr*d_theta"
   ]
  },
  {
   "cell_type": "code",
   "execution_count": 78,
   "id": "1d26e020",
   "metadata": {},
   "outputs": [
    {
     "data": {
      "image/png": "[encoded data removed]",
      "text/plain": [
       "<Figure size 432x288 with 1 Axes>"
      ]
     },
     "metadata": {
      "needs_background": "light"
     },
     "output_type": "display_data"
    }
   ],
   "source": [
    "plt.plot(XX,YY,'r.')\n",
    "plt.plot(XX,H)\n",
    "plt.show()"
   ]
  },
  {
   "cell_type": "code",
   "execution_count": 98,
   "id": "2ce8f2d4",
   "metadata": {},
   "outputs": [],
   "source": [
    "m=X.shape[0]\n",
    "los=[]\n",
    "reg=1\n",
    "lr=0.1\n",
    "for i in range(100):\n",
    "    H=hypothesis(X,theta,theta_zero)\n",
    "    l=loss(m,Y,H,reg,theta)\n",
    "    los.append(l)\n",
    "    d_baise=gradient_baise(m,Y,H)\n",
    "    d_theta=gradient_theta(m,X,Y,H)\n",
    "    theta_zero=theta_zero-lr*d_baise\n",
    "    theta=theta*(1-(lr*(reg/m)))-lr*d_theta"
   ]
  },
  {
   "cell_type": "code",
   "execution_count": 99,
   "id": "8dbb8680",
   "metadata": {},
   "outputs": [
    {
     "data": {
      "image/png": "[encoded data removed]",
      "text/plain": [
       "<Figure size 432x288 with 1 Axes>"
      ]
     },
     "metadata": {
      "needs_background": "light"
     },
     "output_type": "display_data"
    }
   ],
   "source": [
    "plt.plot(XX,YY,'r.')\n",
    "plt.plot(XX,H)\n",
    "plt.show()"
   ]
  },
  {
   "cell_type": "code",
   "execution_count": 117,
   "id": "3b73d6c1",
   "metadata": {},
   "outputs": [],
   "source": [
    "m=X.shape[0]\n",
    "los=[]\n",
    "reg=10\n",
    "lr=0.1\n",
    "for i in range(100):\n",
    "    H=hypothesis(X,theta,theta_zero)\n",
    "    l=loss(m,Y,H,reg,theta)\n",
    "    los.append(l)\n",
    "    d_baise=gradient_baise(m,Y,H)\n",
    "    d_theta=gradient_theta(m,X,Y,H)\n",
    "    theta_zero=theta_zero-lr*d_baise\n",
    "    theta=theta*(1-(lr*(reg/m)))-lr*d_theta"
   ]
  },
  {
   "cell_type": "code",
   "execution_count": 118,
   "id": "bdc58232",
   "metadata": {},
   "outputs": [
    {
     "data": {
      "image/png": "[encoded data removed]",
      "text/plain": [
       "<Figure size 432x288 with 1 Axes>"
      ]
     },
     "metadata": {
      "needs_background": "light"
     },
     "output_type": "display_data"
    }
   ],
   "source": [
    "plt.plot(XX,YY,'r.')\n",
    "plt.plot(XX,H)\n",
    "plt.show()"
   ]
  },
  {
   "cell_type": "code",
   "execution_count": 138,
   "id": "3ffdbfab",
   "metadata": {},
   "outputs": [],
   "source": []
  },
  {
   "cell_type": "code",
   "execution_count": null,
   "id": "89db233f",
   "metadata": {},
   "outputs": [],
   "source": []
  },
  {
   "cell_type": "code",
   "execution_count": null,
   "id": "980f4c97",
   "metadata": {},
   "outputs": [],
   "source": []
  }
 ],
 "metadata": {
  "kernelspec": {
   "display_name": "Python 3 (ipykernel)",
   "language": "python",
   "name": "python3"
  },
  "language_info": {
   "codemirror_mode": {
    "name": "ipython",
    "version": 3
   },
   "file_extension": ".py",
   "mimetype": "text/x-python",
   "name": "python",
   "nbconvert_exporter": "python",
   "pygments_lexer": "ipython3",
   "version": "3.10.0"
  }
 },
 "nbformat": 4,
 "nbformat_minor": 5
}
