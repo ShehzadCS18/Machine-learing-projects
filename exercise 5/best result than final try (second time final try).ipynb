{
 "cells": [
  {
   "cell_type": "code",
   "execution_count": 43,
   "id": "4ce119b8",
   "metadata": {},
   "outputs": [],
   "source": [
    "import numpy as np\n",
    "import matplotlib.pyplot as plt"
   ]
  },
  {
   "cell_type": "code",
   "execution_count": 44,
   "id": "a5137ad7",
   "metadata": {},
   "outputs": [],
   "source": [
    "X=np.loadtxt('ex5Linx.dat')\n",
    "Y=np.loadtxt('ex5Liny.dat')"
   ]
  },
  {
   "cell_type": "code",
   "execution_count": 45,
   "id": "a185c612",
   "metadata": {},
   "outputs": [],
   "source": [
    "XX=np.loadtxt('ex5Linx.dat')\n",
    "YY=np.loadtxt('ex5Liny.dat')"
   ]
  },
  {
   "cell_type": "code",
   "execution_count": 46,
   "id": "5f2529ac",
   "metadata": {},
   "outputs": [
    {
     "data": {
      "image/png": "[encoded data removed]",
      "text/plain": [
       "<Figure size 432x288 with 1 Axes>"
      ]
     },
     "metadata": {
      "needs_background": "light"
     },
     "output_type": "display_data"
    }
   ],
   "source": [
    "plt.plot(XX,YY,'r.')\n",
    "plt.show()"
   ]
  },
  {
   "cell_type": "code",
   "execution_count": 47,
   "id": "c1a55003",
   "metadata": {},
   "outputs": [],
   "source": [
    "X=X.reshape(X.shape[0],1)"
   ]
  },
  {
   "cell_type": "code",
   "execution_count": 48,
   "id": "eb23b644",
   "metadata": {},
   "outputs": [],
   "source": [
    "X2=X**2"
   ]
  },
  {
   "cell_type": "code",
   "execution_count": 49,
   "id": "3f40bfa5",
   "metadata": {},
   "outputs": [],
   "source": [
    "X3=X**3"
   ]
  },
  {
   "cell_type": "code",
   "execution_count": 50,
   "id": "4c704451",
   "metadata": {},
   "outputs": [],
   "source": [
    "X4=X**4"
   ]
  },
  {
   "cell_type": "code",
   "execution_count": 51,
   "id": "eb792881",
   "metadata": {},
   "outputs": [],
   "source": [
    "X5=X**5"
   ]
  },
  {
   "cell_type": "code",
   "execution_count": 52,
   "id": "f000cd8b",
   "metadata": {},
   "outputs": [],
   "source": [
    "X=np.concatenate((X,X2,X3,X4,X5),axis=1)"
   ]
  },
  {
   "cell_type": "code",
   "execution_count": 53,
   "id": "50694e21",
   "metadata": {},
   "outputs": [],
   "source": [
    "theta_1=np.zeros(X.shape[1])\n",
    "baise_1=0\n"
   ]
  },
  {
   "cell_type": "code",
   "execution_count": 54,
   "id": "9ebb54c8",
   "metadata": {},
   "outputs": [
    {
     "data": {
      "text/plain": [
       "array([0., 0., 0., 0., 0.])"
      ]
     },
     "execution_count": 54,
     "metadata": {},
     "output_type": "execute_result"
    }
   ],
   "source": [
    "theta_1"
   ]
  },
  {
   "cell_type": "code",
   "execution_count": 55,
   "id": "58462390",
   "metadata": {},
   "outputs": [],
   "source": [
    "def hypothesis(X,theta,baise):\n",
    "    return ((X.dot(theta.T)+baise))"
   ]
  },
  {
   "cell_type": "code",
   "execution_count": 56,
   "id": "fef65cd1",
   "metadata": {},
   "outputs": [
    {
     "data": {
      "text/plain": [
       "array([0., 0., 0., 0., 0., 0., 0.])"
      ]
     },
     "execution_count": 56,
     "metadata": {},
     "output_type": "execute_result"
    }
   ],
   "source": [
    "h=hypothesis(X,theta_1,baise_1)\n",
    "h"
   ]
  },
  {
   "cell_type": "code",
   "execution_count": 57,
   "id": "9dc9b328",
   "metadata": {},
   "outputs": [],
   "source": [
    "def loss(m,Y,hypo,reg,theta):\n",
    "    return ((1/2*m)*np.sum((hypo-Y)**2+ np.sum((reg*(theta)))))"
   ]
  },
  {
   "cell_type": "code",
   "execution_count": 58,
   "id": "a24beb75",
   "metadata": {},
   "outputs": [],
   "source": [
    "def gradient_baise(m,Y,hypo):\n",
    "    return ((1/m)*np.sum((hypo-Y)))"
   ]
  },
  {
   "cell_type": "code",
   "execution_count": 59,
   "id": "06c0e6f5",
   "metadata": {},
   "outputs": [],
   "source": [
    "def gradient_theta(m,X,Y,hypo):\n",
    "    return (1/m)*np.dot(X.T,(hypo-Y))"
   ]
  },
  {
   "cell_type": "code",
   "execution_count": 75,
   "id": "b5c56463",
   "metadata": {},
   "outputs": [],
   "source": [
    "m=X.shape[0]\n",
    "los=[]\n",
    "reg=0\n",
    "lr=0.1\n",
    "for i in range(1000):\n",
    "    H=hypothesis(X,theta_1,baise_1)\n",
    "    l=loss(m,Y,H,reg,theta_1)\n",
    "    los.append(l)\n",
    "    d_baise=gradient_baise(m,Y,H)\n",
    "    d_theta=gradient_theta(m,X,Y,H)\n",
    "    baise_1=baise_1-lr*d_baise\n",
    "    theta_1=theta_1*(1-(lr*(reg/m)))-np.dot(lr,d_theta)"
   ]
  },
  {
   "cell_type": "code",
   "execution_count": 76,
   "id": "150639fb",
   "metadata": {},
   "outputs": [
    {
     "data": {
      "image/png": "[encoded data removed]",
      "text/plain": [
       "<Figure size 432x288 with 1 Axes>"
      ]
     },
     "metadata": {
      "needs_background": "light"
     },
     "output_type": "display_data"
    }
   ],
   "source": [
    "plt.plot(XX,YY,'r.')\n",
    "plt.plot(XX,H)\n",
    "plt.show()"
   ]
  },
  {
   "cell_type": "code",
   "execution_count": 77,
   "id": "f3119e7c",
   "metadata": {},
   "outputs": [],
   "source": [
    "m=X.shape[1]\n",
    "los=[]\n",
    "reg=1\n",
    "lr=0.01\n",
    "for i in range(1000):\n",
    "    H=hypothesis(X,theta_1,baise_1)\n",
    "    l=loss(m,Y,H,reg,theta_1)\n",
    "    los.append(l)\n",
    "    d_baise=gradient_baise(m,Y,H)\n",
    "    d_theta=gradient_theta(m,X,Y,H)\n",
    "    baise_1=baise_1-lr*d_baise\n",
    "    theta_1=theta_1*(1-(lr*(reg/m)))-np.dot(lr,d_theta)"
   ]
  },
  {
   "cell_type": "code",
   "execution_count": 78,
   "id": "8d2d45e8",
   "metadata": {},
   "outputs": [
    {
     "data": {
      "image/png": "[encoded data removed]",
      "text/plain": [
       "<Figure size 432x288 with 1 Axes>"
      ]
     },
     "metadata": {
      "needs_background": "light"
     },
     "output_type": "display_data"
    }
   ],
   "source": [
    "plt.plot(XX,YY,'r.')\n",
    "plt.plot(XX,H)\n",
    "plt.show()"
   ]
  },
  {
   "cell_type": "code",
   "execution_count": 79,
   "id": "4b76f010",
   "metadata": {},
   "outputs": [],
   "source": [
    "m=X.shape[0]\n",
    "los=[]\n",
    "reg=10\n",
    "lr=0.01\n",
    "for i in range(1000):\n",
    "    H=hypothesis(X,theta_1,baise_1)\n",
    "    l=loss(m,Y,H,reg,theta_1)\n",
    "    los.append(l)\n",
    "    d_baise=gradient_baise(m,Y,H)\n",
    "    d_theta=gradient_theta(m,X,Y,H)\n",
    "    baise_1=baise_1-lr*d_baise\n",
    "    theta_1=theta_1*(1-(lr*(reg/m)))-np.dot(lr,d_theta)"
   ]
  },
  {
   "cell_type": "code",
   "execution_count": 80,
   "id": "6ef3fe3b",
   "metadata": {},
   "outputs": [
    {
     "data": {
      "image/png": "[encoded data removed]",
      "text/plain": [
       "<Figure size 432x288 with 1 Axes>"
      ]
     },
     "metadata": {
      "needs_background": "light"
     },
     "output_type": "display_data"
    }
   ],
   "source": [
    "plt.plot(XX,YY,'r.')\n",
    "plt.plot(XX,H)\n",
    "plt.show()"
   ]
  },
  {
   "cell_type": "code",
   "execution_count": 85,
   "id": "ad09de3b",
   "metadata": {},
   "outputs": [],
   "source": [
    "m=X.shape[0]\n",
    "los=[]\n",
    "reg=50\n",
    "lr=0.1\n",
    "for i in range(1000):\n",
    "    H=hypothesis(X,theta_1,baise_1)\n",
    "    l=loss(m,Y,H,reg,theta_1)\n",
    "    los.append(l)\n",
    "    d_baise=gradient_baise(m,Y,H)\n",
    "    d_theta=gradient_theta(m,X,Y,H)\n",
    "    baise_1=baise_1-lr*d_baise\n",
    "    theta_1=theta_1*(1-(lr*(reg/m)))-np.dot(lr,d_theta)"
   ]
  },
  {
   "cell_type": "code",
   "execution_count": 86,
   "id": "5da6d9bf",
   "metadata": {},
   "outputs": [
    {
     "data": {
      "image/png": "[encoded data removed]",
      "text/plain": [
       "<Figure size 432x288 with 1 Axes>"
      ]
     },
     "metadata": {
      "needs_background": "light"
     },
     "output_type": "display_data"
    }
   ],
   "source": [
    "plt.plot(XX,YY,'r.')\n",
    "plt.plot(XX,H,'g')\n",
    "plt.show()"
   ]
  },
  {
   "cell_type": "code",
   "execution_count": 41,
   "id": "5ec78768",
   "metadata": {},
   "outputs": [],
   "source": [
    "m=X.shape[0]"
   ]
  },
  {
   "cell_type": "code",
   "execution_count": 42,
   "id": "70469070",
   "metadata": {},
   "outputs": [
    {
     "name": "stdout",
     "output_type": "stream",
     "text": [
      "7\n"
     ]
    }
   ],
   "source": [
    "print(m)"
   ]
  },
  {
   "cell_type": "code",
   "execution_count": null,
   "id": "00b31bea",
   "metadata": {},
   "outputs": [],
   "source": []
  }
 ],
 "metadata": {
  "kernelspec": {
   "display_name": "Python 3 (ipykernel)",
   "language": "python",
   "name": "python3"
  },
  "language_info": {
   "codemirror_mode": {
    "name": "ipython",
    "version": 3
   },
   "file_extension": ".py",
   "mimetype": "text/x-python",
   "name": "python",
   "nbconvert_exporter": "python",
   "pygments_lexer": "ipython3",
   "version": "3.10.0"
  }
 },
 "nbformat": 4,
 "nbformat_minor": 5
}
