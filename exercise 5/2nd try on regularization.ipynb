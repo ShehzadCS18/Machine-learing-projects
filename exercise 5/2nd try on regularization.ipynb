{
 "cells": [
  {
   "cell_type": "code",
   "execution_count": 24,
   "id": "366b5152",
   "metadata": {},
   "outputs": [],
   "source": [
    "import numpy as np\n",
    "import matplotlib.pyplot as plt"
   ]
  },
  {
   "cell_type": "code",
   "execution_count": 25,
   "id": "f7296b5c",
   "metadata": {},
   "outputs": [],
   "source": [
    "X=np.loadtxt('ex5Linx.dat')\n",
    "Y=np.loadtxt('ex5Liny.dat')"
   ]
  },
  {
   "cell_type": "code",
   "execution_count": 50,
   "id": "af1fb582",
   "metadata": {},
   "outputs": [],
   "source": [
    "XX=np.loadtxt('ex5Linx.dat')"
   ]
  },
  {
   "cell_type": "code",
   "execution_count": 26,
   "id": "376016dc",
   "metadata": {},
   "outputs": [
    {
     "data": {
      "image/png": "[encoded data removed]",
      "text/plain": [
       "<Figure size 432x288 with 1 Axes>"
      ]
     },
     "metadata": {
      "needs_background": "light"
     },
     "output_type": "display_data"
    }
   ],
   "source": [
    "plt.plot(X,Y,'r.')\n",
    "plt.show()"
   ]
  },
  {
   "cell_type": "code",
   "execution_count": 27,
   "id": "679e6071",
   "metadata": {},
   "outputs": [],
   "source": [
    "X=X.reshape(X.shape[0],1)"
   ]
  },
  {
   "cell_type": "code",
   "execution_count": 28,
   "id": "814e5778",
   "metadata": {},
   "outputs": [],
   "source": [
    "x0=np.ones([X.shape[0],1])"
   ]
  },
  {
   "cell_type": "code",
   "execution_count": null,
   "id": "609cfe56",
   "metadata": {},
   "outputs": [],
   "source": []
  },
  {
   "cell_type": "code",
   "execution_count": 29,
   "id": "a012018e",
   "metadata": {},
   "outputs": [],
   "source": [
    "X2=X**2"
   ]
  },
  {
   "cell_type": "code",
   "execution_count": 30,
   "id": "080029c7",
   "metadata": {},
   "outputs": [],
   "source": [
    "X3=X**3"
   ]
  },
  {
   "cell_type": "code",
   "execution_count": 31,
   "id": "94711049",
   "metadata": {},
   "outputs": [],
   "source": [
    "X4=X**4"
   ]
  },
  {
   "cell_type": "code",
   "execution_count": 32,
   "id": "8cf1a12f",
   "metadata": {},
   "outputs": [],
   "source": [
    "X5=X**5"
   ]
  },
  {
   "cell_type": "code",
   "execution_count": 33,
   "id": "3bc0875e",
   "metadata": {},
   "outputs": [],
   "source": [
    "X=np.concatenate((x0,X,X2,X3,X4,X5),axis=1)"
   ]
  },
  {
   "cell_type": "code",
   "execution_count": 34,
   "id": "87484faf",
   "metadata": {},
   "outputs": [
    {
     "data": {
      "text/plain": [
       "6"
      ]
     },
     "execution_count": 34,
     "metadata": {},
     "output_type": "execute_result"
    }
   ],
   "source": [
    "X.shape[1]"
   ]
  },
  {
   "cell_type": "code",
   "execution_count": 35,
   "id": "66331a1c",
   "metadata": {},
   "outputs": [],
   "source": [
    "theta=np.zeros(X.shape[1])"
   ]
  },
  {
   "cell_type": "code",
   "execution_count": 36,
   "id": "df1935c6",
   "metadata": {},
   "outputs": [
    {
     "data": {
      "text/plain": [
       "array([0., 0., 0., 0., 0., 0.])"
      ]
     },
     "execution_count": 36,
     "metadata": {},
     "output_type": "execute_result"
    }
   ],
   "source": [
    "theta"
   ]
  },
  {
   "cell_type": "code",
   "execution_count": 39,
   "id": "3d60c5eb",
   "metadata": {},
   "outputs": [],
   "source": [
    "def hypothesis(X,theta):\n",
    "    return X.dot(theta.T)"
   ]
  },
  {
   "cell_type": "code",
   "execution_count": 43,
   "id": "f21e9c9d",
   "metadata": {},
   "outputs": [],
   "source": [
    "h=hypothesis(X,theta)"
   ]
  },
  {
   "cell_type": "code",
   "execution_count": 44,
   "id": "a9619cc8",
   "metadata": {},
   "outputs": [],
   "source": [
    "def loss(m,Y,hyp):\n",
    "    result=((1/2*m)*np.sum((hyp -Y))**2)\n",
    "    return result"
   ]
  },
  {
   "cell_type": "code",
   "execution_count": 45,
   "id": "71c092d5",
   "metadata": {},
   "outputs": [],
   "source": [
    "m=X.shape[0]"
   ]
  },
  {
   "cell_type": "code",
   "execution_count": 46,
   "id": "06432226",
   "metadata": {},
   "outputs": [
    {
     "data": {
      "text/plain": [
       "63.53508974540001"
      ]
     },
     "execution_count": 46,
     "metadata": {},
     "output_type": "execute_result"
    }
   ],
   "source": [
    "loss(m,Y,h)"
   ]
  },
  {
   "cell_type": "code",
   "execution_count": 47,
   "id": "778c7940",
   "metadata": {},
   "outputs": [],
   "source": [
    "def gradient(m,X,Y,hyp):\n",
    "    result=((1/m)*np.dot(X.T,hyp-Y))\n",
    "    return result"
   ]
  },
  {
   "cell_type": "code",
   "execution_count": 94,
   "id": "a1bb0625",
   "metadata": {},
   "outputs": [],
   "source": [
    "lr=0.01\n",
    "los=[]\n",
    "for i in range(1000):\n",
    "    H=hypothesis(X,theta)\n",
    "    l=loss(m,Y,H)\n",
    "    los.append(l)\n",
    "    d=gradient(m,X,Y,H)\n",
    "    theta=theta-lr*d\n",
    "    #print(f'step={i},loss={l:.4f}')\n",
    "    "
   ]
  },
  {
   "cell_type": "code",
   "execution_count": 95,
   "id": "963632b8",
   "metadata": {},
   "outputs": [
    {
     "data": {
      "image/png": "[encoded data removed]",
      "text/plain": [
       "<Figure size 432x288 with 1 Axes>"
      ]
     },
     "metadata": {
      "needs_background": "light"
     },
     "output_type": "display_data"
    }
   ],
   "source": [
    "plt.plot(XX,Y,'r.')\n",
    "plt.plot(XX,H,'g')\n",
    "plt.show()"
   ]
  },
  {
   "cell_type": "code",
   "execution_count": null,
   "id": "677ef548",
   "metadata": {},
   "outputs": [],
   "source": []
  },
  {
   "cell_type": "code",
   "execution_count": null,
   "id": "a7d290c3",
   "metadata": {},
   "outputs": [],
   "source": []
  }
 ],
 "metadata": {
  "kernelspec": {
   "display_name": "Python 3 (ipykernel)",
   "language": "python",
   "name": "python3"
  },
  "language_info": {
   "codemirror_mode": {
    "name": "ipython",
    "version": 3
   },
   "file_extension": ".py",
   "mimetype": "text/x-python",
   "name": "python",
   "nbconvert_exporter": "python",
   "pygments_lexer": "ipython3",
   "version": "3.10.0"
  }
 },
 "nbformat": 4,
 "nbformat_minor": 5
}
