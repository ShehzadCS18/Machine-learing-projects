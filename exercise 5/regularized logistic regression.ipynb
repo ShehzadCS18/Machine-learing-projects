{
 "cells": [
  {
   "cell_type": "code",
   "execution_count": 1,
   "id": "70f76b6e",
   "metadata": {},
   "outputs": [],
   "source": [
    "import numpy as np\n",
    "import pandas as pd\n",
    "import matplotlib.pyplot as plt\n",
    "import seaborn as sns"
   ]
  },
  {
   "cell_type": "code",
   "execution_count": null,
   "id": "484a2c93",
   "metadata": {},
   "outputs": [],
   "source": []
  },
  {
   "cell_type": "code",
   "execution_count": 2,
   "id": "0288e57d",
   "metadata": {},
   "outputs": [],
   "source": [
    "\n",
    "Y=np.loadtxt('ex5Logy.dat')"
   ]
  },
  {
   "cell_type": "code",
   "execution_count": 3,
   "id": "486d3e67",
   "metadata": {},
   "outputs": [],
   "source": [
    "X=pd.read_csv('ex5Logx.dat',header=None)"
   ]
  },
  {
   "cell_type": "code",
   "execution_count": 4,
   "id": "a7461076",
   "metadata": {},
   "outputs": [],
   "source": [
    "X=np.array(X)"
   ]
  },
  {
   "cell_type": "code",
   "execution_count": 5,
   "id": "3cba3d02",
   "metadata": {},
   "outputs": [
    {
     "data": {
      "text/plain": [
       "(117, 2)"
      ]
     },
     "execution_count": 5,
     "metadata": {},
     "output_type": "execute_result"
    }
   ],
   "source": [
    "X.shape"
   ]
  },
  {
   "cell_type": "code",
   "execution_count": 29,
   "id": "0cd99ef3",
   "metadata": {},
   "outputs": [
    {
     "data": {
      "text/plain": [
       "array([[ 0.051267 ,  0.69956  ],\n",
       "       [-0.092742 ,  0.68494  ],\n",
       "       [-0.21371  ,  0.69225  ],\n",
       "       [-0.375    ,  0.50219  ],\n",
       "       [-0.51325  ,  0.46564  ],\n",
       "       [-0.52477  ,  0.2098   ],\n",
       "       [-0.39804  ,  0.034357 ],\n",
       "       [-0.30588  , -0.19225  ],\n",
       "       [ 0.016705 , -0.40424  ],\n",
       "       [ 0.13191  , -0.51389  ],\n",
       "       [ 0.38537  , -0.56506  ],\n",
       "       [ 0.52938  , -0.5212   ],\n",
       "       [ 0.63882  , -0.24342  ],\n",
       "       [ 0.73675  , -0.18494  ],\n",
       "       [ 0.54666  ,  0.48757  ],\n",
       "       [ 0.322    ,  0.5826   ],\n",
       "       [ 0.16647  ,  0.53874  ],\n",
       "       [-0.046659 ,  0.81652  ],\n",
       "       [-0.17339  ,  0.69956  ],\n",
       "       [-0.47869  ,  0.63377  ],\n",
       "       [-0.60541  ,  0.59722  ],\n",
       "       [-0.62846  ,  0.33406  ],\n",
       "       [-0.59389  ,  0.005117 ],\n",
       "       [-0.42108  , -0.27266  ],\n",
       "       [-0.11578  , -0.39693  ],\n",
       "       [ 0.20104  , -0.60161  ],\n",
       "       [ 0.46601  , -0.53582  ],\n",
       "       [ 0.67339  , -0.53582  ],\n",
       "       [-0.13882  ,  0.54605  ],\n",
       "       [-0.29435  ,  0.77997  ],\n",
       "       [-0.26555  ,  0.96272  ],\n",
       "       [-0.16187  ,  0.8019   ],\n",
       "       [-0.17339  ,  0.64839  ],\n",
       "       [-0.28283  ,  0.47295  ],\n",
       "       [-0.36348  ,  0.31213  ],\n",
       "       [-0.30012  ,  0.027047 ],\n",
       "       [-0.23675  , -0.21418  ],\n",
       "       [-0.06394  , -0.18494  ],\n",
       "       [ 0.062788 , -0.16301  ],\n",
       "       [ 0.22984  , -0.41155  ],\n",
       "       [ 0.2932   , -0.2288   ],\n",
       "       [ 0.48329  , -0.18494  ],\n",
       "       [ 0.64459  , -0.14108  ],\n",
       "       [ 0.46025  ,  0.012427 ],\n",
       "       [ 0.6273   ,  0.15863  ],\n",
       "       [ 0.57546  ,  0.26827  ],\n",
       "       [ 0.72523  ,  0.44371  ],\n",
       "       [ 0.22408  ,  0.52412  ],\n",
       "       [ 0.44297  ,  0.67032  ],\n",
       "       [ 0.322    ,  0.69225  ],\n",
       "       [ 0.13767  ,  0.57529  ],\n",
       "       [-0.0063364,  0.39985  ],\n",
       "       [-0.092742 ,  0.55336  ],\n",
       "       [-0.20795  ,  0.35599  ],\n",
       "       [-0.20795  ,  0.17325  ],\n",
       "       [-0.43836  ,  0.21711  ],\n",
       "       [-0.21947  , -0.016813 ],\n",
       "       [-0.13882  , -0.27266  ],\n",
       "       [ 0.18376  ,  0.93348  ],\n",
       "       [ 0.22408  ,  0.77997  ],\n",
       "       [ 0.29896  ,  0.61915  ],\n",
       "       [ 0.50634  ,  0.75804  ],\n",
       "       [ 0.61578  ,  0.7288   ],\n",
       "       [ 0.60426  ,  0.59722  ],\n",
       "       [ 0.76555  ,  0.50219  ],\n",
       "       [ 0.92684  ,  0.3633   ],\n",
       "       [ 0.82316  ,  0.27558  ],\n",
       "       [ 0.96141  ,  0.085526 ],\n",
       "       [ 0.93836  ,  0.012427 ],\n",
       "       [ 0.86348  , -0.082602 ],\n",
       "       [ 0.89804  , -0.20687  ],\n",
       "       [ 0.85196  , -0.36769  ],\n",
       "       [ 0.82892  , -0.5212   ],\n",
       "       [ 0.79435  , -0.55775  ],\n",
       "       [ 0.59274  , -0.7405   ],\n",
       "       [ 0.51786  , -0.5943   ],\n",
       "       [ 0.46601  , -0.41886  ],\n",
       "       [ 0.35081  , -0.57968  ],\n",
       "       [ 0.28744  , -0.76974  ],\n",
       "       [ 0.085829 , -0.75512  ],\n",
       "       [ 0.14919  , -0.57968  ],\n",
       "       [-0.13306  , -0.4481   ],\n",
       "       [-0.40956  , -0.41155  ],\n",
       "       [-0.39228  , -0.25804  ],\n",
       "       [-0.74366  , -0.25804  ],\n",
       "       [-0.69758  ,  0.041667 ],\n",
       "       [-0.75518  ,  0.2902   ],\n",
       "       [-0.69758  ,  0.68494  ],\n",
       "       [-0.4038   ,  0.70687  ],\n",
       "       [-0.38076  ,  0.91886  ],\n",
       "       [-0.50749  ,  0.90424  ],\n",
       "       [-0.54781  ,  0.70687  ],\n",
       "       [ 0.10311  ,  0.77997  ],\n",
       "       [ 0.057028 ,  0.91886  ],\n",
       "       [-0.10426  ,  0.99196  ],\n",
       "       [-0.081221 ,  1.1089   ],\n",
       "       [ 0.28744  ,  1.087    ],\n",
       "       [ 0.39689  ,  0.82383  ],\n",
       "       [ 0.63882  ,  0.88962  ],\n",
       "       [ 0.82316  ,  0.66301  ],\n",
       "       [ 0.67339  ,  0.64108  ],\n",
       "       [ 1.0709   ,  0.10015  ],\n",
       "       [-0.046659 , -0.57968  ],\n",
       "       [-0.23675  , -0.63816  ],\n",
       "       [-0.15035  , -0.36769  ],\n",
       "       [-0.49021  , -0.3019   ],\n",
       "       [-0.46717  , -0.13377  ],\n",
       "       [-0.28859  , -0.060673 ],\n",
       "       [-0.61118  , -0.067982 ],\n",
       "       [-0.66302  , -0.21418  ],\n",
       "       [-0.59965  , -0.41886  ],\n",
       "       [-0.72638  , -0.082602 ],\n",
       "       [-0.83007  ,  0.31213  ],\n",
       "       [-0.72062  ,  0.53874  ],\n",
       "       [-0.59389  ,  0.49488  ],\n",
       "       [-0.48445  ,  0.99927  ],\n",
       "       [-0.0063364,  0.99927  ]])"
      ]
     },
     "execution_count": 29,
     "metadata": {},
     "output_type": "execute_result"
    }
   ],
   "source": [
    "X"
   ]
  },
  {
   "cell_type": "code",
   "execution_count": 6,
   "id": "dd53e358",
   "metadata": {},
   "outputs": [
    {
     "data": {
      "text/plain": [
       "(117,)"
      ]
     },
     "execution_count": 6,
     "metadata": {},
     "output_type": "execute_result"
    }
   ],
   "source": [
    "Y.shape"
   ]
  },
  {
   "cell_type": "code",
   "execution_count": 7,
   "id": "d5fd72bb",
   "metadata": {},
   "outputs": [
    {
     "name": "stdout",
     "output_type": "stream",
     "text": [
      "<class 'numpy.ndarray'>\n",
      "<class 'numpy.ndarray'>\n"
     ]
    }
   ],
   "source": [
    "print(type(Y))\n",
    "print(type(X))"
   ]
  },
  {
   "cell_type": "code",
   "execution_count": 8,
   "id": "3668f1a8",
   "metadata": {},
   "outputs": [],
   "source": [
    "theta_zero=0\n",
    "theta=np.zeros(X.shape[1])"
   ]
  },
  {
   "cell_type": "code",
   "execution_count": 15,
   "id": "ea95e6a0",
   "metadata": {},
   "outputs": [],
   "source": [
    "def prediction_sigmiod(x,theta,theta_zero):\n",
    "    return 1.0/(1 + np.exp(-(np.dot(theta,x.T)+theta_zero)))"
   ]
  },
  {
   "cell_type": "code",
   "execution_count": 16,
   "id": "71b89429",
   "metadata": {},
   "outputs": [],
   "source": [
    "def loss(m,y,y_predicted,reg,theta):\n",
    "    return (-(1/m)*np.sum( (y*np.log(y_predicted)) + (1-y)*np.log(1-y_predicted)))+np.sum((reg/2*m)*theta)"
   ]
  },
  {
   "cell_type": "code",
   "execution_count": 17,
   "id": "a830351f",
   "metadata": {},
   "outputs": [],
   "source": [
    "def gradient_theta_zero(m,Y,hypo):\n",
    "    return ((1/m)*(hypo-Y))"
   ]
  },
  {
   "cell_type": "code",
   "execution_count": 18,
   "id": "8cdb15b6",
   "metadata": {},
   "outputs": [],
   "source": [
    "def gradient_theta(m,X,Y,hypo):\n",
    "    return (1/m)*np.dot(X.T,(hypo-Y))"
   ]
  },
  {
   "cell_type": "code",
   "execution_count": 19,
   "id": "271a2df8",
   "metadata": {},
   "outputs": [],
   "source": [
    "m=X.shape[0]\n",
    "los=[]\n",
    "reg=0\n",
    "lr=0.1\n",
    "for i in range(100):\n",
    "    H=prediction_sigmiod(X,theta,theta_zero)\n",
    "    l=loss(m,Y,H,reg,theta)\n",
    "    los.append(l)\n",
    "    d_baise=gradient_theta_zero(m,Y,H)\n",
    "    d_theta=gradient_theta(m,X,Y,H)\n",
    "    theta_zero=theta_zero-lr*d_baise\n",
    "    theta=theta*(1-(lr*(reg/m)))-lr*d_theta"
   ]
  },
  {
   "cell_type": "code",
   "execution_count": 49,
   "id": "f9781b21",
   "metadata": {},
   "outputs": [],
   "source": [
    "U=X[:,0]\n",
    "V=X[:,1]"
   ]
  },
  {
   "cell_type": "code",
   "execution_count": 52,
   "id": "9fa10c85",
   "metadata": {},
   "outputs": [
    {
     "data": {
      "image/png": "[encoded data removed]",
      "text/plain": [
       "<Figure size 432x288 with 1 Axes>"
      ]
     },
     "metadata": {
      "needs_background": "light"
     },
     "output_type": "display_data"
    }
   ],
   "source": [
    "plt.plot(U,V,'r.')\n",
    "plt.show()"
   ]
  },
  {
   "cell_type": "code",
   "execution_count": 53,
   "id": "93f423c5",
   "metadata": {},
   "outputs": [
    {
     "data": {
      "text/plain": [
       "array([1., 1., 1., 1., 1., 1., 1., 1., 1., 1., 1., 1., 1., 1., 1., 1., 1.,\n",
       "       1., 1., 1., 1., 1., 1., 1., 1., 1., 1., 1., 1., 1., 1., 1., 1., 1.,\n",
       "       1., 1., 1., 1., 1., 1., 1., 1., 1., 1., 1., 1., 1., 1., 1., 1., 1.,\n",
       "       1., 1., 1., 1., 1., 1., 1., 0., 0., 0., 0., 0., 0., 0., 0., 0., 0.,\n",
       "       0., 0., 0., 0., 0., 0., 0., 0., 0., 0., 0., 0., 0., 0., 0., 0., 0.,\n",
       "       0., 0., 0., 0., 0., 0., 0., 0., 0., 0., 0., 0., 0., 0., 0., 0., 0.,\n",
       "       0., 0., 0., 0., 0., 0., 0., 0., 0., 0., 0., 0., 0., 0., 0.])"
      ]
     },
     "execution_count": 53,
     "metadata": {},
     "output_type": "execute_result"
    }
   ],
   "source": [
    "Y"
   ]
  },
  {
   "cell_type": "code",
   "execution_count": 37,
   "id": "fd23a8e2",
   "metadata": {},
   "outputs": [],
   "source": []
  },
  {
   "cell_type": "code",
   "execution_count": null,
   "id": "d5185aee",
   "metadata": {},
   "outputs": [],
   "source": []
  },
  {
   "cell_type": "code",
   "execution_count": 39,
   "id": "a40ea17d",
   "metadata": {},
   "outputs": [],
   "source": [
    "m=X.shape[0]\n",
    "los=[]\n",
    "reg=10\n",
    "lr=0.1\n",
    "for i in range(100):\n",
    "    H=prediction_sigmiod(X,theta,theta_zero)\n",
    "    l=loss(m,Y,H,reg,theta)\n",
    "    los.append(l)\n",
    "    d_baise=gradient_theta_zero(m,Y,H)\n",
    "    d_theta=gradient_theta(m,X,Y,H)\n",
    "    theta_zero=theta_zero-lr*d_baise\n",
    "    theta=theta*(1-(lr*(reg/m)))-lr*d_theta"
   ]
  },
  {
   "cell_type": "code",
   "execution_count": null,
   "id": "c4bbd98d",
   "metadata": {},
   "outputs": [],
   "source": []
  },
  {
   "cell_type": "code",
   "execution_count": 48,
   "id": "189282b6",
   "metadata": {},
   "outputs": [
    {
     "data": {
      "text/plain": [
       "(117,)"
      ]
     },
     "execution_count": 48,
     "metadata": {},
     "output_type": "execute_result"
    }
   ],
   "source": [
    "Y.shape"
   ]
  },
  {
   "cell_type": "code",
   "execution_count": null,
   "id": "83860c9f",
   "metadata": {},
   "outputs": [],
   "source": []
  },
  {
   "cell_type": "code",
   "execution_count": null,
   "id": "ddbe7d49",
   "metadata": {},
   "outputs": [],
   "source": []
  }
 ],
 "metadata": {
  "kernelspec": {
   "display_name": "Python 3 (ipykernel)",
   "language": "python",
   "name": "python3"
  },
  "language_info": {
   "codemirror_mode": {
    "name": "ipython",
    "version": 3
   },
   "file_extension": ".py",
   "mimetype": "text/x-python",
   "name": "python",
   "nbconvert_exporter": "python",
   "pygments_lexer": "ipython3",
   "version": "3.10.0"
  }
 },
 "nbformat": 4,
 "nbformat_minor": 5
}
