{
 "cells": [
  {
   "cell_type": "code",
   "execution_count": 1,
   "id": "1eeb7a58",
   "metadata": {},
   "outputs": [],
   "source": [
    "import numpy as np\n",
    "import matplotlib.pyplot as plt\n"
   ]
  },
  {
   "cell_type": "code",
   "execution_count": 2,
   "id": "6d933b73",
   "metadata": {},
   "outputs": [],
   "source": [
    "X=np.loadtxt('ex5Linx.dat')\n",
    "Y=np.loadtxt('ex5Liny.dat')"
   ]
  },
  {
   "cell_type": "code",
   "execution_count": 3,
   "id": "a7cceb68",
   "metadata": {},
   "outputs": [],
   "source": [
    "XX=np.loadtxt('ex5Linx.dat')\n",
    "YY=np.loadtxt('ex5Liny.dat')"
   ]
  },
  {
   "cell_type": "code",
   "execution_count": 4,
   "id": "a8fd238f",
   "metadata": {},
   "outputs": [
    {
     "data": {
      "image/png": "[encoded data removed]",
      "text/plain": [
       "<Figure size 432x288 with 1 Axes>"
      ]
     },
     "metadata": {
      "needs_background": "light"
     },
     "output_type": "display_data"
    }
   ],
   "source": [
    "plt.plot(XX,YY,'r.')\n",
    "plt.show()"
   ]
  },
  {
   "cell_type": "code",
   "execution_count": 5,
   "id": "88493b90",
   "metadata": {},
   "outputs": [
    {
     "data": {
      "text/plain": [
       "(7,)"
      ]
     },
     "execution_count": 5,
     "metadata": {},
     "output_type": "execute_result"
    }
   ],
   "source": [
    "X.shape"
   ]
  },
  {
   "cell_type": "code",
   "execution_count": 6,
   "id": "72f50cd8",
   "metadata": {},
   "outputs": [],
   "source": [
    "X=X.reshape(X.shape[0],1)"
   ]
  },
  {
   "cell_type": "code",
   "execution_count": 7,
   "id": "4a670954",
   "metadata": {},
   "outputs": [
    {
     "data": {
      "text/plain": [
       "(7, 1)"
      ]
     },
     "execution_count": 7,
     "metadata": {},
     "output_type": "execute_result"
    }
   ],
   "source": [
    "X.shape"
   ]
  },
  {
   "cell_type": "code",
   "execution_count": 8,
   "id": "280075b5",
   "metadata": {},
   "outputs": [],
   "source": [
    "#x0=np.ones([X.shape[0],1])"
   ]
  },
  {
   "cell_type": "code",
   "execution_count": 9,
   "id": "5323009b",
   "metadata": {},
   "outputs": [],
   "source": [
    "#X=np.concatenate((x0,X),axis=1)"
   ]
  },
  {
   "cell_type": "code",
   "execution_count": 10,
   "id": "5a1f4f38",
   "metadata": {},
   "outputs": [
    {
     "data": {
      "text/plain": [
       "array([[-0.99768],\n",
       "       [-0.69574],\n",
       "       [-0.40373],\n",
       "       [-0.10236],\n",
       "       [ 0.22024],\n",
       "       [ 0.47742],\n",
       "       [ 0.82229]])"
      ]
     },
     "execution_count": 10,
     "metadata": {},
     "output_type": "execute_result"
    }
   ],
   "source": [
    "X"
   ]
  },
  {
   "cell_type": "code",
   "execution_count": 11,
   "id": "f770fe7e",
   "metadata": {},
   "outputs": [],
   "source": [
    "X2=X**2"
   ]
  },
  {
   "cell_type": "code",
   "execution_count": 12,
   "id": "b797181a",
   "metadata": {},
   "outputs": [
    {
     "data": {
      "text/plain": [
       "array([[0.99536538],\n",
       "       [0.48405415],\n",
       "       [0.16299791],\n",
       "       [0.01047757],\n",
       "       [0.04850566],\n",
       "       [0.22792986],\n",
       "       [0.67616084]])"
      ]
     },
     "execution_count": 12,
     "metadata": {},
     "output_type": "execute_result"
    }
   ],
   "source": [
    "X2"
   ]
  },
  {
   "cell_type": "code",
   "execution_count": 13,
   "id": "a770735d",
   "metadata": {},
   "outputs": [],
   "source": [
    "X3=X**3"
   ]
  },
  {
   "cell_type": "code",
   "execution_count": 14,
   "id": "bdc4f76b",
   "metadata": {},
   "outputs": [
    {
     "data": {
      "text/plain": [
       "array([[-0.99305613],\n",
       "       [-0.33677583],\n",
       "       [-0.06580715],\n",
       "       [-0.00107248],\n",
       "       [ 0.01068289],\n",
       "       [ 0.10881827],\n",
       "       [ 0.5560003 ]])"
      ]
     },
     "execution_count": 14,
     "metadata": {},
     "output_type": "execute_result"
    }
   ],
   "source": [
    "X3"
   ]
  },
  {
   "cell_type": "code",
   "execution_count": 15,
   "id": "1b4e6ef8",
   "metadata": {},
   "outputs": [],
   "source": [
    "X4=X**4"
   ]
  },
  {
   "cell_type": "code",
   "execution_count": 16,
   "id": "0c7fe38e",
   "metadata": {},
   "outputs": [
    {
     "data": {
      "text/plain": [
       "array([[9.90752244e-01],\n",
       "       [2.34308418e-01],\n",
       "       [2.65683196e-02],\n",
       "       [1.09779465e-04],\n",
       "       [2.35279882e-03],\n",
       "       [5.19520194e-02],\n",
       "       [4.57193487e-01]])"
      ]
     },
     "execution_count": 16,
     "metadata": {},
     "output_type": "execute_result"
    }
   ],
   "source": [
    "X4"
   ]
  },
  {
   "cell_type": "code",
   "execution_count": 17,
   "id": "6bb0407c",
   "metadata": {},
   "outputs": [],
   "source": [
    "X5=X**5"
   ]
  },
  {
   "cell_type": "code",
   "execution_count": 18,
   "id": "b6feb5fa",
   "metadata": {},
   "outputs": [
    {
     "data": {
      "text/plain": [
       "array([[-9.88453699e-01],\n",
       "       [-1.63017739e-01],\n",
       "       [-1.07264277e-02],\n",
       "       [-1.12370260e-05],\n",
       "       [ 5.18180412e-04],\n",
       "       [ 2.48029331e-02],\n",
       "       [ 3.75945633e-01]])"
      ]
     },
     "execution_count": 18,
     "metadata": {},
     "output_type": "execute_result"
    }
   ],
   "source": [
    "X5"
   ]
  },
  {
   "cell_type": "code",
   "execution_count": 19,
   "id": "78aba158",
   "metadata": {},
   "outputs": [
    {
     "name": "stdout",
     "output_type": "stream",
     "text": [
      "4\n",
      "8\n",
      "16\n"
     ]
    }
   ],
   "source": [
    "s=2\n",
    "print(s**2)\n",
    "print(s**3)\n",
    "print(s**4)"
   ]
  },
  {
   "cell_type": "code",
   "execution_count": 20,
   "id": "fbc38086",
   "metadata": {},
   "outputs": [],
   "source": [
    "theta_1=np.zeros(5)\n",
    "baise_1=0\n",
    "theta_2=np.zeros(5)\n",
    "baise_2=0\n",
    "theta_3=np.zeros(5)\n",
    "baise_3=0"
   ]
  },
  {
   "cell_type": "code",
   "execution_count": null,
   "id": "6cbd139d",
   "metadata": {},
   "outputs": [],
   "source": []
  },
  {
   "cell_type": "code",
   "execution_count": 22,
   "id": "6c9ec705",
   "metadata": {},
   "outputs": [],
   "source": [
    "X=np.concatenate((X,X2,X3,X4,X5),axis=1)"
   ]
  },
  {
   "cell_type": "code",
   "execution_count": 23,
   "id": "765e04b6",
   "metadata": {},
   "outputs": [
    {
     "data": {
      "text/plain": [
       "array([[-9.97680000e-01,  9.95365382e-01, -9.93056135e-01,\n",
       "         9.90752244e-01, -9.88453699e-01],\n",
       "       [-6.95740000e-01,  4.84054148e-01, -3.36775833e-01,\n",
       "         2.34308418e-01, -1.63017739e-01],\n",
       "       [-4.03730000e-01,  1.62997913e-01, -6.58071474e-02,\n",
       "         2.65683196e-02, -1.07264277e-02],\n",
       "       [-1.02360000e-01,  1.04775696e-02, -1.07248402e-03,\n",
       "         1.09779465e-04, -1.12370260e-05],\n",
       "       [ 2.20240000e-01,  4.85056576e-02,  1.06828860e-02,\n",
       "         2.35279882e-03,  5.18180412e-04],\n",
       "       [ 4.77420000e-01,  2.27929856e-01,  1.08818272e-01,\n",
       "         5.19520194e-02,  2.48029331e-02],\n",
       "       [ 8.22290000e-01,  6.76160844e-01,  5.56000300e-01,\n",
       "         4.57193487e-01,  3.75945633e-01]])"
      ]
     },
     "execution_count": 23,
     "metadata": {},
     "output_type": "execute_result"
    }
   ],
   "source": [
    "X"
   ]
  },
  {
   "cell_type": "code",
   "execution_count": 39,
   "id": "5b65d74f",
   "metadata": {},
   "outputs": [
    {
     "name": "stdout",
     "output_type": "stream",
     "text": [
      "(7, 5)\n",
      "(5,)\n"
     ]
    }
   ],
   "source": [
    "print(X.shape)\n",
    "print(theta_1.shape)"
   ]
  },
  {
   "cell_type": "code",
   "execution_count": 25,
   "id": "b2bd2f5c",
   "metadata": {},
   "outputs": [],
   "source": [
    "def hypothesis(X,theta,baise):\n",
    "    return ((X.dot(theta.T)+baise))"
   ]
  },
  {
   "cell_type": "code",
   "execution_count": 26,
   "id": "9f5ed36c",
   "metadata": {},
   "outputs": [
    {
     "data": {
      "text/plain": [
       "array([0., 0., 0., 0., 0., 0., 0.])"
      ]
     },
     "execution_count": 26,
     "metadata": {},
     "output_type": "execute_result"
    }
   ],
   "source": [
    "h=hypothesis(X,theta_1,baise_1)\n",
    "h"
   ]
  },
  {
   "cell_type": "code",
   "execution_count": 40,
   "id": "144d608c",
   "metadata": {},
   "outputs": [],
   "source": [
    "def loss(m,Y,hypo,reg,theta):\n",
    "    return ((1/2*m)*np.sum((hypo-Y)**2+np.sum((reg*(theta**2)))))"
   ]
  },
  {
   "cell_type": "code",
   "execution_count": 56,
   "id": "87081d73",
   "metadata": {},
   "outputs": [],
   "source": [
    "def loss2(m,Y,hypo,reg,theta):\n",
    "    return ((1/2*m)*np.sum((hypo-Y)**2+(reg)))"
   ]
  },
  {
   "cell_type": "code",
   "execution_count": 41,
   "id": "62ff4184",
   "metadata": {},
   "outputs": [],
   "source": [
    "m=X.shape[0]\n"
   ]
  },
  {
   "cell_type": "code",
   "execution_count": 42,
   "id": "a192c714",
   "metadata": {},
   "outputs": [
    {
     "data": {
      "text/plain": [
       "22.250458477099997"
      ]
     },
     "execution_count": 42,
     "metadata": {},
     "output_type": "execute_result"
    }
   ],
   "source": [
    "loss(m,Y,h,reg,theta_1)"
   ]
  },
  {
   "cell_type": "code",
   "execution_count": 30,
   "id": "1086ac77",
   "metadata": {},
   "outputs": [],
   "source": [
    "#loss(m,Y,h,0)"
   ]
  },
  {
   "cell_type": "code",
   "execution_count": 305,
   "id": "92aeb886",
   "metadata": {},
   "outputs": [],
   "source": [
    "#loss(m,Y,h,3)"
   ]
  },
  {
   "cell_type": "code",
   "execution_count": 243,
   "id": "c732f128",
   "metadata": {},
   "outputs": [
    {
     "data": {
      "text/plain": [
       "267.25045847710004"
      ]
     },
     "execution_count": 243,
     "metadata": {},
     "output_type": "execute_result"
    }
   ],
   "source": [
    "#loss(m,Y,h,10)"
   ]
  },
  {
   "cell_type": "code",
   "execution_count": 43,
   "id": "4c0cd3c5",
   "metadata": {},
   "outputs": [],
   "source": [
    "def gradient_baise(m,Y,hypo):\n",
    "    return ((1/m)*np.sum((hypo-Y)))"
   ]
  },
  {
   "cell_type": "code",
   "execution_count": 44,
   "id": "9dc413fd",
   "metadata": {},
   "outputs": [
    {
     "data": {
      "text/plain": [
       "-0.60866"
      ]
     },
     "execution_count": 44,
     "metadata": {},
     "output_type": "execute_result"
    }
   ],
   "source": [
    "gb=gradient_baise(m,Y,h)\n",
    "lr=0.001\n",
    "gb"
   ]
  },
  {
   "cell_type": "code",
   "execution_count": 45,
   "id": "8b37f292",
   "metadata": {},
   "outputs": [],
   "source": [
    "#baise=baise-lr*gb"
   ]
  },
  {
   "cell_type": "code",
   "execution_count": 46,
   "id": "bba10188",
   "metadata": {},
   "outputs": [],
   "source": [
    "#baise"
   ]
  },
  {
   "cell_type": "code",
   "execution_count": 49,
   "id": "6074ca72",
   "metadata": {},
   "outputs": [],
   "source": [
    "def gradient_theta(m,X,Y,hypo,reg,theta):\n",
    "    return((1/m)*np.dot(X.T,(hypo-Y))-(reg/m)*theta)"
   ]
  },
  {
   "cell_type": "code",
   "execution_count": 51,
   "id": "69903f41",
   "metadata": {},
   "outputs": [
    {
     "data": {
      "text/plain": [
       "array([ 0.45688432, -0.36038529,  0.3794088 , -0.31520671,  0.33984755])"
      ]
     },
     "execution_count": 51,
     "metadata": {},
     "output_type": "execute_result"
    }
   ],
   "source": [
    "gradient_theta(m,X,Y,h,reg2,theta_1)"
   ]
  },
  {
   "cell_type": "code",
   "execution_count": 57,
   "id": "fe6a4493",
   "metadata": {},
   "outputs": [],
   "source": [
    "#training loop\n",
    "los=[]\n",
    "reg2=0\n",
    "for i in range(10):\n",
    "    H_1=hypothesis(X,theta_1,baise_1)\n",
    "    l=loss2(m,Y,H_1,reg2,theta_1)\n",
    "    los.append(l)\n",
    "    vg=gradient_baise(m,Y,H_1)\n",
    "    v_theta=gradient_theta(m,X,Y,H_1,reg2,theta_1)\n",
    "    baise_1=baise_1-lr*vg\n",
    "    theta_1=((theta_1*(1-(lr*(reg2/m))))-lr*v_theta)\n",
    "    #print(f'step={i},loss={l}')"
   ]
  },
  {
   "cell_type": "code",
   "execution_count": 58,
   "id": "932c8ba9",
   "metadata": {},
   "outputs": [
    {
     "data": {
      "image/png": "[encoded data removed]",
      "text/plain": [
       "<Figure size 432x288 with 1 Axes>"
      ]
     },
     "metadata": {
      "needs_background": "light"
     },
     "output_type": "display_data"
    }
   ],
   "source": [
    "plt.plot(XX,YY,'r.')\n",
    "plt.plot(XX,H_1)\n",
    "plt.show()"
   ]
  },
  {
   "cell_type": "code",
   "execution_count": 38,
   "id": "2688909e",
   "metadata": {},
   "outputs": [
    {
     "ename": "NameError",
     "evalue": "name 'theta' is not defined",
     "output_type": "error",
     "traceback": [
      "\u001b[1;31m---------------------------------------------------------------------------\u001b[0m",
      "\u001b[1;31mNameError\u001b[0m                                 Traceback (most recent call last)",
      "Input \u001b[1;32mIn [38]\u001b[0m, in \u001b[0;36m<cell line: 4>\u001b[1;34m()\u001b[0m\n\u001b[0;32m      7\u001b[0m los\u001b[38;5;241m.\u001b[39mappend(l)\n\u001b[0;32m      8\u001b[0m vg\u001b[38;5;241m=\u001b[39mgradient_baise(m,Y,H_2)\n\u001b[1;32m----> 9\u001b[0m v_theta\u001b[38;5;241m=\u001b[39m\u001b[43mgradient_theta\u001b[49m\u001b[43m(\u001b[49m\u001b[43mm\u001b[49m\u001b[43m,\u001b[49m\u001b[43mX\u001b[49m\u001b[43m,\u001b[49m\u001b[43mY\u001b[49m\u001b[43m,\u001b[49m\u001b[43mH_2\u001b[49m\u001b[43m,\u001b[49m\u001b[43mreg\u001b[49m\u001b[43m)\u001b[49m\n\u001b[0;32m     10\u001b[0m baise_2\u001b[38;5;241m=\u001b[39mbaise_2\u001b[38;5;241m-\u001b[39mlr\u001b[38;5;241m*\u001b[39mvg\n\u001b[0;32m     11\u001b[0m theta_2\u001b[38;5;241m=\u001b[39m((theta_2\u001b[38;5;241m*\u001b[39m(\u001b[38;5;241m1\u001b[39m\u001b[38;5;241m-\u001b[39m(lr\u001b[38;5;241m*\u001b[39m(reg\u001b[38;5;241m/\u001b[39mm))))\u001b[38;5;241m-\u001b[39mlr\u001b[38;5;241m*\u001b[39mv_theta)\n",
      "Input \u001b[1;32mIn [35]\u001b[0m, in \u001b[0;36mgradient_theta\u001b[1;34m(m, X, Y, hypo, reg)\u001b[0m\n\u001b[0;32m      1\u001b[0m \u001b[38;5;28;01mdef\u001b[39;00m \u001b[38;5;21mgradient_theta\u001b[39m(m,X,Y,hypo,reg):\n\u001b[1;32m----> 2\u001b[0m     \u001b[38;5;28;01mreturn\u001b[39;00m((\u001b[38;5;241m1\u001b[39m\u001b[38;5;241m/\u001b[39mm)\u001b[38;5;241m*\u001b[39mnp\u001b[38;5;241m.\u001b[39mdot(X\u001b[38;5;241m.\u001b[39mT,(hypo\u001b[38;5;241m-\u001b[39mY))\u001b[38;5;241m-\u001b[39m(reg\u001b[38;5;241m/\u001b[39mm)\u001b[38;5;241m*\u001b[39m\u001b[43mtheta\u001b[49m)\n",
      "\u001b[1;31mNameError\u001b[0m: name 'theta' is not defined"
     ]
    }
   ],
   "source": [
    "#training loop\n",
    "los=[]\n",
    "reg=1\n",
    "for i in range(100):\n",
    "    H_2=hypothesis(X,theta_2,baise_2)\n",
    "    l=loss(m,Y,H_2,reg,theta_2)\n",
    "    los.append(l)\n",
    "    vg=gradient_baise(m,Y,H_2)\n",
    "    v_theta=gradient_theta(m,X,Y,H_2,reg)\n",
    "    baise_2=baise_2-lr*vg\n",
    "    theta_2=((theta_2*(1-(lr*(reg/m))))-lr*v_theta)\n",
    "    #print(f'step={i},loss={l}')"
   ]
  },
  {
   "cell_type": "code",
   "execution_count": 333,
   "id": "a4f95745",
   "metadata": {},
   "outputs": [
    {
     "data": {
      "image/png": "[encoded data removed]",
      "text/plain": [
       "<Figure size 432x288 with 1 Axes>"
      ]
     },
     "metadata": {
      "needs_background": "light"
     },
     "output_type": "display_data"
    }
   ],
   "source": [
    "plt.plot(XX,YY,'r.')\n",
    "plt.plot(XX,H)\n",
    "plt.show()"
   ]
  },
  {
   "cell_type": "code",
   "execution_count": 210,
   "id": "d50f8c2f",
   "metadata": {},
   "outputs": [],
   "source": [
    "#training loop\n",
    "los3=[]\n",
    "reg3=10\n",
    "for i in range(100):\n",
    "    H=hypothesis(X,theta_3,baise_3)\n",
    "    l=loss(m,Y,H,reg3)\n",
    "    los3.append(l)\n",
    "    vg=gradient_baise(m,Y,H)\n",
    "    v_theta=gradient_theta(m,X,Y,H)\n",
    "    baise_3=baise_3-lr*vg\n",
    "    theta_3=((theta_3*(1-(lr*(reg/m))))-lr*v_theta)\n",
    "    #print(f'step={i},loss={l}')"
   ]
  },
  {
   "cell_type": "code",
   "execution_count": 211,
   "id": "cbb82d4c",
   "metadata": {},
   "outputs": [
    {
     "data": {
      "image/png": "[encoded data removed]",
      "text/plain": [
       "<Figure size 432x288 with 1 Axes>"
      ]
     },
     "metadata": {
      "needs_background": "light"
     },
     "output_type": "display_data"
    }
   ],
   "source": [
    "plt.plot(XX,YY,'r.')\n",
    "plt.plot(XX,H)\n",
    "plt.show()"
   ]
  },
  {
   "cell_type": "code",
   "execution_count": null,
   "id": "0dc37422",
   "metadata": {},
   "outputs": [],
   "source": []
  }
 ],
 "metadata": {
  "kernelspec": {
   "display_name": "Python 3 (ipykernel)",
   "language": "python",
   "name": "python3"
  },
  "language_info": {
   "codemirror_mode": {
    "name": "ipython",
    "version": 3
   },
   "file_extension": ".py",
   "mimetype": "text/x-python",
   "name": "python",
   "nbconvert_exporter": "python",
   "pygments_lexer": "ipython3",
   "version": "3.10.0"
  }
 },
 "nbformat": 4,
 "nbformat_minor": 5
}
