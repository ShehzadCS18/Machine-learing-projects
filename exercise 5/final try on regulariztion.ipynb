{
 "cells": [
  {
   "cell_type": "code",
   "execution_count": 1,
   "id": "e64b81ab",
   "metadata": {},
   "outputs": [],
   "source": [
    "import numpy as np\n",
    "import pandas as pd\n",
    "import matplotlib.pyplot as plt"
   ]
  },
  {
   "cell_type": "code",
   "execution_count": 2,
   "id": "f58f2e6a",
   "metadata": {},
   "outputs": [],
   "source": [
    "#now load the data\n",
    "X=np.loadtxt('ex5Linx.dat')\n",
    "Y=np.loadtxt('ex5Liny.dat')"
   ]
  },
  {
   "cell_type": "code",
   "execution_count": 3,
   "id": "b922beb7",
   "metadata": {},
   "outputs": [],
   "source": [
    "XX=np.loadtxt('ex5Linx.dat')\n",
    "YY=np.loadtxt('ex5Liny.dat')"
   ]
  },
  {
   "cell_type": "code",
   "execution_count": 4,
   "id": "250aa5e6",
   "metadata": {},
   "outputs": [
    {
     "data": {
      "image/png": "[encoded data removed]",
      "text/plain": [
       "<Figure size 432x288 with 1 Axes>"
      ]
     },
     "metadata": {
      "needs_background": "light"
     },
     "output_type": "display_data"
    }
   ],
   "source": [
    "plt.plot(XX,YY,'r.')\n",
    "plt.show()"
   ]
  },
  {
   "cell_type": "code",
   "execution_count": 5,
   "id": "5c35fc75",
   "metadata": {},
   "outputs": [],
   "source": [
    "X=X.reshape(X.shape[0],1)"
   ]
  },
  {
   "cell_type": "code",
   "execution_count": 6,
   "id": "8c054e72",
   "metadata": {},
   "outputs": [],
   "source": [
    "X2=X**2"
   ]
  },
  {
   "cell_type": "code",
   "execution_count": 7,
   "id": "e65fed8c",
   "metadata": {},
   "outputs": [],
   "source": [
    "X3=X**3"
   ]
  },
  {
   "cell_type": "code",
   "execution_count": 8,
   "id": "91d5c391",
   "metadata": {},
   "outputs": [],
   "source": [
    "X4=X**4"
   ]
  },
  {
   "cell_type": "code",
   "execution_count": 9,
   "id": "64fce8c9",
   "metadata": {},
   "outputs": [],
   "source": [
    "X5=X**5"
   ]
  },
  {
   "cell_type": "code",
   "execution_count": 10,
   "id": "6558c7d8",
   "metadata": {},
   "outputs": [],
   "source": [
    "X=np.concatenate((X,X2,X3,X4,X5),axis=1)"
   ]
  },
  {
   "cell_type": "code",
   "execution_count": 11,
   "id": "4ece3b80",
   "metadata": {},
   "outputs": [],
   "source": [
    "theta_1=np.zeros(X.shape[1])\n",
    "baise_1=0\n"
   ]
  },
  {
   "cell_type": "code",
   "execution_count": 12,
   "id": "7d1635bd",
   "metadata": {},
   "outputs": [
    {
     "data": {
      "text/plain": [
       "array([0., 0., 0., 0., 0.])"
      ]
     },
     "execution_count": 12,
     "metadata": {},
     "output_type": "execute_result"
    }
   ],
   "source": [
    "theta_1"
   ]
  },
  {
   "cell_type": "code",
   "execution_count": 13,
   "id": "480b6d58",
   "metadata": {},
   "outputs": [],
   "source": [
    "def hypothesis(X,theta,baise):\n",
    "    return ((X.dot(theta.T)+baise))"
   ]
  },
  {
   "cell_type": "code",
   "execution_count": 14,
   "id": "63976ca5",
   "metadata": {},
   "outputs": [
    {
     "data": {
      "text/plain": [
       "array([0., 0., 0., 0., 0., 0., 0.])"
      ]
     },
     "execution_count": 14,
     "metadata": {},
     "output_type": "execute_result"
    }
   ],
   "source": [
    "h=hypothesis(X,theta_1,baise_1)\n",
    "h"
   ]
  },
  {
   "cell_type": "code",
   "execution_count": 25,
   "id": "04629e20",
   "metadata": {},
   "outputs": [
    {
     "data": {
      "text/plain": [
       "array([0.5, 0.5, 0.5, 0.5, 0.5, 0.5, 0.5])"
      ]
     },
     "execution_count": 25,
     "metadata": {},
     "output_type": "execute_result"
    }
   ],
   "source": [
    "baise_1=0.5\n",
    "h=hypothesis(X,theta_1,baise_1)\n",
    "h"
   ]
  },
  {
   "cell_type": "code",
   "execution_count": 15,
   "id": "759da5dc",
   "metadata": {},
   "outputs": [],
   "source": [
    "def loss(m,Y,hypo,reg,theta):\n",
    "    return ((1/2*m)*np.sum((hypo-Y)**2+ np.sum((reg*(theta)))))"
   ]
  },
  {
   "cell_type": "code",
   "execution_count": 16,
   "id": "efed54b5",
   "metadata": {},
   "outputs": [],
   "source": [
    "def gradient_baise(m,Y,hypo):\n",
    "    return ((1/m)*np.sum((hypo-Y)))"
   ]
  },
  {
   "cell_type": "code",
   "execution_count": 17,
   "id": "d9d2b4ae",
   "metadata": {},
   "outputs": [],
   "source": [
    "def gradient_theta(m,X,Y,hypo):\n",
    "    return (lr*(1/m))*np.dot(X.T,(hypo-Y))"
   ]
  },
  {
   "cell_type": "code",
   "execution_count": 18,
   "id": "072c47b2",
   "metadata": {},
   "outputs": [],
   "source": [
    "m=X.shape[0]\n",
    "los=[]\n",
    "reg=0\n",
    "lr=0.01\n",
    "for i in range(1000):\n",
    "    H=hypothesis(X,theta_1,baise_1)\n",
    "    l=loss(m,Y,H,reg,theta_1)\n",
    "    los.append(l)\n",
    "    d_baise=gradient_baise(m,Y,H)\n",
    "    d_theta=gradient_theta(m,X,Y,H)\n",
    "    baise_1=baise_1-lr*d_baise\n",
    "    theta_1=theta_1*(1-(lr*(reg/m)))-d_theta"
   ]
  },
  {
   "cell_type": "code",
   "execution_count": 19,
   "id": "387ff850",
   "metadata": {},
   "outputs": [
    {
     "data": {
      "image/png": "[encoded data removed]",
      "text/plain": [
       "<Figure size 432x288 with 1 Axes>"
      ]
     },
     "metadata": {
      "needs_background": "light"
     },
     "output_type": "display_data"
    }
   ],
   "source": [
    "plt.plot(XX,YY,'r.')\n",
    "plt.plot(XX,H)\n",
    "plt.show()"
   ]
  },
  {
   "cell_type": "code",
   "execution_count": 20,
   "id": "df1b140b",
   "metadata": {},
   "outputs": [],
   "source": [
    "m=X.shape[0]\n",
    "los=[]\n",
    "reg=1\n",
    "lr=0.01\n",
    "for i in range(1000):\n",
    "    H=hypothesis(X,theta_1,baise_1)\n",
    "    l=loss(m,Y,H,reg,theta_1)\n",
    "    los.append(l)\n",
    "    d_baise=gradient_baise(m,Y,H)\n",
    "    d_theta=gradient_theta(m,X,Y,H)\n",
    "    baise_1=baise_1-lr*d_baise\n",
    "    theta_1=theta_1*(1-(lr*(reg/m)))-d_theta"
   ]
  },
  {
   "cell_type": "code",
   "execution_count": 59,
   "id": "d55a1c66",
   "metadata": {},
   "outputs": [
    {
     "data": {
      "image/png": "[encoded data removed]",
      "text/plain": [
       "<Figure size 432x288 with 1 Axes>"
      ]
     },
     "metadata": {
      "needs_background": "light"
     },
     "output_type": "display_data"
    }
   ],
   "source": [
    "plt.plot(XX,YY,'r.')\n",
    "plt.plot(XX,H)\n",
    "plt.show()"
   ]
  },
  {
   "cell_type": "code",
   "execution_count": 21,
   "id": "827b4425",
   "metadata": {},
   "outputs": [],
   "source": [
    "m=X.shape[0]\n",
    "los=[]\n",
    "reg=10\n",
    "lr=0.01\n",
    "for i in range(1000):\n",
    "    H=hypothesis(X,theta_1,baise_1)\n",
    "    l=loss(m,Y,H,reg,theta_1)\n",
    "    los.append(l)\n",
    "    d_baise=gradient_baise(m,Y,H)\n",
    "    d_theta=gradient_theta(m,X,Y,H)\n",
    "    baise_1=baise_1-lr*d_baise\n",
    "    theta_1=theta_1*(1-(lr*(reg/m)))-d_theta"
   ]
  },
  {
   "cell_type": "code",
   "execution_count": 61,
   "id": "11da3818",
   "metadata": {},
   "outputs": [
    {
     "data": {
      "image/png": "[encoded data removed]",
      "text/plain": [
       "<Figure size 432x288 with 1 Axes>"
      ]
     },
     "metadata": {
      "needs_background": "light"
     },
     "output_type": "display_data"
    }
   ],
   "source": [
    "plt.plot(XX,YY,'r.')\n",
    "plt.plot(XX,H)\n",
    "plt.show()"
   ]
  },
  {
   "cell_type": "code",
   "execution_count": null,
   "id": "525ee73c",
   "metadata": {},
   "outputs": [],
   "source": []
  }
 ],
 "metadata": {
  "kernelspec": {
   "display_name": "Python 3 (ipykernel)",
   "language": "python",
   "name": "python3"
  },
  "language_info": {
   "codemirror_mode": {
    "name": "ipython",
    "version": 3
   },
   "file_extension": ".py",
   "mimetype": "text/x-python",
   "name": "python",
   "nbconvert_exporter": "python",
   "pygments_lexer": "ipython3",
   "version": "3.10.0"
  }
 },
 "nbformat": 4,
 "nbformat_minor": 5
}
